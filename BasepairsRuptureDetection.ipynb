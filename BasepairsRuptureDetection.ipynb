{
 "cells": [
  {
   "cell_type": "code",
   "execution_count": 1,
   "id": "continuing-reflection",
   "metadata": {},
   "outputs": [],
   "source": [
    "import os\n",
    "from __future__ import division\n",
    "import numpy as np\n",
    "import matplotlib.pyplot as plt\n",
    "import pandas as pd\n",
    "import ruptures as rpt\n",
    "from __future__ import division\n",
    "from more_itertools import chunked\n",
    "%matplotlib widget"
   ]
  },
  {
   "cell_type": "code",
   "execution_count": 2,
   "id": "persistent-sally",
   "metadata": {},
   "outputs": [
    {
     "name": "stdin",
     "output_type": "stream",
     "text": [
      "please type in the file name: 20191017-015-2\n",
      "please type in the file path: C:\\Users\\86183\\Google Cloud\\Work with Matthew\\Watching labelled DNAP replication\\20191017-015-2-exo+pol -good +5mM Mg2+\n"
     ]
    }
   ],
   "source": [
    "# name example: 20200304-160513 10pN- 30nM DNAp + 150nM_gp2.5 + 0.1mg_mL_BSA #019-002\n",
    "name = input('please type in the file name:' ) + '.xlsx'\n",
    "# path example: C:\\Users\\KTS260\\Desktop\n",
    "path = input('please type in the file path:')\n",
    "filename = os.path.join(path, name) "
   ]
  },
  {
   "cell_type": "code",
   "execution_count": null,
   "id": "material-reward",
   "metadata": {},
   "outputs": [],
   "source": [
    "# For simple use, we inport data in a excel file\n",
    "sheet_name = \"Sheet1\"\n",
    "data =  pd.read_excel(filename,sheet_name = sheet_name)\n",
    "time = data['time']/1000\n",
    "time = np.array(time)\n",
    "basepairs = data['basepairs'] # 1D array\n",
    "basepairs = np.array(basepairs)\n",
    "plt.figure(figsize = (6,6))\n",
    "plt.plot(time, basepairs)\n",
    "plt.xlabel('Time/s')\n",
    "plt.ylabel('Basepairs')\n",
    "plt.title('Example Basepairs-Time')\n",
    "#plt.plot(dbphat10_1_dt)\n",
    "plt.show()"
   ]
  },
  {
   "cell_type": "code",
   "execution_count": 6,
   "id": "compound-bhutan",
   "metadata": {},
   "outputs": [
    {
     "name": "stdin",
     "output_type": "stream",
     "text": [
      "please type in the starting time of interest: 30\n",
      "please type in the ending time of interest: 42\n"
     ]
    }
   ],
   "source": [
    "# please enter the time interval of interest (ROI)\n",
    "time_from = float(input('please type in the starting time of interest:'))\n",
    "time_to = float(input('please type in the ending time of interest:'))"
   ]
  },
  {
   "cell_type": "code",
   "execution_count": 7,
   "id": "domestic-breathing",
   "metadata": {},
   "outputs": [],
   "source": [
    "# here you will select and analyze your interesting cycle with corresponding time range; \n",
    "# Or you will analyze the whole trace at one witm\n",
    "\n",
    "# define a temporary index to compute time of ROI, and subsuquent ROI of force, distance\n",
    "indtemp = np.where((time <= time_to) & (time >= time_from))\n",
    "\n",
    "time_ROI = time[indtemp]\n",
    "basepairs_ROI = basepairs[indtemp]\n",
    "# basepairs = basepairs_ROI"
   ]
  },
  {
   "cell_type": "code",
   "execution_count": 8,
   "id": "innovative-basement",
   "metadata": {},
   "outputs": [
    {
     "data": {
      "application/vnd.jupyter.widget-view+json": {
       "model_id": "ef271459f60244f083b9d4be184508db",
       "version_major": 2,
       "version_minor": 0
      },
      "text/plain": [
       "Canvas(toolbar=Toolbar(toolitems=[('Home', 'Reset original view', 'home', 'home'), ('Back', 'Back to previous …"
      ]
     },
     "metadata": {},
     "output_type": "display_data"
    }
   ],
   "source": [
    "# From now on we work on change point detection\n",
    "signal = basepairs_ROI  # 1D array\n",
    "\n",
    "# Apply proper model & searching method to work on change point detection\n",
    "model = \"l2\"  # \"l1\", \"rbf\", \"linear\", \"normal\", \"ar\",...\n",
    "\n",
    "# For faster predictions, one can modify the jump parameter during initialization. The higher it is, the faster the prediction is achieved (at the expense of precision).\n",
    "# There are plenty of models can be used for change point detection; but only rpt.Pelt seems to work with a algo.predict(pen=)\n",
    "algo = rpt.Pelt(model=model, jump=1).fit(signal)\n",
    "# algo = rpt.BottomUp(model=model).fit(signal)\n",
    "# algo = rpt.Window(width=40, model=model).fit(signal)\n",
    "# algo = rpt.Binseg(model=model).fit(signal)\n",
    "# algo = rpt.Dynp(model=\"rbf\", params=params, jump=1, min_size=2).fit(signal)\n",
    "\n",
    "\n",
    "# In our case, the number of change points is unknown, we need to specify a threshold on the residual norm using epsilon or a penalty using the pen parameter.\n",
    "# n = number of samples\n",
    "# sigma = noise standard deviation; the bigger the sigma, the less break points\n",
    "# dim = dimention\n",
    "n = len(signal)\n",
    "sigma = 20\n",
    "# my_bkps = algo.predict(epsilon=3 * n * sigma ** 2)\n",
    "# # or\n",
    "dim = 1\n",
    "my_bkps = algo.predict(pen=np.log(n) * dim * sigma ** 2)\n",
    "## or you can assign a breakpoint number, e.g.:\n",
    "# my_bkps = algo.predict(n_bkps=3)\n",
    "\n",
    "# show results\n",
    "fig, (ax,) = rpt.display(signal, my_bkps, figsize=(8, 4))\n",
    "\n",
    "plt.xlabel('Data Index')\n",
    "plt.ylabel('Basepairs')\n",
    "plt.title('Rupture Detection')\n",
    "plt.show()\n",
    "plt.tight_layout()"
   ]
  },
  {
   "cell_type": "code",
   "execution_count": 9,
   "id": "facial-practitioner",
   "metadata": {},
   "outputs": [],
   "source": [
    "# my_bkps returns index of break points\n",
    "# trace back to time-basepair based on index\n",
    "time_bkp = np.zeros(len(my_bkps)-1)\n",
    "bps_bkp = np.zeros(len(my_bkps)-1)\n",
    "\n",
    "# to exclude the last value\n",
    "time_bkp = time_ROI[my_bkps[0:-1]]\n",
    "bps_bkp = basepairs_ROI[my_bkps[0:-1]]\n",
    "\n",
    "# for ind in range(len(my_bkps)-1):\n",
    "#     time_bkp[ind] = time_ROI[my_bkps[ind]]\n",
    "#     bps_bkp[ind] = basepairs_ROI[my_bkps[ind]]\n",
    "\n",
    "# to add the first value and last value to array\n",
    "time_bkp = np.insert(time_bkp,0,time_ROI[0])\n",
    "time_bkp = np.append(time_bkp,time_ROI[-1])\n",
    "bps_bkp = np.insert(bps_bkp,0,basepairs_ROI[0])\n",
    "bps_bkp = np.append(bps_bkp,basepairs_ROI[-1])\n",
    "# bks = np.append(time_bkp,bps_bkp, axis=-1).reshape((2,len(my_bkps)+1)).T\n"
   ]
  },
  {
   "cell_type": "code",
   "execution_count": 10,
   "id": "inappropriate-produce",
   "metadata": {},
   "outputs": [
    {
     "name": "stdout",
     "output_type": "stream",
     "text": [
      "[2.148 2.5   0.4   0.55  0.4   1.    0.298 0.351 0.65  0.301 0.249 0.4\n",
      " 0.6   0.601 0.598 0.249 0.55  0.102]\n",
      "[-47.59853 -35.31519 -39.8978  -36.92262 -36.5224  -46.94765 -53.93152\n",
      " -65.63654 -51.52807 -62.21937 -60.00722 -27.74859 -37.02377 -52.52199\n",
      " -22.77016 -56.6978  -50.24387  -6.42095]\n",
      "[ -22.15946462  -14.126076    -99.7445      -67.13203636  -91.306\n",
      "  -46.94765    -180.97825503 -186.99868946  -79.27395385 -206.70887043\n",
      " -240.99285141  -69.371475    -61.70628333  -87.39099834  -38.07719064\n",
      " -227.70200803  -91.35249091  -62.9504902 ]\n"
     ]
    }
   ],
   "source": [
    "duration_time = np.diff(time_bkp)\n",
    "processivity_event = np.diff(bps_bkp)\n",
    "speed = processivity_event / duration_time \n",
    "print(duration_time)\n",
    "print(processivity_event)\n",
    "print(speed)"
   ]
  },
  {
   "cell_type": "code",
   "execution_count": 11,
   "id": "above-monaco",
   "metadata": {},
   "outputs": [],
   "source": [
    "excel_filename = filename + '-' + sheet_name + str(time_from) + '-' +str(time_to) + '.xlsx'\n",
    "\n",
    "writer = pd.ExcelWriter(excel_filename)\n",
    "data_1 = {'breaking time/s':time_bkp,\n",
    "        'breaking position/bp':bps_bkp}\n",
    "data_2 = {'event duration/s':duration_time,\n",
    "        'event processivity/bp':processivity_event,\n",
    "        'velocity/(bp/s)':speed}\n",
    "df_1= pd.DataFrame(data_1)\n",
    "df_2 = pd.DataFrame(data_2)\n",
    "\n",
    "df_1.to_excel(writer,sheet_name ='breaking points', index=False)\n",
    "df_2.to_excel(writer,sheet_name ='final data', index=False)\n",
    "\n",
    "writer.save()"
   ]
  },
  {
   "cell_type": "code",
   "execution_count": 12,
   "id": "ongoing-force",
   "metadata": {},
   "outputs": [
    {
     "name": "stdout",
     "output_type": "stream",
     "text": [
      "-104.16218242222136\n",
      "16.39283650442368\n"
     ]
    }
   ],
   "source": [
    "from scipy import stats\n",
    "sem = stats.sem(speed, axis=None, ddof=0)\n",
    "avg = np.mean(speed)\n",
    "\n",
    "print(avg)\n",
    "print(sem)"
   ]
  },
  {
   "cell_type": "code",
   "execution_count": 13,
   "id": "toxic-makeup",
   "metadata": {},
   "outputs": [
    {
     "data": {
      "application/vnd.jupyter.widget-view+json": {
       "model_id": "02e822d5904d46f49eaea953579f7f61",
       "version_major": 2,
       "version_minor": 0
      },
      "text/plain": [
       "Canvas(toolbar=Toolbar(toolitems=[('Home', 'Reset original view', 'home', 'home'), ('Back', 'Back to previous …"
      ]
     },
     "metadata": {},
     "output_type": "display_data"
    }
   ],
   "source": [
    "fig, ax = plt.subplots(figsize=(6, 4))\n",
    "n_bins = 30\n",
    "n, bins, patches = ax.hist(speed, n_bins)\n",
    "ax.set_title('Pol Rate')\n",
    "ax.set_xlabel('Pol Rate(bp/s)')\n",
    "ax.set_ylabel('Occurrence')\n",
    "plt.show()\n",
    "plt.tight_layout()"
   ]
  },
  {
   "cell_type": "code",
   "execution_count": 27,
   "id": "palestinian-friendly",
   "metadata": {},
   "outputs": [
    {
     "data": {
      "application/vnd.jupyter.widget-view+json": {
       "model_id": "5a60ae60cde143af96e9a03ac994b533",
       "version_major": 2,
       "version_minor": 0
      },
      "text/plain": [
       "Canvas(toolbar=Toolbar(toolitems=[('Home', 'Reset original view', 'home', 'home'), ('Back', 'Back to previous …"
      ]
     },
     "metadata": {},
     "output_type": "display_data"
    }
   ],
   "source": [
    "plt.figure(figsize=(10,6))\n",
    "# plt.plot(time_10pN/1000,basepairs_10pN)\n",
    "plt.plot(time_ROI, basepairs_ROI)\n",
    "plt.scatter(time_bkp,bps_bkp, marker = \"^\",s=50,color='red')\n",
    "plt.xlabel('Time/s')\n",
    "plt.ylabel('Basepairs')\n",
    "plt.title('Example Rupture Detection')\n",
    "plt.tight_layout()\n",
    "\n",
    "# plt.savefig(\"C:\\\\Users\\\\KTS260\\\\Desktop\\\\' + name + '-cycle#'+ cycle + '.png\",dpi=None, facecolor='w', edgecolor='w',\n",
    "#         orientation='portrait',format=None,\n",
    "#         transparent=False, bbox_inches=None, pad_inches=0.1,\n",
    "#         metadata=None)\n",
    "# plt.savefig(cycledic + '.png')\n",
    "plt.show()"
   ]
  },
  {
   "cell_type": "code",
   "execution_count": null,
   "id": "greek-distributor",
   "metadata": {},
   "outputs": [],
   "source": []
  }
 ],
 "metadata": {
  "kernelspec": {
   "display_name": "Python 3",
   "language": "python",
   "name": "python3"
  },
  "language_info": {
   "codemirror_mode": {
    "name": "ipython",
    "version": 3
   },
   "file_extension": ".py",
   "mimetype": "text/x-python",
   "name": "python",
   "nbconvert_exporter": "python",
   "pygments_lexer": "ipython3",
   "version": "3.8.8"
  }
 },
 "nbformat": 4,
 "nbformat_minor": 5
}
