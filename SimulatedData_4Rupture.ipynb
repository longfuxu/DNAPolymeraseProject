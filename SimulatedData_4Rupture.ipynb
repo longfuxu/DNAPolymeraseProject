{
 "cells": [
  {
   "cell_type": "code",
   "execution_count": 1,
   "id": "lyric-fashion",
   "metadata": {},
   "outputs": [],
   "source": [
    "##### -*-coding:utf-8 -*-\n",
    "# import all the libraries \n",
    "# python==3.8; jupyterlab==3.0.12; lumicks.pylake==0.8.1; matplotlib==3.3.4; more-itertools==8.7.0;\n",
    "# npTDMS==1.1.0; numpy==1.20.1; opencv-python==4.5.1.48; pandas==1.2.3; scipy==1.6.1; tifffile==2021.3.5\n",
    "import os\n",
    "import numpy as np\n",
    "import matplotlib.pyplot as plt\n",
    "import pandas as pd\n",
    "from __future__ import division\n",
    "import ruptures as rpt\n",
    "import pwlf\n",
    "from scipy import interpolate\n",
    "from __future__ import division\n",
    "from more_itertools import chunked\n",
    "%matplotlib widget"
   ]
  },
  {
   "cell_type": "markdown",
   "id": "empirical-subscriber",
   "metadata": {},
   "source": [
    "# In order to find optimal parameters for the rupture algrithm, we tried different penelty value based on the times of sigma, and compare the results of detected change-point and residuals\n",
    "# To this end, we first generate linear segments with similar vertical resolutuion (thousands of basepairs) and time resolution (20HZ), and add gussain noise with a standard deveation of sigma=20\n",
    "# In oder to calculate the residual, an interpolate performance is applied to get the estimate of detected change-point "
   ]
  },
  {
   "cell_type": "code",
   "execution_count": 2,
   "id": "designing-garbage",
   "metadata": {},
   "outputs": [
    {
     "data": {
      "application/vnd.jupyter.widget-view+json": {
       "model_id": "0411bf51025b44a1b48b07089566810d",
       "version_major": 2,
       "version_minor": 0
      },
      "text/plain": [
       "Canvas(toolbar=Toolbar(toolitems=[('Home', 'Reset original view', 'home', 'home'), ('Back', 'Back to previous …"
      ]
     },
     "metadata": {},
     "output_type": "display_data"
    }
   ],
   "source": [
    "# generate linear segments data\n",
    "time = np.linspace(0,220,4400)\n",
    "\n",
    "y1 = np.linspace(10000,9500,400)\n",
    "y2 = np.linspace(9500,8500,500)\n",
    "y3 = np.linspace(8500,8500,500)\n",
    "y4 = np.linspace(8500,8000,700)\n",
    "y5 = np.linspace(8000,5000,1100)\n",
    "y6 = np.linspace(5000,5000,200)\n",
    "y7 = np.linspace(5000,6500,400)\n",
    "y8 = np.linspace(6500,7000,200)\n",
    "y9 = np.linspace(7000,7300,100)\n",
    "y10 = np.linspace(7300,7300,300)\n",
    "e = [y1,y2,y3,y4,y5,y6,y7,y8,y9,y10]\n",
    "raw_signal = [y for x in e for y in x]\n",
    "raw_signal = np.array(raw_signal)\n",
    "# print(len(signal))\n",
    "\n",
    "# # generate sin wave data\n",
    "# x = np.linspace(0, 10, num=10000)\n",
    "# y = np.sin(x * np.pi / 2)\n",
    "# # add noise to the data\n",
    "# y = np.random.normal(0, 0.1, 10000) + y\n",
    "\n",
    "# # plot the results\n",
    "# plt.figure()\n",
    "# plt.plot(x, y, 'o')\n",
    "# plt.show()\n",
    "\n",
    "# add noise to the data\n",
    "sigma = 20\n",
    "noise = np.random.normal(0, sigma, 4400) \n",
    "signal = raw_signal + noise\n",
    "\n",
    "# plot the results\n",
    "plt.figure(figsize=(5,4))\n",
    "\n",
    "plt.plot(time, signal, label = \"Guassian Noise\")\n",
    "plt.plot(time, raw_signal,label = \"Simulated Data\")\n",
    "\n",
    "plt.xlabel(\"Time Series\")\n",
    "plt.ylabel(\"Simulated Signal\")\n",
    "plt.title(\"Simulated Data and PLRupture Detection\")\n",
    "plt.legend()\n",
    "plt.tight_layout()\n",
    "plt.show()"
   ]
  },
  {
   "cell_type": "code",
   "execution_count": 6,
   "id": "automated-enterprise",
   "metadata": {},
   "outputs": [],
   "source": [
    "# this is to save the simulated data in txt and excel for further use\n",
    "filename = r\"C:\\Users\\KTS260\\Desktop\\simulated_data\"\n",
    "txtpath = filename + '.txt'\n",
    "xlspath = filename + '.xlsx'\n",
    "\n",
    "txt_data = open(txtpath, \"w\")\n",
    "column = np.column_stack((time, signal)) \n",
    "np.savetxt(txt_data, column,delimiter=\" , \")\n",
    "txt_data.close()\n",
    "\n",
    "# Save all the simulated data in an excel file\n",
    "writer = pd.ExcelWriter(xlspath)\n",
    "data = {'time':time,\n",
    "        'signal':signal}\n",
    "df = pd.DataFrame(data)\n",
    "df.to_excel(writer)\n",
    "writer.save()"
   ]
  },
  {
   "cell_type": "code",
   "execution_count": 156,
   "id": "sporting-angola",
   "metadata": {},
   "outputs": [],
   "source": [
    "# PLRupture is an improved changing point detection model based on rupture and piece-linear wise function\n",
    "def PLRupture(signal,time,sigma):\n",
    "    time_ROI = time\n",
    "    basepairs_ROI = signal\n",
    "\n",
    "# Apply proper model & searching method to work on change point detection\n",
    "    model = \"l2\"  # \"l1\", \"rbf\", \"linear\", \"normal\", \"ar\",...\n",
    "\n",
    "# For faster predictions, one can modify the jump parameter during initialization. The higher it is, the faster the prediction is achieved (at the expense of precision).\n",
    "# There are plenty of models can be used for change point detection; but only rpt.Pelt seems to work with a algo.predict(pen=)\n",
    "    algo = rpt.Pelt(model=model, jump=1).fit(signal)\n",
    "\n",
    "# In our case, the number of change points is unknown, we need to specify a threshold on the residual norm using epsilon or a penalty using the pen parameter.\n",
    "# n = number of samples\n",
    "# sigma = noise standard deviation; the bigger the sigma, the less break points\n",
    "# dim = dimention, in this case: dim = 1\n",
    "    n = len(signal)\n",
    "    dim = 1\n",
    "# https://centre-borelli.github.io/ruptures-docs/user-guide/detection/bottomup/#:~:text=In%20the%20situation,n%20*%20sigma%20**%202)\n",
    "# penelty constant = np.log(n) * dim * sigma ** 2\n",
    "    my_bkps = algo.predict(pen=np.log(n) * dim * sigma ** 2)\n",
    "\n",
    "# trace back to time-basepair based on index\n",
    "    time_bkp = np.zeros(len(my_bkps)-1)\n",
    "    bps_bkp = np.zeros(len(my_bkps)-1)\n",
    "\n",
    "# to exclude the last value\n",
    "    time_bkp = time_ROI[my_bkps[0:-1]]\n",
    "    bps_bkp = basepairs_ROI[my_bkps[0:-1]]\n",
    "\n",
    "# to add the first value and last value to array\n",
    "    time_bkp = np.insert(time_bkp,0,time_ROI[0])\n",
    "    time_bkp = np.append(time_bkp,time_ROI[-1])\n",
    "    bps_bkp = np.insert(bps_bkp,0,basepairs_ROI[0])\n",
    "    bps_bkp = np.append(bps_bkp,basepairs_ROI[-1])\n",
    "    \n",
    "# # initialize piecewise linear fit with your x and y data\n",
    "#     my_pwlf = pwlf.PiecewiseLinFit(time_ROI, basepairs_ROI)\n",
    "\n",
    "# # Uses L-BFGS-B optimization to find the location of breakpoints from a guess of where breakpoint locations should be.\n",
    "#     time_bkp = my_pwlf.fit_guess(time_bkp)\n",
    "\n",
    "#     from scipy import interpolate\n",
    "#     func_2 = interpolate.interp1d(time_ROI, basepairs_ROI,kind='slinear',fill_value=\"extrapolate\")\n",
    "#     bps_bkp = func_2(time_bkp)\n",
    "\n",
    "# # bks = np.append(time_bkp,bps_bkp, axis=-1).reshape((2,len(my_bkps)+1)).T\n",
    "#     duration_time = np.diff(time_bkp)\n",
    "#     processivity_event = np.diff(bps_bkp)\n",
    "#     speed = processivity_event / duration_time\n",
    "#     bound_duration = time_bkp[-1] - time_bkp[0]\n",
    "#     bound_processivity = bps_bkp[-1] - bps_bkp[0]\n",
    "    return time_bkp,bps_bkp\n"
   ]
  },
  {
   "cell_type": "code",
   "execution_count": 157,
   "id": "sealed-current",
   "metadata": {},
   "outputs": [],
   "source": [
    "time_bkp,bps_bkp = PLRupture(signal,time,75*sigma)"
   ]
  },
  {
   "cell_type": "code",
   "execution_count": 158,
   "id": "burning-terrorist",
   "metadata": {},
   "outputs": [
    {
     "data": {
      "application/vnd.jupyter.widget-view+json": {
       "model_id": "e1c2e43f06264b6db2092e551f544351",
       "version_major": 2,
       "version_minor": 0
      },
      "text/plain": [
       "Canvas(toolbar=Toolbar(toolitems=[('Home', 'Reset original view', 'home', 'home'), ('Back', 'Back to previous …"
      ]
     },
     "metadata": {},
     "output_type": "display_data"
    }
   ],
   "source": [
    "# plot the simulated data and change-point detecting results\n",
    "plt.figure(figsize=(5,4))\n",
    "\n",
    "plt.plot(time, signal, label = \"Guassian Noise\")\n",
    "plt.plot(time, raw_signal,label = \"Simulated Data\")\n",
    "plt.scatter(time_bkp,bps_bkp,marker = \"*\",c = 'y', s = 100, label = \"change-point\")\n",
    "\n",
    "plt.xlabel(\"Time Series\")\n",
    "plt.ylabel(\"Simulated Signal\")\n",
    "plt.title(\"Simulated Data and PLRupture Detection\")\n",
    "plt.legend()\n",
    "plt.tight_layout()\n",
    "plt.show()"
   ]
  },
  {
   "cell_type": "code",
   "execution_count": 159,
   "id": "unlikely-modeling",
   "metadata": {},
   "outputs": [
    {
     "name": "stdout",
     "output_type": "stream",
     "text": [
      "12\n",
      "12\n",
      "[10012.91431951  9423.60796188  8696.16492863  8417.69656809\n",
      "  7818.24175295  5543.65153656  5546.34094429  6464.85243493\n",
      "  6980.3437411   7057.82282666  7290.26008333]\n",
      "738704.9073503715\n"
     ]
    }
   ],
   "source": [
    "# print the number of detected change-points\n",
    "print(len(bps_bkp))\n",
    "print(len(time_bkp))\n",
    "\n",
    "#\n",
    "real_bkp = np.array([10000,9500,8500,8500,8000,5000,5000,6500,7000,7300,7300])\n",
    "real_tkp = np.array([0,20,45,70,105,160,170,190,200,205,220])\n",
    "\n",
    "from scipy import interpolate\n",
    "func = interpolate.interp1d(time_bkp,bps_bkp,kind='slinear',fill_value=\"extrapolate\")\n",
    "predic_bkp = func(real_tkp)\n",
    "residual = np.sum((predic_bkp-real_bkp)**2)\n",
    "\n",
    "# print((predic_bkp-real_bkp)**2)\n",
    "print(predic_bkp)\n",
    "print(residual)"
   ]
  },
  {
   "cell_type": "code",
   "execution_count": 160,
   "id": "stainless-sugar",
   "metadata": {},
   "outputs": [
    {
     "data": {
      "application/vnd.jupyter.widget-view+json": {
       "model_id": "ed78d964c04c41dfac140dc9a675ebad",
       "version_major": 2,
       "version_minor": 0
      },
      "text/plain": [
       "Canvas(toolbar=Toolbar(toolitems=[('Home', 'Reset original view', 'home', 'home'), ('Back', 'Back to previous …"
      ]
     },
     "metadata": {},
     "output_type": "display_data"
    }
   ],
   "source": [
    "# plot the detected change-points as a function of number of sigma\n",
    "plt.figure(figsize=(5,4))\n",
    "\n",
    "sigma_arr = np.array([1,2,5,10,20,50,75,100,500])\n",
    "detected_change_points = np.array([193,128,72,44,29,16,12,10,3])\n",
    "\n",
    "plt.scatter(sigma_arr,detected_change_points,marker = \"*\", s = 100, label = \"number of Detected Change-Points\")\n",
    "\n",
    "plt.xlabel(\"Number of Sigma\")\n",
    "plt.ylabel(\"Number of Detected Change-points\")\n",
    "plt.title(\"Detected Change-points as a Function of Sigma\")\n",
    "plt.xscale('log')\n",
    "plt.yscale('log')\n",
    "plt.legend()\n",
    "plt.tight_layout()\n",
    "plt.show()"
   ]
  },
  {
   "cell_type": "code",
   "execution_count": 161,
   "id": "sublime-jaguar",
   "metadata": {},
   "outputs": [
    {
     "data": {
      "application/vnd.jupyter.widget-view+json": {
       "model_id": "790e180346ff47609620fd3fb27d8281",
       "version_major": 2,
       "version_minor": 0
      },
      "text/plain": [
       "Canvas(toolbar=Toolbar(toolitems=[('Home', 'Reset original view', 'home', 'home'), ('Back', 'Back to previous …"
      ]
     },
     "metadata": {},
     "output_type": "display_data"
    }
   ],
   "source": [
    "# plot the residuals as a function of number of sigma\n",
    "plt.figure(figsize=(5,4))\n",
    "\n",
    "sigma_arr = np.array([1,2,5,10,20,50,75,100,500])\n",
    "residual_arr = np.array([8390,7498,25832,40925,92032,664496,347610,1350853,12626854])\n",
    "residual_norm = residual_arr/(np.max(residual_arr))\n",
    "\n",
    "plt.scatter(sigma_arr,residual_norm,marker = \"^\", s = 100, label = \"number of Detected Change-Points\")# plt.scatter(sigma_arr,detected_change_points,marker = \"*\", s = 100, label = \"Normalized Residuals\")\n",
    "\n",
    "plt.xlabel(\"Number of Sigma\")\n",
    "plt.ylabel(\"Normalized Residual\")\n",
    "plt.title(\"Normalized Residual as a Function of Sigma\")\n",
    "plt.xscale('log')\n",
    "plt.yscale('log')\n",
    "plt.legend()\n",
    "plt.tight_layout()\n",
    "plt.show()"
   ]
  }
 ],
 "metadata": {
  "kernelspec": {
   "display_name": "Python 3 (ipykernel)",
   "language": "python",
   "name": "python3"
  },
  "language_info": {
   "codemirror_mode": {
    "name": "ipython",
    "version": 3
   },
   "file_extension": ".py",
   "mimetype": "text/x-python",
   "name": "python",
   "nbconvert_exporter": "python",
   "pygments_lexer": "ipython3",
   "version": "3.9.6"
  }
 },
 "nbformat": 4,
 "nbformat_minor": 5
}
