{
 "cells": [
  {
   "cell_type": "code",
   "execution_count": 1,
   "id": "instant-honolulu",
   "metadata": {},
   "outputs": [],
   "source": [
    "##### -*-coding:utf-8 -*-\n",
    "# import all the libraries \n",
    "# python==3.8; jupyterlab==3.0.12; lumicks.pylake==0.8.1; matplotlib==3.3.4; more-itertools==8.7.0;\n",
    "# npTDMS==1.1.0; numpy==1.20.1; opencv-python==4.5.1.48; pandas==1.2.3; scipy==1.6.1; tifffile==2021.3.5\n",
    "import os\n",
    "import numpy as np\n",
    "import matplotlib.pyplot as plt\n",
    "import pandas as pd\n",
    "from __future__ import division\n",
    "import ruptures as rpt\n",
    "import pwlf\n",
    "from scipy import interpolate\n",
    "from __future__ import division\n",
    "from more_itertools import chunked\n",
    "%matplotlib widget"
   ]
  },
  {
   "cell_type": "code",
   "execution_count": 2,
   "id": "thirty-comment",
   "metadata": {},
   "outputs": [
    {
     "name": "stdin",
     "output_type": "stream",
     "text": [
      "please type in the file name: image data-cycle#1-TimeIntensity\n",
      "please type in the file path: C:\\Users\\86183\\Desktop\\20190529-012\n"
     ]
    },
    {
     "name": "stdout",
     "output_type": "stream",
     "text": [
      "   Unnamed: 0     time/s  intensity_binarized\n",
      "0           0  11.086612                    1\n",
      "1           1  11.299816                    1\n",
      "2           2  11.513020                    1\n",
      "3           3  11.726224                    1\n",
      "4           4  11.939429                    1\n"
     ]
    }
   ],
   "source": [
    "# read and plot the binarized intensity trace calculated from image data\n",
    "intens_name = input('please type in the file name:' ) + '.xlsx'\n",
    "intens_path = input('please type in the file path:')\n",
    "intens_file = os.path.join(intens_path, intens_name) \n",
    "intens = pd.read_excel(intens_file,sheet_name = 'Sheet1')\n",
    "print(intens.head())"
   ]
  },
  {
   "cell_type": "code",
   "execution_count": 3,
   "id": "exciting-meter",
   "metadata": {},
   "outputs": [
    {
     "name": "stdin",
     "output_type": "stream",
     "text": [
      "please type in the processing cycle(e.g: 1): 1\n"
     ]
    }
   ],
   "source": [
    "intens_cycle = str('#') + input('please type in the processing cycle(e.g: 1):' )"
   ]
  },
  {
   "cell_type": "code",
   "execution_count": 4,
   "id": "indonesian-clear",
   "metadata": {},
   "outputs": [],
   "source": [
    "# the following code blocks are intended to find out the bound protein events, \n",
    "# by splitting binarized intensity-time plots into sub-segments based on zero value\n",
    "# step 1: reading the binarized intensity and time, followed by finding all the zero value points\n",
    "time_intens = intens['time/s']\n",
    "time_intens = np.array(time_intens)\n",
    "intensity = intens['intensity_binarized']\n",
    "intensity = np.array(intensity)\n",
    "index = np.where(intensity==0)[0]\n",
    "index = np.insert(index,0,0)\n",
    "index = np.append(index,len(intensity))\n",
    "# print(index)\n",
    "# print(len(index))\n"
   ]
  },
  {
   "cell_type": "code",
   "execution_count": 6,
   "id": "ranging-toner",
   "metadata": {},
   "outputs": [],
   "source": [
    "# step 2: creating sub-segments from one zero-value to next zero-value\n",
    "time_list = []\n",
    "for i, value in enumerate(index):\n",
    "    try:\n",
    "        time_lis = time_intens[index[i]:index[i+1]]\n",
    "    except IndexError:\n",
    "        pass\n",
    "    time_list.append(time_lis)   \n",
    "# print(time_list)"
   ]
  },
  {
   "cell_type": "code",
   "execution_count": 7,
   "id": "intended-salem",
   "metadata": {},
   "outputs": [],
   "source": [
    "# step 3: filtering the sub-segments without or only 1 one-value, \n",
    "# which indicates no protein occurs or protein occurs for only one pixel time\n",
    "# this returns the bound events!!\n",
    "filter_dots = 3 # default value is 3\n",
    "time_lst = [x for x in time_list if x.size > filter_dots]\n",
    "# print(len(time_lst))"
   ]
  },
  {
   "cell_type": "code",
   "execution_count": 8,
   "id": "exposed-logistics",
   "metadata": {},
   "outputs": [
    {
     "name": "stdout",
     "output_type": "stream",
     "text": [
      "[11.29981632653061, 29.20895918367347, 33.25983673469388, 47.54451020408163, 59.27073469387755, 83.14959183673469, 103.6171836734694, 110.8661224489796]\n",
      "[27.29012244897959, 31.341, 39.22955102040816, 53.51422448979591, 77.17987755102041, 98.50028571428571, 108.7340816326531, 119.6074897959184]\n"
     ]
    }
   ],
   "source": [
    "# step 4: calculating the starting time and ending time of the segments\n",
    "start_time = []\n",
    "end_time = []\n",
    "for arr in time_lst:\n",
    "    start_time.append(arr[1])\n",
    "    end_time.append(arr[-1])\n",
    "print(start_time)\n",
    "print(end_time)"
   ]
  },
  {
   "cell_type": "code",
   "execution_count": 9,
   "id": "amazing-gentleman",
   "metadata": {},
   "outputs": [
    {
     "name": "stdin",
     "output_type": "stream",
     "text": [
      "please type in the force transision time in s: 62.5\n"
     ]
    },
    {
     "name": "stdout",
     "output_type": "stream",
     "text": [
      "[11.29981632653061, 29.20895918367347, 33.25983673469388, 47.54451020408163, 59.27073469387755]\n",
      "[27.29012244897959, 31.341, 39.22955102040816, 53.51422448979591, 62.5]\n",
      "[62.5, 83.14959183673469, 103.6171836734694, 110.8661224489796]\n",
      "[77.17987755102041, 98.50028571428571, 108.7340816326531, 119.6074897959184]\n"
     ]
    }
   ],
   "source": [
    "# step 5: distinguish the exo and pol events based on force_transition_time\n",
    "force_transi_time = input('please type in the force transision time in s:' ) \n",
    "force_transi_time = float(force_transi_time)\n",
    "# to find out whether protein presents during force transition\n",
    "from scipy import interpolate\n",
    "func_1 = interpolate.interp1d(time_intens,intensity,kind='slinear',fill_value=\"extrapolate\")\n",
    "force_transi_intensity = int(func_1(force_transi_time))\n",
    "# print(force_transi_intensity)\n",
    "\n",
    "start_time_exo = []\n",
    "end_time_exo = []\n",
    "start_time_pol = []\n",
    "end_time_pol = []\n",
    "if force_transi_intensity == 0: \n",
    "    for i,value in enumerate(end_time):\n",
    "        if value < force_transi_time:\n",
    "            start_time_exo.append(start_time[i])\n",
    "            end_time_exo.append(value)\n",
    "    for i,value in enumerate(start_time):\n",
    "        if value > force_transi_time:\n",
    "            start_time_pol.append(value)             \n",
    "            end_time_pol.append(end_time[i]) \n",
    "    start_time_pol = start_time_pol[:-1]\n",
    "    end_time_pol = end_time_pol[:-1]\n",
    "        \n",
    "if force_transi_intensity == 1:\n",
    "    for i,value in enumerate(end_time):\n",
    "        if value < force_transi_time:\n",
    "            start_time_exo.append(start_time[i])\n",
    "            end_time_exo.append(value)\n",
    "    start_time_exo.append(start_time[len(start_time_exo)])\n",
    "    end_time_exo.append(force_transi_time)\n",
    "    for i,value in enumerate(start_time):\n",
    "        if value > force_transi_time:\n",
    "            start_time_pol.append(value)\n",
    "            end_time_pol.append(end_time[i]) \n",
    "    try:\n",
    "        end_time_pol.insert(0,end_time[len(end_time_exo)-1])  \n",
    "    except IndexError:\n",
    "        pass\n",
    "    if len(end_time_pol) == 0:\n",
    "        end_time_pol.insert(0,end_time[-1])\n",
    "    start_time_pol.insert(0,force_transi_time)\n",
    "    \n",
    "print(start_time_exo)\n",
    "print(end_time_exo)\n",
    "print(start_time_pol)\n",
    "print(end_time_pol)"
   ]
  },
  {
   "cell_type": "code",
   "execution_count": 10,
   "id": "double-romantic",
   "metadata": {},
   "outputs": [
    {
     "name": "stdout",
     "output_type": "stream",
     "text": [
      "[27.29012244897959, 31.341, 39.22955102040816, 53.51422448979591]\n",
      "[29.20895918367347, 33.25983673469388, 47.54451020408163, 59.27073469387755]\n"
     ]
    }
   ],
   "source": [
    "# step 6: distinguish the bound events and unbound events in exo and pol, respectively\n",
    "# to calculate the dark events in exo region\n",
    "dark_exo_start = []\n",
    "dark_exo_end = []\n",
    "if intensity[0] == 1 and force_transi_intensity == 0: #start with bound protein but lost during force transition \n",
    "    for i,value in enumerate(end_time_exo):\n",
    "        try:\n",
    "            dark_exo_start.append(value)\n",
    "            dark_exo_end.append(start_time_exo[i+1])        \n",
    "        except IndexError:\n",
    "            pass\n",
    "    dark_exo_end.append(force_transi_time)\n",
    "    \n",
    "if intensity[0] == 1 and force_transi_intensity == 1: #start with bound protein and have protein bound during force transition \n",
    "    for i,value in enumerate(end_time_exo):\n",
    "        try:\n",
    "            dark_exo_start.append(value)\n",
    "            dark_exo_end.append(start_time_exo[i+1])        \n",
    "        except IndexError:\n",
    "            pass\n",
    "    dark_exo_start = dark_exo_start[:-1]\n",
    "    dark_exo_end = dark_exo_end[:]\n",
    "    \n",
    "if intensity[0] == 0 and force_transi_intensity == 0: #start without protein and have no protein bound during force transition \n",
    "    for i,value in enumerate(start_time_exo):\n",
    "        try:        \n",
    "            dark_exo_end.append(value)\n",
    "            dark_exo_start.append(end_time_exo[i])\n",
    "        except IndexError:\n",
    "            pass\n",
    "    dark_exo_start.insert(0,start_time_exo[0])\n",
    "    dark_exo_end.append(force_transi_time)\n",
    "    \n",
    "if intensity[0] == 0 and force_transi_intensity == 1: #start without protein and have protein bound during force transition \n",
    "    for i,value in enumerate(start_time_exo):\n",
    "        try:        \n",
    "            dark_exo_end.append(value)\n",
    "            dark_exo_start.append(end_time_exo[i])\n",
    "        except IndexError:\n",
    "            pass\n",
    "    dark_exo_start.insert(0,start_time_exo[0])\n",
    "    dark_exo_start = dark_exo_start[:-1]\n",
    "    \n",
    "print (dark_exo_start)\n",
    "print (dark_exo_end)"
   ]
  },
  {
   "cell_type": "code",
   "execution_count": 11,
   "id": "liquid-cooling",
   "metadata": {},
   "outputs": [
    {
     "name": "stdout",
     "output_type": "stream",
     "text": [
      "[77.17987755102041, 98.50028571428571, 108.7340816326531, 119.6074897959184]\n",
      "[83.14959183673469, 103.6171836734694, 110.8661224489796, 119.6074897959184]\n"
     ]
    }
   ],
   "source": [
    "# step 6: distinguish the bound events and unbound events in exo and pol, respectively\n",
    "# to calculate the dark events in pol regin   \n",
    "dark_pol_start = []\n",
    "dark_pol_end = []\n",
    "if intensity[-1] == 1 and force_transi_intensity == 0: #end with bound protein but have no protein bound during force transition \n",
    "    for i,value in enumerate(start_time_pol):\n",
    "        try:\n",
    "            dark_pol_end.append(value)\n",
    "            dark_pol_start.append(end_time_pol[i])        \n",
    "        except IndexError:\n",
    "            pass\n",
    "    dark_pol_start.insert(0,force_transi_time)\n",
    "    dark_pol_start = dark_pol_start[:-1]\n",
    "    \n",
    "if intensity[-1] == 1 and force_transi_intensity == 1: #end with bound protein and have protein bound during force transition \n",
    "    for i,value in enumerate(end_time_pol):\n",
    "        try:\n",
    "            dark_pol_start.append(value)\n",
    "            dark_pol_end.append(start_time_pol[i+1])        \n",
    "        except IndexError:\n",
    "            pass\n",
    "    dark_pol_start = dark_pol_start[:-2]\n",
    "    dark_pol_end = dark_pol_end[:-1]\n",
    "    \n",
    "if intensity[-1] == 0 and force_transi_intensity == 0: #end without protein and have no protein bound during force transition \n",
    "    for i,value in enumerate(start_time_pol):\n",
    "        try:        \n",
    "            dark_pol_end.append(value)\n",
    "            dark_pol_start.append(end_time_pol[i])\n",
    "        except IndexError:\n",
    "            pass\n",
    "    dark_pol_start.insert(0,force_transi_time)\n",
    "    dark_pol_end.append(end_time_pol[-1])\n",
    "    \n",
    "if intensity[-1] == 0 and force_transi_intensity == 1: #end without protein but have protein bound during force transition \n",
    "    for i,value in enumerate(end_time_pol):\n",
    "        try:\n",
    "            dark_pol_start.append(value)\n",
    "            dark_pol_end.append(start_time_pol[i+1])        \n",
    "        except IndexError:\n",
    "            pass\n",
    "    dark_pol_end.append(end_time_pol[-1])\n",
    "    \n",
    "print (dark_pol_start)\n",
    "print (dark_pol_end)"
   ]
  },
  {
   "cell_type": "code",
   "execution_count": 12,
   "id": "valued-definition",
   "metadata": {},
   "outputs": [],
   "source": [
    "# Save all the analyzed data in an excel file\n",
    "tem_path = intens_path + '\\processing'\n",
    "if not os.path.exists(tem_path):\n",
    "    os.makedirs(tem_path)\n",
    "    \n",
    "excel_filename = tem_path + '\\-' + '-cycle' + intens_cycle +\"-SegmentedTrack\" + '.xlsx'\n",
    "\n",
    "writer = pd.ExcelWriter(excel_filename)\n",
    "\n",
    "data_0 = {'track_Nmr':np.arange(start=1, stop=len(start_time), step=1),\n",
    "        'start_time/s':start_time[:-1],\n",
    "        'end_time/s':end_time[:-1],\n",
    "       'track_duration/s':(np.array(end_time)-np.array(start_time))[:-1]}\n",
    "data_1 = {'track_Nmr':np.arange(start=1, stop=len(start_time_exo)+1, step=1),\n",
    "        'start_time/s':start_time_exo,\n",
    "        'end_time/s':end_time_exo,\n",
    "       'track_duration/s':(np.array(end_time_exo)-np.array(start_time_exo))}\n",
    "data_2 = {'track_Nmr':np.arange(start=1, stop=len(start_time_pol)+1, step=1),\n",
    "        'start_time/s':start_time_pol,\n",
    "        'end_time/s':end_time_pol,\n",
    "       'track_duration/s':(np.array(end_time_pol)-np.array(start_time_pol))}\n",
    "data_3 = {'track_Nmr':np.arange(start=1, stop=len(dark_exo_start)+1, step=1),\n",
    "        'dark_exo_start/s':dark_exo_start,\n",
    "        'dark_exo_end/s':dark_exo_end,\n",
    "       'track_duration/s':(np.array(dark_exo_end)-np.array(dark_exo_start))}\n",
    "data_4 = {'track_Nmr':np.arange(start=1, stop=len(dark_pol_start)+1, step=1),\n",
    "        'dark_pol_start/s':dark_pol_start[:],\n",
    "        'dark_pol_end/s':dark_pol_end[:],\n",
    "        'dark_track_duration/s':(np.array(dark_pol_end)-np.array(dark_pol_start))}\n",
    "\n",
    "df_0 = pd.DataFrame(data_0)\n",
    "df_1 = pd.DataFrame(data_1)\n",
    "df_2 = pd.DataFrame(data_2)\n",
    "df_3 = pd.DataFrame(data_3)\n",
    "df_4 = pd.DataFrame(data_4)\n",
    "\n",
    "df_0.to_excel(writer,sheet_name ='all_bound_tracks')\n",
    "df_1.to_excel(writer,sheet_name ='bound_exo_track')\n",
    "df_2.to_excel(writer,sheet_name ='bound_pol_track')\n",
    "df_3.to_excel(writer,sheet_name ='dark_exo_track')\n",
    "df_4.to_excel(writer,sheet_name ='dark_pol_track')\n",
    "writer.save()"
   ]
  },
  {
   "cell_type": "markdown",
   "id": "acute-rebound",
   "metadata": {},
   "source": [
    "From this line on, code blocks below are intended for rupture detection"
   ]
  },
  {
   "cell_type": "code",
   "execution_count": 13,
   "id": "economic-sunglasses",
   "metadata": {},
   "outputs": [],
   "source": [
    "import os\n",
    "from __future__ import division\n",
    "import numpy as np\n",
    "import matplotlib.pyplot as plt\n",
    "import pandas as pd\n",
    "import ruptures as rpt\n",
    "from __future__ import division\n",
    "from more_itertools import chunked\n",
    "%matplotlib widget\n"
   ]
  },
  {
   "cell_type": "code",
   "execution_count": 14,
   "id": "polish-observation",
   "metadata": {},
   "outputs": [
    {
     "name": "stdin",
     "output_type": "stream",
     "text": [
      "please type in the file name: force data-cycle#01-processedData\n",
      "please type in the file path: C:\\Users\\86183\\Desktop\\20190529-012\n"
     ]
    }
   ],
   "source": [
    "# read and plot the basepair data\n",
    "# name example: 20200304-160513 10pN- 30nM DNAp + 150nM_gp2.5 + 0.1mg_mL_BSA #019-002\n",
    "name = input('please type in the file name:' ) + '.xlsx'\n",
    "# path example: C:\\Users\\KTS260\\Desktop\n",
    "path = input('please type in the file path:')\n",
    "filename = os.path.join(path, name) "
   ]
  },
  {
   "cell_type": "code",
   "execution_count": 15,
   "id": "regional-education",
   "metadata": {},
   "outputs": [
    {
     "data": {
      "application/vnd.jupyter.widget-view+json": {
       "model_id": "7b6d15f7d6ae4f2b82fc3aac33f3527a",
       "version_major": 2,
       "version_minor": 0
      },
      "text/plain": [
       "Canvas(toolbar=Toolbar(toolitems=[('Home', 'Reset original view', 'home', 'home'), ('Back', 'Back to previous …"
      ]
     },
     "metadata": {},
     "output_type": "display_data"
    }
   ],
   "source": [
    "data =  pd.read_excel(filename)\n",
    "time = data['time']/1000\n",
    "time = np.array(time)\n",
    "basepairs = data['basepairs'] # 1D array\n",
    "basepairs = np.array(basepairs)\n",
    "\n",
    "fig, ax1 = plt.subplots(figsize=(10,4))\n",
    "ax2 = ax1.twinx()\n",
    "ax1.plot(time, basepairs, 'g-')\n",
    "ax2.plot(time_intens,intensity,'b-')\n",
    "\n",
    "ax1.set_xlabel('Time/s')\n",
    "# ax1.set_ylim(3000,9000)\n",
    "ax1.set_ylabel('Basepair/bp', color='g')\n",
    "ax2.set_ylabel('Binarized Intensity', color='b')\n",
    "ax2.set_ylim(-0.1,2)\n",
    "plt.title('Example Basepairs+Binarized intensity')\n",
    "#plt.plot(dbphat10_1_dt)\n",
    "plt.show()\n",
    "plt.tight_layout()\n"
   ]
  },
  {
   "cell_type": "code",
   "execution_count": 16,
   "id": "arabic-better",
   "metadata": {},
   "outputs": [],
   "source": [
    "# define a function PLRupture to calculate the speed, duration and processivity\n",
    "# PLRupture is an improved changing point detection model based on rupture and piece-linear wise function\n",
    "def PLRupture(basepairs,time_from,time_to,sigma):\n",
    "    # define a temporary index to compute time of ROI, and subsuquent ROI of force, distance\n",
    "    indtemp = np.where((time <= time_to) & (time >= time_from))\n",
    "    time_ROI = time[indtemp]\n",
    "    basepairs_ROI = basepairs[indtemp]\n",
    "\n",
    "# From now on we work on change point detection\n",
    "    signal = basepairs_ROI  # 1D array\n",
    "# Apply proper model & searching method to work on change point detection\n",
    "    model = \"l2\"  # \"l1\", \"rbf\", \"linear\", \"normal\", \"ar\",...\n",
    "\n",
    "# For faster predictions, one can modify the jump parameter during initialization. The higher it is, the faster the prediction is achieved (at the expense of precision).\n",
    "# There are plenty of models can be used for change point detection; but only rpt.Pelt seems to work with a algo.predict(pen=)\n",
    "    algo = rpt.Pelt(model=model, jump=1).fit(signal)\n",
    "# algo = rpt.BottomUp(model=model).fit(signal)\n",
    "# algo = rpt.Window(width=40, model=model).fit(signal)\n",
    "# algo = rpt.Binseg(model=model).fit(signal)\n",
    "# algo = rpt.Dynp(model=\"rbf\", params=params, jump=1, min_size=2).fit(signal)\n",
    "\n",
    "\n",
    "# In our case, the number of change points is unknown, we need to specify a threshold on the residual norm using epsilon or a penalty using the pen parameter.\n",
    "# n = number of samples\n",
    "# sigma = noise standard deviation; the bigger the sigma, the less break points\n",
    "# dim = dimention, in this case: dim = 1\n",
    "    n = len(signal)\n",
    "\n",
    "# my_bkps = algo.predict(epsilon=3 * n * sigma ** 2)\n",
    "# # or\n",
    "    dim = 1\n",
    "# https://centre-borelli.github.io/ruptures-docs/user-guide/detection/bottomup/#:~:text=In%20the%20situation,n%20*%20sigma%20**%202)\n",
    "# penelty constant = np.log(n) * dim * sigma ** 2\n",
    "    my_bkps = algo.predict(pen=np.log(n) * dim * sigma ** 2)\n",
    "## or you can assign a breakpoint number, e.g.:\n",
    "# my_bkps = algo.predict(n_bkps=3)\n",
    "\n",
    "# show results\n",
    "#     fig, (ax,) = rpt.display(signal, my_bkps, figsize=(8, 4))\n",
    "#     plt.show()\n",
    "    # my_bkps returns index of break points\n",
    "    \n",
    "# trace back to time-basepair based on index\n",
    "    time_bkp = np.zeros(len(my_bkps)-1)\n",
    "    bps_bkp = np.zeros(len(my_bkps)-1)\n",
    "\n",
    "# to exclude the last value\n",
    "    time_bkp = time_ROI[my_bkps[0:-1]]\n",
    "    bps_bkp = basepairs_ROI[my_bkps[0:-1]]\n",
    "\n",
    "# to add the first value and last value to array\n",
    "    time_bkp = np.insert(time_bkp,0,time_ROI[0])\n",
    "    time_bkp = np.append(time_bkp,time_ROI[-1])\n",
    "    bps_bkp = np.insert(bps_bkp,0,basepairs_ROI[0])\n",
    "    bps_bkp = np.append(bps_bkp,basepairs_ROI[-1])\n",
    "    \n",
    "# initialize piecewise linear fit with your x and y data\n",
    "    my_pwlf = pwlf.PiecewiseLinFit(time_ROI, basepairs_ROI)\n",
    "\n",
    "# fit the data with the specified break points (ie the x locations of where\n",
    "# the line segments should end\n",
    "#     my_pwlf.fit_with_breaks(time_bkp)\n",
    "# predict for the determined points\n",
    "#     bps_bkp = my_pwlf.predict(time_bkp)\n",
    "\n",
    "# Uses L-BFGS-B optimization to find the location of breakpoints from a guess of where breakpoint locations should be.\n",
    "#     time_bkp = my_pwlf.fit_guess(time_bkp)\n",
    "\n",
    "#     from scipy import interpolate\n",
    "#     func_2 = interpolate.interp1d(time_ROI, basepairs_ROI,kind='slinear',fill_value=\"extrapolate\")\n",
    "#     bps_bkp = func_2(time_bkp)\n",
    "    \n",
    "# bks = np.append(time_bkp,bps_bkp, axis=-1).reshape((2,len(my_bkps)+1)).T\n",
    "    duration_time = np.diff(time_bkp)\n",
    "    processivity_event = np.diff(bps_bkp)\n",
    "    speed = processivity_event / duration_time\n",
    "    bound_duration = time_bkp[-1] - time_bkp[0]\n",
    "    bound_processivity = bps_bkp[-1] - bps_bkp[0]\n",
    "    return time_from,time_to,time_bkp,bps_bkp,duration_time,processivity_event,speed,bound_duration,bound_processivity"
   ]
  },
  {
   "cell_type": "markdown",
   "id": "italian-convention",
   "metadata": {},
   "source": [
    "# The below code blocks needs to run 4 times, in order to calculate bound-exo,bound-pol and unbound-exo, unbound-pol, respectively"
   ]
  },
  {
   "cell_type": "code",
   "execution_count": 33,
   "id": "increased-shareware",
   "metadata": {},
   "outputs": [
    {
     "name": "stdin",
     "output_type": "stream",
     "text": [
      "please type in the analyzing frag(e.g.:bound_exo, bound_pol,unbound_exo,unbound_pol): unbound_pol\n"
     ]
    },
    {
     "name": "stdout",
     "output_type": "stream",
     "text": [
      "[98.50028571428571, 108.7340816326531, 119.6074897959184]\n",
      "[103.6171836734694, 110.8661224489796, 119.6074897959184]\n"
     ]
    }
   ],
   "source": [
    "# analyze the exo or pol trace seperately\n",
    "# Sigma value is determined with noise standard deviation; \n",
    "# in case not assigned, default sigma value in exo is 225, default sigma value in pol is 1500\n",
    "\n",
    "# the below codes are used to specify with data fragment to be analyzed: e.g.:\n",
    "# dark_pol_start, dark_exo_start, start_time_exo, start_time_pol can be used.\n",
    "analyzing_frag = input('please type in the analyzing frag(e.g.:bound_exo, bound_pol,unbound_exo,unbound_pol):') \n",
    "if analyzing_frag == 'unbound_pol':\n",
    "    analyzing_frag_start = dark_pol_start[1:]\n",
    "    analyzing_frag_end = dark_pol_end[1:]\n",
    "    sigma = 1500\n",
    "if analyzing_frag == 'unbound_exo':\n",
    "    analyzing_frag_start = dark_exo_start\n",
    "    analyzing_frag_end = dark_exo_end\n",
    "    sigma = 225\n",
    "if analyzing_frag == 'bound_pol':\n",
    "    analyzing_frag_start = start_time_pol\n",
    "    analyzing_frag_end = end_time_pol\n",
    "    sigma = 1500\n",
    "if analyzing_frag == 'bound_exo':\n",
    "    analyzing_frag_start = start_time_exo\n",
    "    analyzing_frag_end = end_time_exo\n",
    "    sigma = 225\n",
    "\n",
    "# to double check if it is correct\n",
    "print(analyzing_frag_start)\n",
    "print(analyzing_frag_end)"
   ]
  },
  {
   "cell_type": "code",
   "execution_count": 34,
   "id": "ultimate-protest",
   "metadata": {},
   "outputs": [
    {
     "name": "stderr",
     "output_type": "stream",
     "text": [
      "<ipython-input-16-6e9ad1f7c245>:34: RuntimeWarning: divide by zero encountered in log\n",
      "  my_bkps = algo.predict(pen=np.log(n) * dim * sigma ** 2)\n"
     ]
    },
    {
     "ename": "ValueError",
     "evalue": "min() arg is an empty sequence",
     "output_type": "error",
     "traceback": [
      "\u001b[1;31m---------------------------------------------------------------------------\u001b[0m",
      "\u001b[1;31mValueError\u001b[0m                                Traceback (most recent call last)",
      "\u001b[1;32m<ipython-input-34-3f2fe192a225>\u001b[0m in \u001b[0;36m<module>\u001b[1;34m\u001b[0m\n\u001b[0;32m     12\u001b[0m     \u001b[0mtime_from_i\u001b[0m \u001b[1;33m=\u001b[0m \u001b[0mvalue\u001b[0m\u001b[1;33m\u001b[0m\u001b[1;33m\u001b[0m\u001b[0m\n\u001b[0;32m     13\u001b[0m     \u001b[0mtime_to_i\u001b[0m \u001b[1;33m=\u001b[0m \u001b[0manalyzing_frag_end\u001b[0m\u001b[1;33m[\u001b[0m\u001b[0mi\u001b[0m\u001b[1;33m]\u001b[0m  \u001b[1;31m# alternatively: dark_pol_end, dark_exo_end, end_time_exo, end_time_exo would be used corresponded.\u001b[0m\u001b[1;33m\u001b[0m\u001b[1;33m\u001b[0m\u001b[0m\n\u001b[1;32m---> 14\u001b[1;33m     \u001b[0mtime_from_i\u001b[0m\u001b[1;33m,\u001b[0m\u001b[0mtime_to_i\u001b[0m\u001b[1;33m,\u001b[0m\u001b[0mtime_bkp_i\u001b[0m\u001b[1;33m,\u001b[0m\u001b[0mbps_bkp_i\u001b[0m\u001b[1;33m,\u001b[0m\u001b[0mduration_time_i\u001b[0m\u001b[1;33m,\u001b[0m\u001b[0mprocessivity_event_i\u001b[0m\u001b[1;33m,\u001b[0m\u001b[0mspeed_i\u001b[0m\u001b[1;33m,\u001b[0m\u001b[0mbound_duration_i\u001b[0m\u001b[1;33m,\u001b[0m\u001b[0mbound_processivity_i\u001b[0m \u001b[1;33m=\u001b[0m \u001b[0mPLRupture\u001b[0m\u001b[1;33m(\u001b[0m\u001b[0mbasepairs\u001b[0m\u001b[1;33m,\u001b[0m\u001b[0mtime_from_i\u001b[0m\u001b[1;33m,\u001b[0m\u001b[0mtime_to_i\u001b[0m\u001b[1;33m,\u001b[0m\u001b[0msigma\u001b[0m\u001b[1;33m)\u001b[0m\u001b[1;33m\u001b[0m\u001b[1;33m\u001b[0m\u001b[0m\n\u001b[0m\u001b[0;32m     15\u001b[0m     \u001b[0mtime_from\u001b[0m \u001b[1;33m=\u001b[0m \u001b[0mnp\u001b[0m\u001b[1;33m.\u001b[0m\u001b[0mappend\u001b[0m\u001b[1;33m(\u001b[0m\u001b[0mtime_from\u001b[0m\u001b[1;33m,\u001b[0m\u001b[0mtime_from_i\u001b[0m\u001b[1;33m)\u001b[0m\u001b[1;33m\u001b[0m\u001b[1;33m\u001b[0m\u001b[0m\n\u001b[0;32m     16\u001b[0m     \u001b[0mtime_to\u001b[0m \u001b[1;33m=\u001b[0m \u001b[0mnp\u001b[0m\u001b[1;33m.\u001b[0m\u001b[0mappend\u001b[0m\u001b[1;33m(\u001b[0m\u001b[0mtime_to\u001b[0m\u001b[1;33m,\u001b[0m\u001b[0mtime_to_i\u001b[0m\u001b[1;33m)\u001b[0m\u001b[1;33m\u001b[0m\u001b[1;33m\u001b[0m\u001b[0m\n",
      "\u001b[1;32m<ipython-input-16-6e9ad1f7c245>\u001b[0m in \u001b[0;36mPLRupture\u001b[1;34m(basepairs, time_from, time_to, sigma)\u001b[0m\n\u001b[0;32m     32\u001b[0m \u001b[1;31m# https://centre-borelli.github.io/ruptures-docs/user-guide/detection/bottomup/#:~:text=In%20the%20situation,n%20*%20sigma%20**%202)\u001b[0m\u001b[1;33m\u001b[0m\u001b[1;33m\u001b[0m\u001b[1;33m\u001b[0m\u001b[0m\n\u001b[0;32m     33\u001b[0m \u001b[1;31m# penelty constant = np.log(n) * dim * sigma ** 2\u001b[0m\u001b[1;33m\u001b[0m\u001b[1;33m\u001b[0m\u001b[1;33m\u001b[0m\u001b[0m\n\u001b[1;32m---> 34\u001b[1;33m     \u001b[0mmy_bkps\u001b[0m \u001b[1;33m=\u001b[0m \u001b[0malgo\u001b[0m\u001b[1;33m.\u001b[0m\u001b[0mpredict\u001b[0m\u001b[1;33m(\u001b[0m\u001b[0mpen\u001b[0m\u001b[1;33m=\u001b[0m\u001b[0mnp\u001b[0m\u001b[1;33m.\u001b[0m\u001b[0mlog\u001b[0m\u001b[1;33m(\u001b[0m\u001b[0mn\u001b[0m\u001b[1;33m)\u001b[0m \u001b[1;33m*\u001b[0m \u001b[0mdim\u001b[0m \u001b[1;33m*\u001b[0m \u001b[0msigma\u001b[0m \u001b[1;33m**\u001b[0m \u001b[1;36m2\u001b[0m\u001b[1;33m)\u001b[0m\u001b[1;33m\u001b[0m\u001b[1;33m\u001b[0m\u001b[0m\n\u001b[0m\u001b[0;32m     35\u001b[0m \u001b[1;31m## or you can assign a breakpoint number, e.g.:\u001b[0m\u001b[1;33m\u001b[0m\u001b[1;33m\u001b[0m\u001b[1;33m\u001b[0m\u001b[0m\n\u001b[0;32m     36\u001b[0m \u001b[1;31m# my_bkps = algo.predict(n_bkps=3)\u001b[0m\u001b[1;33m\u001b[0m\u001b[1;33m\u001b[0m\u001b[1;33m\u001b[0m\u001b[0m\n",
      "\u001b[1;32mc:\\users\\86183\\appdata\\local\\programs\\python\\python39\\lib\\site-packages\\ruptures\\detection\\pelt.py\u001b[0m in \u001b[0;36mpredict\u001b[1;34m(self, pen)\u001b[0m\n\u001b[0;32m    115\u001b[0m             \u001b[0mlist\u001b[0m\u001b[1;33m:\u001b[0m \u001b[0msorted\u001b[0m \u001b[0mlist\u001b[0m \u001b[0mof\u001b[0m \u001b[0mbreakpoints\u001b[0m\u001b[1;33m\u001b[0m\u001b[1;33m\u001b[0m\u001b[0m\n\u001b[0;32m    116\u001b[0m         \"\"\"\n\u001b[1;32m--> 117\u001b[1;33m         \u001b[0mpartition\u001b[0m \u001b[1;33m=\u001b[0m \u001b[0mself\u001b[0m\u001b[1;33m.\u001b[0m\u001b[0m_seg\u001b[0m\u001b[1;33m(\u001b[0m\u001b[0mpen\u001b[0m\u001b[1;33m)\u001b[0m\u001b[1;33m\u001b[0m\u001b[1;33m\u001b[0m\u001b[0m\n\u001b[0m\u001b[0;32m    118\u001b[0m         \u001b[0mbkps\u001b[0m \u001b[1;33m=\u001b[0m \u001b[0msorted\u001b[0m\u001b[1;33m(\u001b[0m\u001b[0me\u001b[0m \u001b[1;32mfor\u001b[0m \u001b[0ms\u001b[0m\u001b[1;33m,\u001b[0m \u001b[0me\u001b[0m \u001b[1;32min\u001b[0m \u001b[0mpartition\u001b[0m\u001b[1;33m.\u001b[0m\u001b[0mkeys\u001b[0m\u001b[1;33m(\u001b[0m\u001b[1;33m)\u001b[0m\u001b[1;33m)\u001b[0m\u001b[1;33m\u001b[0m\u001b[1;33m\u001b[0m\u001b[0m\n\u001b[0;32m    119\u001b[0m         \u001b[1;32mreturn\u001b[0m \u001b[0mbkps\u001b[0m\u001b[1;33m\u001b[0m\u001b[1;33m\u001b[0m\u001b[0m\n",
      "\u001b[1;32mc:\\users\\86183\\appdata\\local\\programs\\python\\python39\\lib\\site-packages\\ruptures\\detection\\pelt.py\u001b[0m in \u001b[0;36m_seg\u001b[1;34m(self, pen)\u001b[0m\n\u001b[0;32m     73\u001b[0m \u001b[1;33m\u001b[0m\u001b[0m\n\u001b[0;32m     74\u001b[0m             \u001b[1;31m# finding the optimal partition\u001b[0m\u001b[1;33m\u001b[0m\u001b[1;33m\u001b[0m\u001b[1;33m\u001b[0m\u001b[0m\n\u001b[1;32m---> 75\u001b[1;33m             \u001b[0mpartitions\u001b[0m\u001b[1;33m[\u001b[0m\u001b[0mbkp\u001b[0m\u001b[1;33m]\u001b[0m \u001b[1;33m=\u001b[0m \u001b[0mmin\u001b[0m\u001b[1;33m(\u001b[0m\u001b[0msubproblems\u001b[0m\u001b[1;33m,\u001b[0m \u001b[0mkey\u001b[0m\u001b[1;33m=\u001b[0m\u001b[1;32mlambda\u001b[0m \u001b[0md\u001b[0m\u001b[1;33m:\u001b[0m \u001b[0msum\u001b[0m\u001b[1;33m(\u001b[0m\u001b[0md\u001b[0m\u001b[1;33m.\u001b[0m\u001b[0mvalues\u001b[0m\u001b[1;33m(\u001b[0m\u001b[1;33m)\u001b[0m\u001b[1;33m)\u001b[0m\u001b[1;33m)\u001b[0m\u001b[1;33m\u001b[0m\u001b[1;33m\u001b[0m\u001b[0m\n\u001b[0m\u001b[0;32m     76\u001b[0m             \u001b[1;31m# trimming the admissible set\u001b[0m\u001b[1;33m\u001b[0m\u001b[1;33m\u001b[0m\u001b[1;33m\u001b[0m\u001b[0m\n\u001b[0;32m     77\u001b[0m             admissible = [\n",
      "\u001b[1;31mValueError\u001b[0m: min() arg is an empty sequence"
     ]
    }
   ],
   "source": [
    "# the following code block is intended to calculate the ruptures, iterating all the sub-segments\n",
    "time_bkp = []\n",
    "bps_bkp = []\n",
    "duration_time = []\n",
    "processivity_event = []\n",
    "speed = []\n",
    "time_from = []\n",
    "time_to = []\n",
    "bound_duration = []\n",
    "bound_processivity = []\n",
    "for i,value in enumerate(analyzing_frag_start): #alternatively: dark_pol_start, dark_exo_start, start_time_exo, start_time_pol can be used.\n",
    "    time_from_i = value\n",
    "    time_to_i = analyzing_frag_end[i]  # alternatively: dark_pol_end, dark_exo_end, end_time_exo, end_time_exo would be used corresponded.\n",
    "    time_from_i,time_to_i,time_bkp_i,bps_bkp_i,duration_time_i,processivity_event_i,speed_i,bound_duration_i,bound_processivity_i = PLRupture(basepairs,time_from_i,time_to_i,sigma)\n",
    "    time_from = np.append(time_from,time_from_i)\n",
    "    time_to = np.append(time_to,time_to_i)\n",
    "    time_bkp = np.append(time_bkp,time_bkp_i)\n",
    "    bps_bkp = np.append(bps_bkp,bps_bkp_i)\n",
    "    duration_time = np.append(duration_time,duration_time_i)\n",
    "    processivity_event = np.append(processivity_event,processivity_event_i)\n",
    "    speed = np.append(speed,speed_i)\n",
    "    bound_duration = np.append(bound_duration,bound_duration_i)\n",
    "    bound_processivity = np.append(bound_processivity,bound_processivity_i)\n",
    "\n",
    "# print(duration_time.size)\n",
    "# print(processivity_event.size)\n",
    "# print(speed.size)\n",
    "# print(time_from.size)\n",
    "# print(time_to.size)\n"
   ]
  },
  {
   "cell_type": "code",
   "execution_count": null,
   "id": "worse-acting",
   "metadata": {},
   "outputs": [],
   "source": [
    "# this is to plot the basepair changes and the detected changing-points as a function of time\n",
    "fig, ax1 = plt.subplots(figsize=(10,4))\n",
    "ax2 = ax1.twinx()\n",
    "ax1.plot(time, basepairs, 'g-', label = 'basepairs')\n",
    "ax1.scatter(time_bkp,bps_bkp,marker='*',c=\"r\", label = \"breaking points\")\n",
    "ax2.plot(time_intens,intensity,'lightgray', label = \"Binarized intensity\")\n",
    "\n",
    "ax1.set_xlabel('Time/s')\n",
    "# ax1.set_xlim(50,150)\n",
    "ax1.set_ylabel('Basepair/bp', color='g')\n",
    "ax2.set_ylabel('Binarized Intensity', color='lightgray')\n",
    "ax2.set_ylim(-0.1,2)\n",
    "ax1.legend()\n",
    "ax2.legend(loc='center right')\n",
    "plt.title('Example Basepairs+Binarized intensity')\n",
    "plt.legend()\n",
    "plt.show()\n",
    "plt.tight_layout()"
   ]
  },
  {
   "cell_type": "code",
   "execution_count": null,
   "id": "bright-review",
   "metadata": {},
   "outputs": [],
   "source": [
    "# to save all the data    \n",
    "excel_filename = intens_path + '\\processing' + '\\-' + '-cycle' + intens_cycle + name +'-'+ analyzing_frag + '.xlsx'\n",
    "writer = pd.ExcelWriter(excel_filename)\n",
    "\n",
    "data_1 = {'breaking time/s':time_bkp,\n",
    "        'breaking position/bp':bps_bkp}\n",
    "data_2 = {'event duration/s':duration_time,\n",
    "        'event processivity/bp':processivity_event,\n",
    "        'velocity/(bp/s)':speed}\n",
    "data_3 = {'bound duration/s':bound_duration,\n",
    "        'bound processivity/bp':bound_processivity}\n",
    "\n",
    "df_1= pd.DataFrame(data_1)\n",
    "df_2 = pd.DataFrame(data_2)\n",
    "df_3 = pd.DataFrame(data_3)\n",
    "\n",
    "df_1.to_excel(writer,sheet_name ='change_points', index=False)\n",
    "df_2.to_excel(writer,sheet_name ='analyzed_data', index=False)\n",
    "df_3.to_excel(writer,sheet_name ='processivity_one_burst', index=False)\n",
    "\n",
    "writer.save()\n",
    "plt.savefig(intens_path + '\\processing' + '\\-' + name +'-'+ analyzing_frag + '-Example Basepairs+Binarized intensity'+'.png', dpi=150)"
   ]
  },
  {
   "cell_type": "code",
   "execution_count": null,
   "id": "inclusive-hindu",
   "metadata": {},
   "outputs": [],
   "source": [
    "from scipy import stats\n",
    "sem = stats.sem(speed, axis=None, ddof=0)\n",
    "avg = np.mean(speed)\n",
    "\n",
    "fig, ax = plt.subplots(figsize=(6, 4))\n",
    "n_bins = 10\n",
    "n, bins, patches = ax.hist(speed, n_bins)\n",
    "ax.set_title('Rate')\n",
    "ax.set_xlabel('Rate(bp/s)')\n",
    "ax.set_ylabel('Occurrence')\n",
    "plt.show()\n",
    "plt.tight_layout()\n",
    "\n",
    "print(avg)\n",
    "print(sem)"
   ]
  },
  {
   "cell_type": "code",
   "execution_count": null,
   "id": "classified-japan",
   "metadata": {},
   "outputs": [],
   "source": []
  }
 ],
 "metadata": {
  "kernelspec": {
   "display_name": "Python 3 (ipykernel)",
   "language": "python",
   "name": "python3"
  },
  "language_info": {
   "codemirror_mode": {
    "name": "ipython",
    "version": 3
   },
   "file_extension": ".py",
   "mimetype": "text/x-python",
   "name": "python",
   "nbconvert_exporter": "python",
   "pygments_lexer": "ipython3",
   "version": "3.9.6"
  }
 },
 "nbformat": 4,
 "nbformat_minor": 5
}
