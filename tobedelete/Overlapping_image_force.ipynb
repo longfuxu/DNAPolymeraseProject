{
 "cells": [
  {
   "cell_type": "code",
   "execution_count": 1,
   "id": "wrapped-cradle",
   "metadata": {},
   "outputs": [],
   "source": [
    "# -*-coding:utf-8 -*-\n",
    "import os\n",
    "import numpy as np\n",
    "import cv2\n",
    "import matplotlib.pyplot as plt\n",
    "import pandas as pd\n",
    "from nptdms import TdmsFile\n",
    "from scipy.signal import savgol_filter\n",
    "import tifffile as tif\n",
    "from scipy import interpolate\n",
    "%matplotlib widget"
   ]
  },
  {
   "cell_type": "code",
   "execution_count": 2,
   "id": "ordered-blend",
   "metadata": {},
   "outputs": [
    {
     "name": "stdin",
     "output_type": "stream",
     "text": [
      "please type in the file name: 20191017-145427 150mM Na+ 5mM Mg_ 30nM DNAp + trx  + 625uM dNTPs  #015-002\n",
      "please type in the file path: C:\\Users\\KTS260\\Google Drive\\Work with Matthew\\Project2_Watching labelled DNAP replication\\20191017-015-2-exo+pol -good +5mM Mg2+\\image data\n"
     ]
    }
   ],
   "source": [
    "# read raw .tdms file with TdmsFile function\n",
    "# name example: 20200304-160513 10pN- 30nM DNAp + 0.1mg_mL_BSA #019-002\n",
    "name = input('please type in the file name:' ) + '.tdms'\n",
    "# path example: C:\\Users\\12345\\Desktop\n",
    "path = input('please type in the file path:')\n",
    "filename = os.path.join(path, name) "
   ]
  },
  {
   "cell_type": "code",
   "execution_count": 58,
   "id": "blind-affiliation",
   "metadata": {},
   "outputs": [],
   "source": [
    "# access .tdms file and convert .tdms to image data\n",
    "metadata = TdmsFile.read_metadata(filename)\n",
    "# print(metadata.properties)\n",
    "width = metadata.properties['Pixels per line']\n",
    "px_size = float(metadata.properties['Scan Command.Scan Command.scanning_axes.0.pix_size_nm'])\n",
    "px_dwell_time = float(metadata.properties['Scan Command.PI Fast Scan Command.pixel_dwell_time_ms'])\n",
    "inter_frame_time = float(metadata.properties['Scan Command.PI Fast Scan Command.inter_frame_wait_time_ms'])/2\n",
    "\n",
    "tdms_file = TdmsFile(filename)\n",
    "time = tdms_file['Data']['Time (ms)'][:]\n",
    "time = np.array([int(i) for i in time])\n",
    "position = tdms_file['Data']['Actual position X (um)'][:]\n",
    "position = np.array([int(i) for i in position])\n",
    "height = len(time)/width\n",
    "\n",
    "chn_r = tdms_file['Data']['Pixel ch 1'][:]\n",
    "chn_r = np.array([int(i) for i in chn_r])\n",
    "chn_g = tdms_file['Data']['Pixel ch 2'][:]\n",
    "chn_g = np.array([int(i) for i in chn_g])\n",
    "chn_b = tdms_file['Data']['Pixel ch 3'][:]\n",
    "chn_b = np.array([int(i) for i in chn_b])\n",
    "\n",
    "chn_rgb = np.vstack((chn_r, chn_g, chn_b)).T\n",
    "img = chn_rgb.reshape((int(height), int(width), 3))\n",
    "img = img.transpose((1, 0, 2))\n",
    "img = img.astype(np.uint16)"
   ]
  },
  {
   "cell_type": "code",
   "execution_count": 4,
   "id": "indie-catalyst",
   "metadata": {},
   "outputs": [
    {
     "data": {
      "application/vnd.jupyter.widget-view+json": {
       "model_id": "c274442db6894d8a82d86158245a463a",
       "version_major": 2,
       "version_minor": 0
      },
      "text/plain": [
       "Canvas(toolbar=Toolbar(toolitems=[('Home', 'Reset original view', 'home', 'home'), ('Back', 'Back to previous …"
      ]
     },
     "metadata": {},
     "output_type": "display_data"
    }
   ],
   "source": [
    "# show tif image\n",
    "plt.figure(filename)\n",
    "plt.imshow(img.astype('uint16'),vmax = 10)\n",
    "plt.xlabel('Time/px')\n",
    "plt.ylabel('Position/px')\n",
    "plt.show()\n",
    "plt.tight_layout()"
   ]
  },
  {
   "cell_type": "code",
   "execution_count": 33,
   "id": "copyrighted-cross",
   "metadata": {},
   "outputs": [],
   "source": [
    "# save .tdms file to tif image\n",
    "tif.imwrite(filename + '.tiff', img)"
   ]
  },
  {
   "cell_type": "code",
   "execution_count": 59,
   "id": "common-newport",
   "metadata": {},
   "outputs": [
    {
     "data": {
      "application/vnd.jupyter.widget-view+json": {
       "model_id": "41bb3d73745d4300980d557be69bc536",
       "version_major": 2,
       "version_minor": 0
      },
      "text/plain": [
       "Canvas(toolbar=Toolbar(toolitems=[('Home', 'Reset original view', 'home', 'home'), ('Back', 'Back to previous …"
      ]
     },
     "metadata": {},
     "output_type": "display_data"
    }
   ],
   "source": [
    "# Plot DNA polymerase from image data\n",
    "b,g,r = cv2.split(img)\n",
    "img = g\n",
    "\n",
    "plt.figure(figsize=(10,3))\n",
    "plt.imshow(img.astype('uint8'),cmap='gray',vmax = 10,aspect =\"auto\")\n",
    "plt.xlabel(\"Time/px\")\n",
    "plt.ylabel(\"Position/px\")\n",
    "plt.title(\"DNA Polymerase Trace\")\n",
    "plt.ylim(80,20)\n",
    "plt.xlim(0,900)\n",
    "# plt.xlim(0,2000)\n",
    "plt.tight_layout()"
   ]
  },
  {
   "cell_type": "code",
   "execution_count": 6,
   "id": "bizarre-lucas",
   "metadata": {},
   "outputs": [
    {
     "name": "stdin",
     "output_type": "stream",
     "text": [
      "please type in the file name: 20191017-015-2\n",
      "please type in the file path: C:\\Users\\KTS260\\Google Drive\\Work with Matthew\\Project2_Watching labelled DNAP replication\\20191017-015-2-exo+pol -good +5mM Mg2+\n"
     ]
    },
    {
     "name": "stdout",
     "output_type": "stream",
     "text": [
      "     time junction_position_all\n",
      "0  4301.0               2.88159\n",
      "1  4350.0               2.88226\n",
      "2  4399.0               2.87528\n",
      "3  4448.0               2.87525\n",
      "4  4499.0               2.86714\n"
     ]
    }
   ],
   "source": [
    "# read and plot the DNA trace calculated from force measurement\n",
    "trace_name = input('please type in the file name:' ) + '.xlsx'\n",
    "trace_path = input('please type in the file path:')\n",
    "trace_file = os.path.join(trace_path, trace_name) \n",
    "trace = pd.read_excel(trace_file)\n",
    "print(trace.head())"
   ]
  },
  {
   "cell_type": "code",
   "execution_count": 60,
   "id": "worst-optimization",
   "metadata": {},
   "outputs": [],
   "source": [
    "# Tune x_offset and y_offset to get the proper alignment\n",
    "# plt.figure(figsize=(8,6))\n",
    "plt.xlabel(\"Time/px\")\n",
    "plt.ylabel(\"Position/px\")\n",
    "plt.title(\"DNA Polymerase Trace\")\n",
    "x_offset = 1 # this is done by align starting time (roughly 0-5s)\n",
    "y_offset = 30\n",
    "x_cali = 1000/(width*px_dwell_time+inter_frame_time)  # this is calculated by (1s/time per line, in this case 163.8ms)\n",
    "# x_cali = 6.5\n",
    "y_cali = 1000/px_size # this is calculated by (1um/pixel size, in this case pixlsize = 75nm)\n",
    "time = trace['time']/1000 * x_cali + x_offset\n",
    "time = time.dropna()\n",
    "position = pd.to_numeric(trace['junction_position_all'], errors='coerce') \n",
    "position = position * y_cali + y_offset\n",
    "position = position.dropna()\n",
    "\n",
    "plt.plot(time,position)\n",
    "# plt.ylim(25,85)\n",
    "plt.show()\n",
    "plt.savefig(path + '-overlap'+'.png', dpi=150)"
   ]
  },
  {
   "cell_type": "code",
   "execution_count": 49,
   "id": "convenient-design",
   "metadata": {},
   "outputs": [
    {
     "name": "stdout",
     "output_type": "stream",
     "text": [
      "7.633587786259542\n",
      "13.333333333333334\n"
     ]
    }
   ],
   "source": [
    "print(x_cali)\n",
    "print(y_cali)"
   ]
  },
  {
   "cell_type": "code",
   "execution_count": 63,
   "id": "female-indian",
   "metadata": {},
   "outputs": [
    {
     "data": {
      "application/vnd.jupyter.widget-view+json": {
       "model_id": "beed15e8e5274467ba26c16398166837",
       "version_major": 2,
       "version_minor": 0
      },
      "text/plain": [
       "Canvas(toolbar=Toolbar(toolitems=[('Home', 'Reset original view', 'home', 'home'), ('Back', 'Back to previous …"
      ]
     },
     "metadata": {},
     "output_type": "display_data"
    }
   ],
   "source": [
    "# this step is to find out the coordinates of image from the overlapping\n",
    "# firstly, to downsample time coordinates with a correction factor: alpha = (time per line in image)/ (force data acquisition frequency, in this case 50HZ)\n",
    "alpha = np.rint(173/50).astype(int)\n",
    "# x = time.rolling(alpha).mean()\n",
    "# a = np.array(time)\n",
    "# print(a.reshape(-1,3))\n",
    "x = np.mean(np.array(time[:]).reshape(-1, alpha), axis=1)\n",
    "x = np.rint(x).astype(int)\n",
    "# x1 here traces back to time in unit of s\n",
    "x1 = (x-x_offset)/x_cali\n",
    "\n",
    "# Since the sampling rate is different between force data and image data, therefore interpolate is performed\n",
    "# secondly, interpolate time coordinate to get the position coordinate\n",
    "func = interpolate.interp1d(time,position,kind='slinear')\n",
    "y = func(x)\n",
    "y = np.rint(y).astype(int)\n",
    "plt.figure(figsize=(10,3))\n",
    "plt.plot(x,y)\n",
    "plt.show()"
   ]
  },
  {
   "cell_type": "code",
   "execution_count": 64,
   "id": "lasting-missile",
   "metadata": {},
   "outputs": [
    {
     "data": {
      "application/vnd.jupyter.widget-view+json": {
       "model_id": "08eea4322a2b4ffeac9dc15b3b43352a",
       "version_major": 2,
       "version_minor": 0
      },
      "text/plain": [
       "Canvas(toolbar=Toolbar(toolitems=[('Home', 'Reset original view', 'home', 'home'), ('Back', 'Back to previous …"
      ]
     },
     "metadata": {},
     "output_type": "display_data"
    }
   ],
   "source": [
    "# this step is to plot the intensity on the axis of DNAp trace\n",
    "ins = img[y,x]\n",
    "plt.figure(figsize=(8,2))\n",
    "plt.plot(x1,ins)\n",
    "# plt.ylim(0,30)\n",
    "plt.show()"
   ]
  },
  {
   "cell_type": "code",
   "execution_count": 91,
   "id": "massive-fleece",
   "metadata": {},
   "outputs": [
    {
     "data": {
      "application/vnd.jupyter.widget-view+json": {
       "model_id": "6bd5e6b2645342e1b411a611e6026f53",
       "version_major": 2,
       "version_minor": 0
      },
      "text/plain": [
       "Canvas(toolbar=Toolbar(toolitems=[('Home', 'Reset original view', 'home', 'home'), ('Back', 'Back to previous …"
      ]
     },
     "metadata": {},
     "output_type": "display_data"
    }
   ],
   "source": [
    "# sum up 7 pixels around DNAp trace\n",
    "list = [y-3,y-2, y-1, y, y+1, y+2,y+3]\n",
    "intensity = np.zeros((7,len(x)), dtype=int)\n",
    "all_intensity = np.zeros((len(x),), dtype=int)\n",
    "for i, value in enumerate(list):\n",
    "    intensity[i] = img[value,x]\n",
    "#     print(intensity)\n",
    "    all_intensity += img[value,x]\n",
    "    \n",
    "# print(intensity)\n",
    "# print(all_intensity)\n",
    "plt.figure(figsize=(8,3))\n",
    "plt.plot(x1,all_intensity)\n",
    "plt.xlabel(\"Time/s\")\n",
    "plt.ylabel(\"Intensity/photon\")\n",
    "plt.title(\"Intensity along DNA polymerase Trajectory\")\n",
    "plt.tight_layout()\n",
    "plt.xlim(6,150)\n",
    "# plt.ylim(0,30)\n",
    "plt.show()"
   ]
  },
  {
   "cell_type": "code",
   "execution_count": 92,
   "id": "japanese-routine",
   "metadata": {},
   "outputs": [],
   "source": [
    "# Apply a Savitzky-Golay filter to an array.\n",
    "signal = all_intensity \n",
    "signal_filter = savgol_filter(signal[:], 41, 3)\n",
    "# dt = x[1]-x[0]\n",
    "# signal_filter_grad = np.gradient(signal_filter, dt)\n",
    "# plt.figure()\n",
    "plt.plot(x1,signal_filter)\n",
    "plt.ylim(10,60)\n",
    "plt.show()\n",
    "plt.savefig(path + '-Intensity along DNA polymerase Trajectory'+'.png', dpi=150)"
   ]
  },
  {
   "cell_type": "code",
   "execution_count": 93,
   "id": "front-daily",
   "metadata": {},
   "outputs": [
    {
     "data": {
      "application/vnd.jupyter.widget-view+json": {
       "model_id": "abee49d7d1a64eb4a6727b38a418944c",
       "version_major": 2,
       "version_minor": 0
      },
      "text/plain": [
       "Canvas(toolbar=Toolbar(toolitems=[('Home', 'Reset original view', 'home', 'home'), ('Back', 'Back to previous …"
      ]
     },
     "metadata": {},
     "output_type": "display_data"
    }
   ],
   "source": [
    "# Binarize the intensity with a given threshold\n",
    "threshold, upper, lower = 22, 1, 0\n",
    "signal_filter_binarized = np.where(signal_filter>threshold, upper, lower)\n",
    "\n",
    "plt.figure(figsize=(8,2))\n",
    "plt.xlabel(\"Time/s\")\n",
    "plt.ylabel(\"Binarized Intensity\")\n",
    "plt.plot(x1,signal_filter_binarized)\n",
    "plt.ylim(-0.1,1.5)\n",
    "plt.xlim(6,150)\n",
    "plt.title(\"Intensity along DNA polymerase Trajectory\")\n",
    "plt.tight_layout()\n",
    "plt.show()\n",
    "plt.savefig(path + '-Intensity along DNA polymerase Trajectory-binarized'+'.png', dpi=150)"
   ]
  },
  {
   "cell_type": "code",
   "execution_count": 74,
   "id": "negative-wheat",
   "metadata": {},
   "outputs": [
    {
     "data": {
      "application/vnd.jupyter.widget-view+json": {
       "model_id": "f3ca32936ee34a50aba928df3c17ba9f",
       "version_major": 2,
       "version_minor": 0
      },
      "text/plain": [
       "Canvas(toolbar=Toolbar(toolitems=[('Home', 'Reset original view', 'home', 'home'), ('Back', 'Back to previous …"
      ]
     },
     "metadata": {},
     "output_type": "display_data"
    }
   ],
   "source": [
    "plt.figure(figsize=(10,1))\n",
    "# print(image)\n",
    "# plt.imshow(intensity.astype('uint8'),aspect =\"auto\")\n",
    "plt.imshow(intensity.astype('uint8'),cmap='gray',vmax = 10,interpolation='nearest', aspect='auto')\n",
    "\n",
    "plt.axis('off')\n",
    "# set_xlim(0, 150)\n",
    "plt.tight_layout()\n",
    "# plt.ylim(0,7)\n",
    "plt.savefig(path + '-Squeezed DNAp Trace'+'.png', dpi=150)"
   ]
  },
  {
   "cell_type": "code",
   "execution_count": 83,
   "id": "waiting-offense",
   "metadata": {},
   "outputs": [
    {
     "name": "stderr",
     "output_type": "stream",
     "text": [
      "<ipython-input-83-f7b5a44a36e8>:5: RuntimeWarning: More than 20 figures have been opened. Figures created through the pyplot interface (`matplotlib.pyplot.figure`) are retained until explicitly closed and may consume too much memory. (To control this warning, see the rcParam `figure.max_open_warning`).\n",
      "  plt.figure(figsize = (10, 3))\n"
     ]
    },
    {
     "data": {
      "application/vnd.jupyter.widget-view+json": {
       "model_id": "d078e6f8032f4df5acf7b9db9afff33a",
       "version_major": 2,
       "version_minor": 0
      },
      "text/plain": [
       "Canvas(toolbar=Toolbar(toolitems=[('Home', 'Reset original view', 'home', 'home'), ('Back', 'Back to previous …"
      ]
     },
     "metadata": {},
     "output_type": "display_data"
    }
   ],
   "source": [
    "# This final step is to get a double x-axis figure, which shows both time in unit of pixel and s\n",
    "from mpl_toolkits.axes_grid1 import host_subplot\n",
    "import mpl_toolkits.axisartist as AA\n",
    "\n",
    "plt.figure(figsize = (10, 3))\n",
    "\n",
    "#Setup a host axis\n",
    "host = host_subplot(111, axes_class=AA.Axes)\n",
    "plt.subplots_adjust(bottom=0.2)\n",
    "\n",
    "#Add twin y axis with offset from bottom and hide top axis\n",
    "par = host.twiny()\n",
    "offset = -30\n",
    "new_fixed_axis = host.get_grid_helper().new_fixed_axis\n",
    "par.axis[\"bottom\"] = new_fixed_axis(loc=\"bottom\",\n",
    "                                    axes=par,\n",
    "                                    offset=(0, offset))\n",
    "\n",
    "par.axis[\"top\"].set_visible(False)\n",
    "host.axis[\"right\"].set_visible(False)\n",
    "\n",
    "# Plot data and add main axis labels/limits\n",
    "host.imshow(img.astype('uint8'),cmap='gray',vmax = 10,aspect =\"auto\")\n",
    "\n",
    "host.set_xlabel(\"Time(pixel)\")\n",
    "host.set_ylabel(\"Position(pixel)\")\n",
    "host.set_title(\"DNA Polymerase Trace\")\n",
    "host.set_xlim((0,900))\n",
    "host.set_ylim((80,20))\n",
    "\n",
    "# plt.axis(\"tight\")\n",
    "\n",
    "#Set limits of parasite axis \n",
    "#(note this axis is not attached to \n",
    "# an actual plot so changes nothing)\n",
    "\n",
    "par.set_xlabel(\"Time(s)\")\n",
    "par.set_xlim((x1[0],x1[-1]))\n",
    "\n",
    "plt.plot(time,position,'y')\n",
    "\n",
    "plt.show()\n",
    "plt.tight_layout()\n",
    "plt.savefig(path + '-DNA Polymerase Trace'+'.png', dpi=150)"
   ]
  },
  {
   "cell_type": "code",
   "execution_count": null,
   "id": "other-module",
   "metadata": {},
   "outputs": [],
   "source": []
  }
 ],
 "metadata": {
  "kernelspec": {
   "display_name": "Python 3",
   "language": "python",
   "name": "python3"
  },
  "language_info": {
   "codemirror_mode": {
    "name": "ipython",
    "version": 3
   },
   "file_extension": ".py",
   "mimetype": "text/x-python",
   "name": "python",
   "nbconvert_exporter": "python",
   "pygments_lexer": "ipython3",
   "version": "3.8.8"
  }
 },
 "nbformat": 4,
 "nbformat_minor": 5
}
