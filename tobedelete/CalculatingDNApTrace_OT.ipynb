{
 "cells": [
  {
   "cell_type": "code",
   "execution_count": 1,
   "id": "minus-giving",
   "metadata": {},
   "outputs": [],
   "source": [
    "# -*-coding:utf-8 -*-\n",
    "import os\n",
    "from __future__ import division\n",
    "from sympy import *\n",
    "from sympy import coth\n",
    "import numpy as np\n",
    "import matplotlib.pyplot as plt\n",
    "import pandas as pd\n",
    "from nptdms import TdmsFile\n",
    "from more_itertools import chunked\n",
    "%matplotlib widget"
   ]
  },
  {
   "cell_type": "code",
   "execution_count": 2,
   "id": "underlying-hunger",
   "metadata": {},
   "outputs": [
    {
     "name": "stdin",
     "output_type": "stream",
     "text": [
      "please type in the file name: 20190517-141042 test 45 nM labelled  DNAp-snap +2uL trx (RT for 15h) + 625 uM dNTPs #018-001\n",
      "please type in the file path: C:\\Users\\KTS260\\Google Drive\\Work with Matthew\\Project2_Watching labelled DNAP replication\\20190517-018-pol+exo\\force data\n"
     ]
    }
   ],
   "source": [
    "# read raw .tdms file with TdmsFile function\n",
    "# name example: 20200304-160513 10pN- 30nM DNAp + 0.1mg_mL_BSA #019-002\n",
    "name = input('please type in the file name:' ) + '.tdms'\n",
    "# path example: C:\\Users\\12345\\Desktop\n",
    "path = input('please type in the file path:')\n",
    "filename = os.path.join(path, name) \n",
    "tdms_file = TdmsFile(filename)"
   ]
  },
  {
   "cell_type": "code",
   "execution_count": 5,
   "id": "coastal-oxide",
   "metadata": {},
   "outputs": [
    {
     "data": {
      "application/vnd.jupyter.widget-view+json": {
       "model_id": "4433e424b2f34a0b8e23a2c718f8b155",
       "version_major": 2,
       "version_minor": 0
      },
      "text/plain": [
       "Canvas(toolbar=Toolbar(toolitems=[('Home', 'Reset original view', 'home', 'home'), ('Back', 'Back to previous …"
      ]
     },
     "metadata": {},
     "output_type": "display_data"
    }
   ],
   "source": [
    "\n",
    "time = tdms_file['FD Data']['Time (ms)'][:]\n",
    "time = np.array(time)\n",
    "force = tdms_file['FD Data']['Force Channel 0 (pN)'][:]\n",
    "force = np.array(force)\n",
    "distance = tdms_file['FD Data']['Distance 1 (um)'][:]\n",
    "distance = np.array(distance)\n",
    "\n",
    "# run this step to find out the Time of ROI\n",
    "plt.figure(figsize=(8,6))\n",
    "plt.plot(time,force)\n",
    "plt.xlabel('time/ms')\n",
    "plt.ylabel('force/pN')\n",
    "plt.tight_layout()\n",
    "plt.show()"
   ]
  },
  {
   "cell_type": "code",
   "execution_count": 20,
   "id": "significant-surgeon",
   "metadata": {},
   "outputs": [
    {
     "name": "stdin",
     "output_type": "stream",
     "text": [
      "please type in cycle number of interest(e.g.:01): 01\n",
      "please type in the starting time of exo: 7400\n",
      "please type in the ending time of exo: 96600\n",
      "please type in the starting time of pol: 105600\n",
      "please type in the ending time of pol: 289900\n"
     ]
    }
   ],
   "source": [
    "# please enter cycle number of interest\n",
    "cycle = input('please type in cycle number of interest(e.g.:01):')\n",
    "\n",
    "# time_from_all = float(input('please type in the starting time of interest:'))\n",
    "# time_to_all = float(input('please type in the ending time of interest:'))\n",
    "\n",
    "time_from_exo = float(input('please type in the starting time of exo:'))\n",
    "time_to_exo = float(input('please type in the ending time of exo:'))\n",
    "\n",
    "time_from_pol = float(input('please type in the starting time of pol:'))\n",
    "time_to_pol = float(input('please type in the ending time of pol:'))"
   ]
  },
  {
   "cell_type": "code",
   "execution_count": 21,
   "id": "technical-garage",
   "metadata": {},
   "outputs": [],
   "source": [
    "# here you will select and analyze your interesting cycle with corresponding time range; \n",
    "# define a temporary index to compute time of ROI, and subsuquent ROI of force, distance\n",
    "# indtemp_all = np.where((time <= time_to_all) & (time >= time_from_all))\n",
    "indtemp_exo = np.where((time <= time_to_exo) & (time >= time_from_exo))\n",
    "indtemp_pol = np.where((time <= time_to_pol) & (time >= time_from_pol))\n",
    "\n",
    "# # all time range of event\n",
    "# time_range_all = time[indtemp_all]\n",
    "# force_range_all = force[indtemp_all]\n",
    "# distance_range_all = distance[indtemp_all]\n",
    "\n",
    "# exo time range of ROI\n",
    "time_range_exo = time[indtemp_exo]\n",
    "force_range_exo = force[indtemp_exo]\n",
    "distance_range_exo = distance[indtemp_exo]\n",
    "\n",
    "# pol time range of ROI\n",
    "time_range_pol = time[indtemp_pol]\n",
    "force_range_pol = force[indtemp_pol]\n",
    "distance_range_pol = distance[indtemp_pol]\n",
    "\n",
    "# all time range of ROI\n",
    "time_range_all = np.append(time_range_exo, time_range_pol)\n",
    "force_range_all = np.append(force_range_exo, force_range_pol)\n",
    "distance_range_all = np.append(distance_range_exo, distance_range_pol)"
   ]
  },
  {
   "cell_type": "code",
   "execution_count": 22,
   "id": "medieval-international",
   "metadata": {},
   "outputs": [],
   "source": [
    "# parameters for tWLC model: Peter Gross, et al. Nature Physics volume 7, pages731–736(2011)\n",
    "# dsDNA contour length Lc = 2.85056um; persistent length Lp = 56nm\n",
    "# the twist rigidity C=440 pN nm2;\n",
    "# the stretching modulus S=1500 pN;\n",
    "# the twist–stretch coupling g(F) is given by: g(F) =g0+g1F,where g0=−637 pN nm, g1=17 nm\n",
    "EEDds,Lc,F,Lp,C,g0,g1,S = symbols('EEDds Lc F Lp C g0 g1 S', real=True)\n",
    "C = 440\n",
    "g0= -637\n",
    "g1 = 17\n",
    "Lc = 2.85056\n",
    "Lp = 56\n",
    "S = 1500\n",
    "# tWLC model expression:\n",
    "def tWLC(F):\n",
    "    EEDds = Lc*(1-0.5*(4.1/(F*Lp))**0.5 + C*F/(-(g0+g1*F)**2 + S*C))\n",
    "    return (EEDds)\n",
    "\n",
    "# parameters for FJC model: Smith, S. B., et al. Science 271, 795–799 (1996).\n",
    "# ssDNA contour length Lss = 4.69504um,\n",
    "# Kuhn length b = 1.5nm (persistent length is 0.75nm),\n",
    "# the stretching modulus S=800pN\n",
    "EEDss,Lss,b,Sss = symbols('EEDss Lss b Sss', real=True)\n",
    "Lss = 4.69504\n",
    "b = 1.5\n",
    "Sss = 800\n",
    "# FJC model expression:\n",
    "def FJC(F):\n",
    "    EEDss = []\n",
    "    for Fext in F:\n",
    "        x  = Lss * (coth(Fext * b / 4.1) - 4.1 / (Fext * b)) * (1 + Fext / Sss)\n",
    "        EEDss.append(x)\n",
    "    EEDss = np.array(EEDss)\n",
    "    return (EEDss)\n",
    "\n",
    "# EEDss,Lss,b,Sss,Fext = symbols('EEDss Lss b Sss Fext', real=True)\n",
    "# Lss = 4.69504\n",
    "# b = 1.5\n",
    "# Sss = 800\n",
    "# # FJC model expression:\n",
    "# def FJC(Fext):\n",
    "#     EEDss  = Lss * (coth(Fext * b / 4.1) - 4.1 / (Fext * b)) * (1 + Fext / Sss)\n",
    "#     return (EEDss)"
   ]
  },
  {
   "cell_type": "code",
   "execution_count": 26,
   "id": "first-classic",
   "metadata": {},
   "outputs": [
    {
     "data": {
      "application/vnd.jupyter.widget-view+json": {
       "model_id": "f2db2a83483f4446a7af3336fd53038d",
       "version_major": 2,
       "version_minor": 0
      },
      "text/plain": [
       "Canvas(toolbar=Toolbar(toolitems=[('Home', 'Reset original view', 'home', 'home'), ('Back', 'Back to previous …"
      ]
     },
     "metadata": {},
     "output_type": "display_data"
    }
   ],
   "source": [
    "Force = np.linspace(0.1,68,1000)\n",
    "\n",
    "plt.figure(figsize=(8,6))\n",
    "font = {'family': 'serif',\n",
    "        'weight': 'normal',\n",
    "        'size': 16}\n",
    "\n",
    "plt.xlabel('Distance (um)',fontdict=font)\n",
    "plt.ylabel('Force(pN)',fontdict=font)\n",
    "plt.plot(tWLC(Force),Force,color='red', marker='o', linestyle='dashed',linewidth=2, markersize=2,label='tWLC Model')\n",
    "plt.plot(FJC(Force),Force,color='b', marker='o', linestyle='dashed',linewidth=2, markersize=2,label='FJC Model')\n",
    "\n",
    "plt.legend()\n",
    "plt.title('Experimental Data fit to tWLC and FJC Model',fontdict=font)\n",
    "plt.ylim(-5,72)\n",
    "\n",
    "plt.show()\n",
    "plt.tight_layout()"
   ]
  },
  {
   "cell_type": "code",
   "execution_count": 27,
   "id": "stuck-grenada",
   "metadata": {},
   "outputs": [],
   "source": [
    "# Default bead size = 1.76um, by running this code to fit the right bead size\n",
    "bead_size = 1.79\n",
    "\n",
    "# plot experimental data together with \n",
    "plt.plot(distance_range_all - bead_size, force_range_all, marker='o', linestyle='solid',linewidth=2, markersize=2,label='Experimental Data')\n",
    "plt.legend()\n",
    "plt.tight_layout()\n",
    "plt.show()\n",
    "plt.savefig(path + '-DataFit2Model'+'.png', dpi=150)"
   ]
  },
  {
   "cell_type": "markdown",
   "id": "agreed-pursuit",
   "metadata": {},
   "source": [
    "End-to-end distance between two optically trapped beads consists ssDNA fraction and dsDNA fraction. By calculating:\n",
    "- *ssDNA percentage* : ssDNA % =(𝐸𝐸𝐷 −𝑡𝑊𝐿𝐶(𝐹))/(𝐹𝐽𝐶(𝐹)  −𝑡𝑊𝐿𝐶(𝐹))\n",
    "- *dsDNA percentage* : dsDNA % =1-ssDNA % , \n",
    "- *ssDNA/dsDNA junction position* could be obtained following: Junction position =(𝑠𝑠% ∗𝐹𝐽𝐶(𝐹))/(𝑠𝑠% ∗𝐹𝐽𝐶(𝐹)+𝑑𝑠% ∗𝑒𝑊𝐿𝐶(𝐹) ) * EED). \n",
    "\n",
    "Junction position changes is then plotted as a function of time."
   ]
  },
  {
   "cell_type": "code",
   "execution_count": 28,
   "id": "finnish-catch",
   "metadata": {},
   "outputs": [],
   "source": [
    "# Default exo_force is 50pN and pol_force 20pN \n",
    "exo_force = 45\n",
    "pol_force = 20\n",
    "\n",
    "# calculating the length of dsDNA under exo and pol force\n",
    "dsDNA_exo_ref = tWLC(exo_force)\n",
    "dsDNA_pol_ref = tWLC(pol_force)\n",
    "\n",
    "# calculating the length of ssDNA under exo and pol force\n",
    "ssDNA_exo_ref = 4.69504 * (coth(exo_force * 1.5 / 4.1) - 4.1 / (exo_force * b)) * (1 + exo_force / 800)\n",
    "ssDNA_pol_ref =4.69504 * (coth(pol_force * 1.5 / 4.1) - 4.1 / (pol_force * b)) * (1 + pol_force / 800)"
   ]
  },
  {
   "cell_type": "code",
   "execution_count": 29,
   "id": "solved-employee",
   "metadata": {},
   "outputs": [],
   "source": [
    "# calculating ssDNA under exo and pol force\n",
    "ssDNA_exo_percentage = (distance_range_exo - bead_size - dsDNA_exo_ref)/(ssDNA_exo_ref - dsDNA_exo_ref)\n",
    "ssDNA_pol_percentage = (distance_range_pol - bead_size - dsDNA_pol_ref)/(ssDNA_pol_ref - dsDNA_pol_ref)\n",
    "ssDNA_all_percentage = np.append(ssDNA_exo_percentage,ssDNA_pol_percentage)\n",
    "\n",
    "# calculating basepairs\n",
    "# Construct of pkyb1 DNA has a length of 8393bp\n",
    "basepairs = (1-ssDNA_all_percentage) * 8393"
   ]
  },
  {
   "cell_type": "code",
   "execution_count": 51,
   "id": "handy-henry",
   "metadata": {},
   "outputs": [],
   "source": [
    "# # calculating ssDNA/dsDNA junction position under exo and pol force\n",
    "# junction_position_exo = (ssDNA_exo_percentage * ssDNA_exo_ref) * (distance_range_exo - bead_size) / ((ssDNA_exo_percentage * ssDNA_exo_ref) + (1 - ssDNA_exo_percentage) * dsDNA_exo_ref)\n",
    "# junction_position_pol = (ssDNA_pol_percentage * ssDNA_pol_ref) * (distance_range_pol - bead_size) / ((ssDNA_pol_percentage * ssDNA_pol_ref) + (1 - ssDNA_pol_percentage) * dsDNA_pol_ref)\n",
    "# junction_position_all = np.append(junction_position_exo, junction_position_pol)\n",
    "\n",
    "# Under some occasions, DNA polymerase starts from the other side, then we need to ajust the above math expression \n",
    "# You need to decide based on the image data\n",
    "junction_position_exo = (distance_range_exo - bead_size) - (ssDNA_exo_percentage * ssDNA_exo_ref) * (distance_range_exo - bead_size) / ((ssDNA_exo_percentage * ssDNA_exo_ref) + (1 - ssDNA_exo_percentage) * dsDNA_exo_ref)\n",
    "junction_position_pol = (distance_range_pol - bead_size) - (ssDNA_pol_percentage * ssDNA_pol_ref) * (distance_range_pol - bead_size) / ((ssDNA_pol_percentage * ssDNA_pol_ref) + (1 - ssDNA_pol_percentage) * dsDNA_pol_ref)\n",
    "junction_position_all = np.append(junction_position_exo, junction_position_pol)"
   ]
  },
  {
   "cell_type": "code",
   "execution_count": 64,
   "id": "tracked-store",
   "metadata": {},
   "outputs": [
    {
     "data": {
      "application/vnd.jupyter.widget-view+json": {
       "model_id": "e36d37b4ed6040e6bb3e2f1cd448945e",
       "version_major": 2,
       "version_minor": 0
      },
      "text/plain": [
       "Canvas(toolbar=Toolbar(toolitems=[('Home', 'Reset original view', 'home', 'home'), ('Back', 'Back to previous …"
      ]
     },
     "metadata": {},
     "output_type": "display_data"
    }
   ],
   "source": [
    "# plot DNA polymerase trace as a function of time\n",
    "plt.figure(figsize=(8,6))\n",
    "font = {'family': 'serif',\n",
    "        'weight': 'normal',\n",
    "        'size': 16}\n",
    "\n",
    "plt.title('Time (s)',fontdict=font)\n",
    "plt.ylabel('Distance(um)',fontdict=font)\n",
    "plt.scatter(time_range_all/1000,distance_range_all - bead_size,color='black', linestyle='dashed',linewidth=0.1,label='End-to-End Distance')\n",
    "plt.scatter(time_range_all/1000,junction_position_all,color='green',linewidth=0.1,label='DNA Polymerase Trace')\n",
    "\n",
    "# plt.fill_between(np.array(time_range_all/1000), np.array(junction_position_all),alpha=0.5)\n",
    "\n",
    "plt.legend()\n",
    "plt.ylim(0,4.0)\n",
    "\n",
    "ax = plt.gca()\n",
    "ax.invert_yaxis()\n",
    "ax.xaxis.set_ticks_position('top')\n",
    "\n",
    "\n",
    "plt.show()\n",
    "plt.tight_layout()\n",
    "plt.savefig(path + '-DNApTraces'+'.png', dpi=150)"
   ]
  },
  {
   "cell_type": "code",
   "execution_count": 65,
   "id": "drawn-restriction",
   "metadata": {},
   "outputs": [
    {
     "data": {
      "application/vnd.jupyter.widget-view+json": {
       "model_id": "f03f35c04f844aa5a0fe270d6570e995",
       "version_major": 2,
       "version_minor": 0
      },
      "text/plain": [
       "Canvas(toolbar=Toolbar(toolitems=[('Home', 'Reset original view', 'home', 'home'), ('Back', 'Back to previous …"
      ]
     },
     "metadata": {},
     "output_type": "display_data"
    }
   ],
   "source": [
    "# plot basepair changes as a function of time\n",
    "plt.figure(figsize=(8,6))\n",
    "font = {'family': 'serif',\n",
    "        'weight': 'normal',\n",
    "        'size': 16}\n",
    "\n",
    "plt.xlabel('Time (s)',fontdict=font)\n",
    "plt.ylabel('Basepairs',fontdict=font)\n",
    "plt.plot(time_range_all/1000,basepairs,color='red', marker='o', linestyle='dashed',linewidth=2, markersize=2,label='Basepairs')\n",
    "\n",
    "plt.legend()\n",
    "plt.title('BasePair Changes as a Function of Time',fontdict=font)\n",
    "\n",
    "plt.show()\n",
    "plt.tight_layout()\n",
    "plt.savefig(path + '-BasepairChange'+'.png', dpi=150)"
   ]
  },
  {
   "cell_type": "code",
   "execution_count": 66,
   "id": "express-scratch",
   "metadata": {},
   "outputs": [],
   "source": [
    "# Save all the analyzed data in an excel file\n",
    "excel_filename = path + '-cycle#' + cycle + \"-processedData\" + '.xlsx'\n",
    "# no idea why it causes errors without this step\n",
    "writer = pd.ExcelWriter(excel_filename)\n",
    "data = {'time':time_range_all,\n",
    "        'ssDNA_all_percentage':ssDNA_all_percentage,\n",
    "        'junction_position_all':junction_position_all,\n",
    "        'basepairs':basepairs }\n",
    "df = pd.DataFrame(data)\n",
    "df.to_excel(writer)\n",
    "writer.save()"
   ]
  }
 ],
 "metadata": {
  "kernelspec": {
   "display_name": "Python 3",
   "language": "python",
   "name": "python3"
  },
  "language_info": {
   "codemirror_mode": {
    "name": "ipython",
    "version": 3
   },
   "file_extension": ".py",
   "mimetype": "text/x-python",
   "name": "python",
   "nbconvert_exporter": "python",
   "pygments_lexer": "ipython3",
   "version": "3.8.8"
  }
 },
 "nbformat": 4,
 "nbformat_minor": 5
}
