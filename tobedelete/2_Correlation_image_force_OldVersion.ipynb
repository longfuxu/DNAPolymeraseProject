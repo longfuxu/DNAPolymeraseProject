{
 "cells": [
  {
   "cell_type": "code",
   "execution_count": 1,
   "id": "molecular-extra",
   "metadata": {},
   "outputs": [],
   "source": [
    "# -*-coding:utf-8 -*-\n",
    "# import all the libraries \n",
    "# python==3.8; jupyterlab==3.0.12; lumicks.pylake==0.8.1; matplotlib==3.3.4; more-itertools==8.7.0;\n",
    "# npTDMS==1.1.0; numpy==1.20.1; opencv-python==4.5.1.48; pandas==1.2.3; scipy==1.6.1; tifffile==2021.3.5\n",
    "import os\n",
    "import numpy as np\n",
    "import cv2\n",
    "import pylab as pl\n",
    "import matplotlib.pyplot as plt\n",
    "import matplotlib.patches as patches\n",
    "from mpl_toolkits.mplot3d import Axes3D\n",
    "from matplotlib import collections  as mc\n",
    "from matplotlib import colors as mcolors\n",
    "import pandas as pd\n",
    "from nptdms import TdmsFile\n",
    "from scipy.signal import savgol_filter\n",
    "import tifffile as tif\n",
    "from scipy import interpolate\n",
    "from scipy.interpolate import interp1d\n",
    "%matplotlib widget"
   ]
  },
  {
   "cell_type": "code",
   "execution_count": 5,
   "id": "reverse-congress",
   "metadata": {},
   "outputs": [
    {
     "name": "stdin",
     "output_type": "stream",
     "text": [
      "please type in the file name: 20191018-174353 150mM Na+ 5mM Mg_ 30nM DNAp + trx  + 625uM dNTPs  #001-001\n",
      "please type in the file path: E:\\OneDrive - Vrije Universiteit Amsterdam\\1-Raw Data of all phD projects\\20191018-3\\confocal\n"
     ]
    }
   ],
   "source": [
    "# read raw image data of .tdms file with TdmsFile function\n",
    "# name example: 20200304-160513 10pN- 30nM DNAp + 0.1mg_mL_BSA #019-002\n",
    "kymo_name = input('please type in the file name:' ) + '.tdms'\n",
    "# kymo_name = input('please type in the file name:' ) \n",
    "# path example: C:\\Users\\12345\\Desktop\n",
    "kymo_path = input('please type in the file path:')\n",
    "kymo_filename = os.path.join(kymo_path, kymo_name) "
   ]
  },
  {
   "cell_type": "code",
   "execution_count": 6,
   "id": "republican-beatles",
   "metadata": {},
   "outputs": [
    {
     "name": "stdin",
     "output_type": "stream",
     "text": [
      "please type in the processing cycle(e.g: 1): 1\n"
     ]
    }
   ],
   "source": [
    "kymo_cycle = str('#') + input('please type in the processing cycle(e.g: 1):' )"
   ]
  },
  {
   "cell_type": "code",
   "execution_count": 7,
   "id": "novel-philosophy",
   "metadata": {},
   "outputs": [],
   "source": [
    "# access .tdms file and convert .tdms to image data\n",
    "metadata = TdmsFile.read_metadata(kymo_filename)\n",
    "# print(metadata.properties)\n",
    "width = metadata.properties['Pixels per line']\n",
    "px_size = float(metadata.properties['Scan Command.Scan Command.scanning_axes.0.pix_size_nm'])\n",
    "px_dwell_time = float(metadata.properties['Scan Command.PI Fast Scan Command.pixel_dwell_time_ms'])\n",
    "inter_frame_time = float(metadata.properties['Scan Command.PI Fast Scan Command.inter_frame_wait_time_ms'])\n",
    "\n",
    "tdms_file = TdmsFile(kymo_filename)\n",
    "kymo_time = tdms_file['Data']['Time (ms)'][:]\n",
    "\n",
    "kymo_time = np.array([int(i) for i in kymo_time])\n",
    "kymo_position = tdms_file['Data']['Actual position X (um)'][:]\n",
    "kymo_position = np.array([int(i) for i in kymo_position])\n",
    "height = len(kymo_time)/width\n",
    "time_per_line = kymo_time[-1]/height # this is calculated by (time_per_line = acquisition time/all lines)\n",
    "\n",
    "chn_r = tdms_file['Data']['Pixel ch 1'][:]\n",
    "chn_r = np.array([int(i) for i in chn_r])\n",
    "chn_g = tdms_file['Data']['Pixel ch 2'][:]\n",
    "chn_g = np.array([int(i) for i in chn_g])\n",
    "chn_b = tdms_file['Data']['Pixel ch 3'][:]\n",
    "chn_b = np.array([int(i) for i in chn_b])\n",
    "\n",
    "chn_rgb = np.vstack((chn_r, chn_g, chn_b)).T\n",
    "img = chn_rgb.reshape((int(height), int(width), 3))\n",
    "img = img.transpose((1, 0, 2))\n",
    "img = img.astype(np.uint16)"
   ]
  },
  {
   "cell_type": "code",
   "execution_count": 8,
   "id": "diagnostic-naples",
   "metadata": {},
   "outputs": [
    {
     "data": {
      "application/vnd.jupyter.widget-view+json": {
       "model_id": "e80f0c8ed37243f88aea084190168305",
       "version_major": 2,
       "version_minor": 0
      },
      "text/plain": [
       "Canvas(toolbar=Toolbar(toolitems=[('Home', 'Reset original view', 'home', 'home'), ('Back', 'Back to previous …"
      ]
     },
     "metadata": {},
     "output_type": "display_data"
    }
   ],
   "source": [
    "# show tif image\n",
    "plt.figure(kymo_filename)\n",
    "plt.imshow(img.astype('uint16'),vmax = 10)\n",
    "plt.xlabel('Time/px')\n",
    "plt.ylabel('Position/px')\n",
    "plt.show()\n",
    "plt.tight_layout()"
   ]
  },
  {
   "cell_type": "code",
   "execution_count": 117,
   "id": "fitted-seventh",
   "metadata": {},
   "outputs": [],
   "source": [
    "# save .tdms file to tif image\n",
    "tif.imwrite(kymo_filename + '.tiff', img)"
   ]
  },
  {
   "cell_type": "code",
   "execution_count": 9,
   "id": "roman-portsmouth",
   "metadata": {},
   "outputs": [
    {
     "data": {
      "application/vnd.jupyter.widget-view+json": {
       "model_id": "594440aa4ffa450ea7129eabb5455dba",
       "version_major": 2,
       "version_minor": 0
      },
      "text/plain": [
       "Canvas(toolbar=Toolbar(toolitems=[('Home', 'Reset original view', 'home', 'home'), ('Back', 'Back to previous …"
      ]
     },
     "metadata": {},
     "output_type": "display_data"
    },
    {
     "data": {
      "text/plain": [
       "Text(0.5, 1.0, 'DNA Polymerase on ssDNA')"
      ]
     },
     "execution_count": 9,
     "metadata": {},
     "output_type": "execute_result"
    }
   ],
   "source": [
    "# Plot DNA polymerase from image data\n",
    "b,g,r = cv2.split(img)\n",
    "\n",
    "plt.figure(figsize=(10,4))\n",
    "# the kymograph can be plotted in a normal image or in a reverse black-white image\n",
    "vmax =18\n",
    "plt.imshow(g.astype('uint16'),cmap='gray',vmax = vmax,aspect =\"auto\")\n",
    "# plt.imshow(100-g.astype('uint16'),cmap='gray',vmin = 95,aspect =\"auto\")\n",
    "\n",
    "plt.xlabel(\"Time/px\")\n",
    "plt.ylabel(\"Position/px\")\n",
    "plt.title(\"DNA Polymerase on ssDNA\")"
   ]
  },
  {
   "cell_type": "code",
   "execution_count": 10,
   "id": "hourly-adrian",
   "metadata": {},
   "outputs": [],
   "source": [
    "# this number defines the ROI (region of interest) of image in px; should be tuned to properly display the image\n",
    "kymo_xlim_left = 200\n",
    "kymo_xlim_right = 600\n",
    "plt.xlim(kymo_xlim_left,kymo_xlim_right)\n",
    "plt.ylim(80,35)\n",
    "plt.tight_layout()"
   ]
  },
  {
   "cell_type": "code",
   "execution_count": 171,
   "id": "direct-force",
   "metadata": {},
   "outputs": [
    {
     "ename": "FileNotFoundError",
     "evalue": "[Errno 2] No such file or directory: 'E:\\\\OneDrive - Vrije Universiteit Amsterdam\\\\1-Raw Data of all phD projects\\\\20191018-\\\\force data-cycle#01-processedData.xlsx'",
     "output_type": "error",
     "traceback": [
      "\u001b[1;31m---------------------------------------------------------------------------\u001b[0m",
      "\u001b[1;31mFileNotFoundError\u001b[0m                         Traceback (most recent call last)",
      "\u001b[1;32m<ipython-input-171-444d5df59150>\u001b[0m in \u001b[0;36m<module>\u001b[1;34m\u001b[0m\n\u001b[0;32m      6\u001b[0m \u001b[1;33m\u001b[0m\u001b[0m\n\u001b[0;32m      7\u001b[0m \u001b[0mtrace_file\u001b[0m \u001b[1;33m=\u001b[0m \u001b[0mos\u001b[0m\u001b[1;33m.\u001b[0m\u001b[0mpath\u001b[0m\u001b[1;33m.\u001b[0m\u001b[0mjoin\u001b[0m\u001b[1;33m(\u001b[0m\u001b[0mtrace_path\u001b[0m\u001b[1;33m,\u001b[0m \u001b[0mtrace_name\u001b[0m\u001b[1;33m)\u001b[0m\u001b[1;33m\u001b[0m\u001b[1;33m\u001b[0m\u001b[0m\n\u001b[1;32m----> 8\u001b[1;33m \u001b[0mtrace\u001b[0m \u001b[1;33m=\u001b[0m \u001b[0mpd\u001b[0m\u001b[1;33m.\u001b[0m\u001b[0mread_excel\u001b[0m\u001b[1;33m(\u001b[0m\u001b[0mtrace_file\u001b[0m\u001b[1;33m)\u001b[0m\u001b[1;33m\u001b[0m\u001b[1;33m\u001b[0m\u001b[0m\n\u001b[0m\u001b[0;32m      9\u001b[0m \u001b[0mprint\u001b[0m\u001b[1;33m(\u001b[0m\u001b[0mtrace\u001b[0m\u001b[1;33m.\u001b[0m\u001b[0mhead\u001b[0m\u001b[1;33m(\u001b[0m\u001b[1;33m)\u001b[0m\u001b[1;33m)\u001b[0m\u001b[1;33m\u001b[0m\u001b[1;33m\u001b[0m\u001b[0m\n",
      "\u001b[1;32mc:\\users\\kts260\\appdata\\local\\programs\\python\\python38\\lib\\site-packages\\pandas\\util\\_decorators.py\u001b[0m in \u001b[0;36mwrapper\u001b[1;34m(*args, **kwargs)\u001b[0m\n\u001b[0;32m    297\u001b[0m                 )\n\u001b[0;32m    298\u001b[0m                 \u001b[0mwarnings\u001b[0m\u001b[1;33m.\u001b[0m\u001b[0mwarn\u001b[0m\u001b[1;33m(\u001b[0m\u001b[0mmsg\u001b[0m\u001b[1;33m,\u001b[0m \u001b[0mFutureWarning\u001b[0m\u001b[1;33m,\u001b[0m \u001b[0mstacklevel\u001b[0m\u001b[1;33m=\u001b[0m\u001b[0mstacklevel\u001b[0m\u001b[1;33m)\u001b[0m\u001b[1;33m\u001b[0m\u001b[1;33m\u001b[0m\u001b[0m\n\u001b[1;32m--> 299\u001b[1;33m             \u001b[1;32mreturn\u001b[0m \u001b[0mfunc\u001b[0m\u001b[1;33m(\u001b[0m\u001b[1;33m*\u001b[0m\u001b[0margs\u001b[0m\u001b[1;33m,\u001b[0m \u001b[1;33m**\u001b[0m\u001b[0mkwargs\u001b[0m\u001b[1;33m)\u001b[0m\u001b[1;33m\u001b[0m\u001b[1;33m\u001b[0m\u001b[0m\n\u001b[0m\u001b[0;32m    300\u001b[0m \u001b[1;33m\u001b[0m\u001b[0m\n\u001b[0;32m    301\u001b[0m         \u001b[1;32mreturn\u001b[0m \u001b[0mwrapper\u001b[0m\u001b[1;33m\u001b[0m\u001b[1;33m\u001b[0m\u001b[0m\n",
      "\u001b[1;32mc:\\users\\kts260\\appdata\\local\\programs\\python\\python38\\lib\\site-packages\\pandas\\io\\excel\\_base.py\u001b[0m in \u001b[0;36mread_excel\u001b[1;34m(io, sheet_name, header, names, index_col, usecols, squeeze, dtype, engine, converters, true_values, false_values, skiprows, nrows, na_values, keep_default_na, na_filter, verbose, parse_dates, date_parser, thousands, comment, skipfooter, convert_float, mangle_dupe_cols, storage_options)\u001b[0m\n\u001b[0;32m    334\u001b[0m     \u001b[1;32mif\u001b[0m \u001b[1;32mnot\u001b[0m \u001b[0misinstance\u001b[0m\u001b[1;33m(\u001b[0m\u001b[0mio\u001b[0m\u001b[1;33m,\u001b[0m \u001b[0mExcelFile\u001b[0m\u001b[1;33m)\u001b[0m\u001b[1;33m:\u001b[0m\u001b[1;33m\u001b[0m\u001b[1;33m\u001b[0m\u001b[0m\n\u001b[0;32m    335\u001b[0m         \u001b[0mshould_close\u001b[0m \u001b[1;33m=\u001b[0m \u001b[1;32mTrue\u001b[0m\u001b[1;33m\u001b[0m\u001b[1;33m\u001b[0m\u001b[0m\n\u001b[1;32m--> 336\u001b[1;33m         \u001b[0mio\u001b[0m \u001b[1;33m=\u001b[0m \u001b[0mExcelFile\u001b[0m\u001b[1;33m(\u001b[0m\u001b[0mio\u001b[0m\u001b[1;33m,\u001b[0m \u001b[0mstorage_options\u001b[0m\u001b[1;33m=\u001b[0m\u001b[0mstorage_options\u001b[0m\u001b[1;33m,\u001b[0m \u001b[0mengine\u001b[0m\u001b[1;33m=\u001b[0m\u001b[0mengine\u001b[0m\u001b[1;33m)\u001b[0m\u001b[1;33m\u001b[0m\u001b[1;33m\u001b[0m\u001b[0m\n\u001b[0m\u001b[0;32m    337\u001b[0m     \u001b[1;32melif\u001b[0m \u001b[0mengine\u001b[0m \u001b[1;32mand\u001b[0m \u001b[0mengine\u001b[0m \u001b[1;33m!=\u001b[0m \u001b[0mio\u001b[0m\u001b[1;33m.\u001b[0m\u001b[0mengine\u001b[0m\u001b[1;33m:\u001b[0m\u001b[1;33m\u001b[0m\u001b[1;33m\u001b[0m\u001b[0m\n\u001b[0;32m    338\u001b[0m         raise ValueError(\n",
      "\u001b[1;32mc:\\users\\kts260\\appdata\\local\\programs\\python\\python38\\lib\\site-packages\\pandas\\io\\excel\\_base.py\u001b[0m in \u001b[0;36m__init__\u001b[1;34m(self, path_or_buffer, engine, storage_options)\u001b[0m\n\u001b[0;32m   1069\u001b[0m                 \u001b[0mext\u001b[0m \u001b[1;33m=\u001b[0m \u001b[1;34m\"xls\"\u001b[0m\u001b[1;33m\u001b[0m\u001b[1;33m\u001b[0m\u001b[0m\n\u001b[0;32m   1070\u001b[0m             \u001b[1;32melse\u001b[0m\u001b[1;33m:\u001b[0m\u001b[1;33m\u001b[0m\u001b[1;33m\u001b[0m\u001b[0m\n\u001b[1;32m-> 1071\u001b[1;33m                 ext = inspect_excel_format(\n\u001b[0m\u001b[0;32m   1072\u001b[0m                     \u001b[0mcontent\u001b[0m\u001b[1;33m=\u001b[0m\u001b[0mpath_or_buffer\u001b[0m\u001b[1;33m,\u001b[0m \u001b[0mstorage_options\u001b[0m\u001b[1;33m=\u001b[0m\u001b[0mstorage_options\u001b[0m\u001b[1;33m\u001b[0m\u001b[1;33m\u001b[0m\u001b[0m\n\u001b[0;32m   1073\u001b[0m                 )\n",
      "\u001b[1;32mc:\\users\\kts260\\appdata\\local\\programs\\python\\python38\\lib\\site-packages\\pandas\\io\\excel\\_base.py\u001b[0m in \u001b[0;36minspect_excel_format\u001b[1;34m(path, content, storage_options)\u001b[0m\n\u001b[0;32m    947\u001b[0m     \u001b[1;32massert\u001b[0m \u001b[0mcontent_or_path\u001b[0m \u001b[1;32mis\u001b[0m \u001b[1;32mnot\u001b[0m \u001b[1;32mNone\u001b[0m\u001b[1;33m\u001b[0m\u001b[1;33m\u001b[0m\u001b[0m\n\u001b[0;32m    948\u001b[0m \u001b[1;33m\u001b[0m\u001b[0m\n\u001b[1;32m--> 949\u001b[1;33m     with get_handle(\n\u001b[0m\u001b[0;32m    950\u001b[0m         \u001b[0mcontent_or_path\u001b[0m\u001b[1;33m,\u001b[0m \u001b[1;34m\"rb\"\u001b[0m\u001b[1;33m,\u001b[0m \u001b[0mstorage_options\u001b[0m\u001b[1;33m=\u001b[0m\u001b[0mstorage_options\u001b[0m\u001b[1;33m,\u001b[0m \u001b[0mis_text\u001b[0m\u001b[1;33m=\u001b[0m\u001b[1;32mFalse\u001b[0m\u001b[1;33m\u001b[0m\u001b[1;33m\u001b[0m\u001b[0m\n\u001b[0;32m    951\u001b[0m     ) as handle:\n",
      "\u001b[1;32mc:\\users\\kts260\\appdata\\local\\programs\\python\\python38\\lib\\site-packages\\pandas\\io\\common.py\u001b[0m in \u001b[0;36mget_handle\u001b[1;34m(path_or_buf, mode, encoding, compression, memory_map, is_text, errors, storage_options)\u001b[0m\n\u001b[0;32m    649\u001b[0m         \u001b[1;32melse\u001b[0m\u001b[1;33m:\u001b[0m\u001b[1;33m\u001b[0m\u001b[1;33m\u001b[0m\u001b[0m\n\u001b[0;32m    650\u001b[0m             \u001b[1;31m# Binary mode\u001b[0m\u001b[1;33m\u001b[0m\u001b[1;33m\u001b[0m\u001b[1;33m\u001b[0m\u001b[0m\n\u001b[1;32m--> 651\u001b[1;33m             \u001b[0mhandle\u001b[0m \u001b[1;33m=\u001b[0m \u001b[0mopen\u001b[0m\u001b[1;33m(\u001b[0m\u001b[0mhandle\u001b[0m\u001b[1;33m,\u001b[0m \u001b[0mioargs\u001b[0m\u001b[1;33m.\u001b[0m\u001b[0mmode\u001b[0m\u001b[1;33m)\u001b[0m\u001b[1;33m\u001b[0m\u001b[1;33m\u001b[0m\u001b[0m\n\u001b[0m\u001b[0;32m    652\u001b[0m         \u001b[0mhandles\u001b[0m\u001b[1;33m.\u001b[0m\u001b[0mappend\u001b[0m\u001b[1;33m(\u001b[0m\u001b[0mhandle\u001b[0m\u001b[1;33m)\u001b[0m\u001b[1;33m\u001b[0m\u001b[1;33m\u001b[0m\u001b[0m\n\u001b[0;32m    653\u001b[0m \u001b[1;33m\u001b[0m\u001b[0m\n",
      "\u001b[1;31mFileNotFoundError\u001b[0m: [Errno 2] No such file or directory: 'E:\\\\OneDrive - Vrije Universiteit Amsterdam\\\\1-Raw Data of all phD projects\\\\20191018-\\\\force data-cycle#01-processedData.xlsx'"
     ]
    }
   ],
   "source": [
    "# read and plot the DNA trace calculated from force measurement (1_CalculatingDNApTrace_OT.py)\n",
    "# trace_name = input('please type in the file name:' ) + '.xlsx'\n",
    "# trace_path = input('please type in the file path:')\n",
    "trace_name = 'force data-cycle#01-processedData.xlsx'\n",
    "trace_path = kymo_path[:-10]\n",
    "\n",
    "trace_file = os.path.join(trace_path, trace_name) \n",
    "trace = pd.read_excel(trace_file)\n",
    "print(trace.head())"
   ]
  },
  {
   "cell_type": "code",
   "execution_count": 56,
   "id": "herbal-breakdown",
   "metadata": {},
   "outputs": [],
   "source": [
    "# the following step is intended to plot the DNA junction on top of DNAp trajectory\n",
    "# The time of image is used for reference and displayed\n",
    "# Tune x_offset and y_offset to get the proper alignment\n",
    "# plt.figure(figsize=(8,6))\n",
    "plt.xlabel(\"Time/px\")\n",
    "plt.ylabel(\"Position/px\")\n",
    "plt.title(\"DNA Polymerase Trace\")\n",
    "x_offset_searching = -26 # this is done by align starting time in pixel （larger absolute value moves to left）\n",
    "y_offset_searching = 30 # this is done by align starting position in pixel \n",
    "x_cali = 1000/time_per_line  # this is calculated by (1s/time per line， e.g.：163.8ms)\n",
    "y_cali = 1000/px_size # this is calculated by (1um/pixel size, in this case pixlsize = 75nm)\n",
    "trace_time = trace['time']/1000 * x_cali + x_offset_searching\n",
    "trace_time = trace_time.dropna()\n",
    "position = pd.to_numeric(trace['junction_position_all'], errors='coerce') \n",
    "position = position * y_cali + y_offset_searching\n",
    "position = position.dropna()\n",
    "\n",
    "plt.plot(trace_time,position,'r',linewidth = 1, label = 'first trial correlation')\n",
    "# plt.ylim(25,85)\n",
    "# plt.legend()\n",
    "plt.show()\n",
    "# plt.savefig(kymo_path  + '-cycle' + kymo_cycle +'-overlap'+'.png', dpi=300)"
   ]
  },
  {
   "cell_type": "code",
   "execution_count": 57,
   "id": "generic-asset",
   "metadata": {},
   "outputs": [
    {
     "name": "stdout",
     "output_type": "stream",
     "text": [
      "[-21]\n",
      "[30]\n"
     ]
    }
   ],
   "source": [
    "# this step is intended to automatically find the optimal x_offset and y_offset by searching in a confined space, \n",
    "# wiht a searching goal of maximizing the intensity along DNAp trace\n",
    "x_offset_ls = []\n",
    "y_offset_ls = []\n",
    "intens_sum_ls = []\n",
    "for i_x in np.arange(-5,6):\n",
    "    for i_y in np.arange (-2,3):\n",
    "        x_offset = x_offset_searching + i_x\n",
    "        y_offset = y_offset_searching + i_y\n",
    "        # print(x_offset,y_offset)\n",
    "        trace_time = trace['time']/1000 * x_cali + x_offset\n",
    "        trace_time = trace_time.dropna()\n",
    "        position = pd.to_numeric(trace['junction_position_all'], errors='coerce') \n",
    "        position = position * y_cali + y_offset\n",
    "        position = position.dropna()\n",
    "        \n",
    "\n",
    "        # In order to calculate the the intensity of protein trace as a function of time (px), we first need the locate the protein trace based on DNA trajectory\n",
    "        # this is done by reading the coordinates (time, position) of protein trace in kymograph based on the overlapping of force data and image data.\n",
    "        # Since the sampling rate is different between force data and image data, therefore interpolate is performed\n",
    "        func = interpolate.interp1d(trace_time,position,kind='slinear',fill_value=\"extrapolate\")\n",
    "\n",
    "        # x defines the pixel in time\n",
    "        # x = np.arange(round(trace_time.iloc[0]),round(trace_time.iloc[-1]))\n",
    "        # to exclude part of the trajectory that is too close to the bright bead\n",
    "        x = np.arange(round(trace_time.iloc[100]),round(trace_time.iloc[-1]))\n",
    "        # x1 here traces back to time in unit of s\n",
    "        x1 = (x-x_offset)/x_cali\n",
    "        y = func(x)\n",
    "        y = np.rint(y).astype(int)\n",
    "        # the sum of the intensity along DNAp\n",
    "        intens_sum = np.sum(g[y,x])\n",
    "        \n",
    "        x_offset_ls.append(x_offset)\n",
    "        y_offset_ls.append(y_offset)\n",
    "        intens_sum_ls.append(intens_sum)\n",
    "        \n",
    "x_offset_ls = np.array(x_offset_ls)       \n",
    "y_offset_ls = np.array(y_offset_ls)\n",
    "intens_sum_ls = np.array(intens_sum_ls)\n",
    "\n",
    "# this step is to find out the index of the maximum value of intensity\n",
    "intens_ind = np.where(intens_sum_ls[:] == np.amax(intens_sum_ls[:]))\n",
    "x_offset_optimal = x_offset_ls[intens_ind]\n",
    "y_offset_optimal = y_offset_ls[intens_ind]\n",
    "print(x_offset_optimal)\n",
    "print(y_offset_optimal)\n",
    "trace_time = trace['time']/1000 * x_cali + x_offset_optimal\n",
    "trace_time = trace_time.dropna()\n",
    "position = pd.to_numeric(trace['junction_position_all'], errors='coerce') \n",
    "position = position * y_cali + y_offset_optimal\n",
    "position = position.dropna()\n",
    "plt.plot(trace_time,position,'b',linewidth = 2, label = 'optimal correlation')\n",
    "plt.legend()        \n",
    "plt.show()\n",
    "\n",
    "\n",
    "# plt.savefig(kymo_path  + '-cycle' + kymo_cycle +'-overlap'+'.png', dpi=300)"
   ]
  },
  {
   "cell_type": "code",
   "execution_count": 58,
   "id": "municipal-hollywood",
   "metadata": {},
   "outputs": [
    {
     "data": {
      "application/vnd.jupyter.widget-view+json": {
       "model_id": "c309c1b56caa4c06a05f05f0aae23f48",
       "version_major": 2,
       "version_minor": 0
      },
      "text/plain": [
       "Canvas(toolbar=Toolbar(toolitems=[('Home', 'Reset original view', 'home', 'home'), ('Back', 'Back to previous …"
      ]
     },
     "metadata": {},
     "output_type": "display_data"
    }
   ],
   "source": [
    "# the fllowing code is intended to plot the intensity as a function of x-offset and y-offset in 3d\n",
    "from mpl_toolkits.mplot3d import Axes3D\n",
    "from matplotlib import cm\n",
    "fig = plt.figure()\n",
    "ax = fig.add_subplot(111, projection='3d')\n",
    "#surf = ax.plot_trisurf(Xs, Ys, Zs, cmap=cm.jet, linewidth=0)\n",
    "surf = ax.plot_trisurf(x_offset_ls, y_offset_ls, intens_sum_ls, cmap=cm.jet, linewidth=0)\n",
    "fig.colorbar(surf)\n",
    "ax.set_xlabel('X-offset')\n",
    "ax.set_ylabel('Y-offset')\n",
    "ax.set_zlabel('Intensity of DNAp Trace')\n",
    "\n",
    "plt.show()"
   ]
  },
  {
   "cell_type": "markdown",
   "id": "signal-permit",
   "metadata": {},
   "source": [
    "In case you happen to see the DNAp moving in an opposite direction, go back to step1 (1_CalculatingDNApTrace_OT.py) and recalculate the junction position"
   ]
  },
  {
   "cell_type": "code",
   "execution_count": 59,
   "id": "logical-court",
   "metadata": {},
   "outputs": [
    {
     "data": {
      "application/vnd.jupyter.widget-view+json": {
       "model_id": "e701733d0a5d491496e5c2bee03e69df",
       "version_major": 2,
       "version_minor": 0
      },
      "text/plain": [
       "Canvas(toolbar=Toolbar(toolitems=[('Home', 'Reset original view', 'home', 'home'), ('Back', 'Back to previous …"
      ]
     },
     "metadata": {},
     "output_type": "display_data"
    }
   ],
   "source": [
    "# In order to calculate the the intensity of protein trace as a function of time (px), we first need the locate the protein trace based on DNA trajectory\n",
    "# this is done by reading the coordinates (time, position) of protein trace in kymograph based on the overlapping of force data and image data.\n",
    "# Since the sampling rate is different between force data and image data, therefore interpolate is performed\n",
    "func = interpolate.interp1d(trace_time,position,kind='slinear',fill_value=\"extrapolate\")\n",
    "# x defines the pixel in time\n",
    "x = np.arange(round(trace_time.iloc[0]),round(trace_time.iloc[-1]))\n",
    "# x1 here traces back to time in unit of s\n",
    "x1 = (x-x_offset_optimal)/x_cali\n",
    "y = func(x)\n",
    "y = np.rint(y).astype(int)\n",
    "plt.figure(figsize=(10,3))\n",
    "plt.plot(x,y)\n",
    "plt.xlabel(\"Time/px\")\n",
    "plt.ylabel(\"Position/px\")\n",
    "plt.tight_layout()\n",
    "plt.show()\n",
    "# print(trace_time)\n",
    "# print(position)\n",
    "# print(x)\n",
    "# print(y)"
   ]
  },
  {
   "cell_type": "code",
   "execution_count": 60,
   "id": "embedded-scholarship",
   "metadata": {},
   "outputs": [
    {
     "data": {
      "application/vnd.jupyter.widget-view+json": {
       "model_id": "4d87f5daabc54396a9889264414eec18",
       "version_major": 2,
       "version_minor": 0
      },
      "text/plain": [
       "Canvas(toolbar=Toolbar(toolitems=[('Home', 'Reset original view', 'home', 'home'), ('Back', 'Back to previous …"
      ]
     },
     "metadata": {},
     "output_type": "display_data"
    }
   ],
   "source": [
    "# this step is to plot the intensity on the axis of DNAp trace\n",
    "# img has been split into 3 channels, b,g,r; so here green channel is used\n",
    "ins = g[y,x]\n",
    "plt.figure(figsize=(8,3))\n",
    "plt.plot(x1,ins)\n",
    "plt.xlabel(\"Time/s\")\n",
    "plt.ylabel(\"Intensity/photon\")\n",
    "plt.title(\"Intensity along DNA polymerase Trajectory\")\n",
    "plt.tight_layout()\n",
    "# plt.ylim(0,30)\n",
    "plt.show()"
   ]
  },
  {
   "cell_type": "code",
   "execution_count": 61,
   "id": "tight-movement",
   "metadata": {},
   "outputs": [
    {
     "data": {
      "application/vnd.jupyter.widget-view+json": {
       "model_id": "90615a84c12143bbb8b07ee19700d5cb",
       "version_major": 2,
       "version_minor": 0
      },
      "text/plain": [
       "Canvas(toolbar=Toolbar(toolitems=[('Home', 'Reset original view', 'home', 'home'), ('Back', 'Back to previous …"
      ]
     },
     "metadata": {},
     "output_type": "display_data"
    }
   ],
   "source": [
    "# sum up 5 pixels around DNAp trace\n",
    "list = [y-2, y-1, y, y+1, y+2]\n",
    "intensity = np.zeros((len(list),len(x)), dtype=int)\n",
    "all_intensity = np.zeros((len(x),), dtype=int)\n",
    "for i, value in enumerate(list):\n",
    "    intensity[i] = g[value,x]\n",
    "#     print(intensity)\n",
    "    all_intensity += g[value,x]\n",
    "    \n",
    "# print(intensity)\n",
    "# print(all_intensity)\n",
    "plt.figure(figsize=(8,3))\n",
    "plt.plot(x1,all_intensity)\n",
    "plt.xlabel(\"Time/s\")\n",
    "plt.ylabel(\"Intensity/photon\")\n",
    "plt.title(\"Intensity along DNA polymerase Trajectory\")\n",
    "plt.tight_layout()\n",
    "plt.xlim((kymo_xlim_left-x_offset_optimal)/x_cali,(kymo_xlim_right-x_offset_optimal)/x_cali)\n",
    "# plt.ylim(0,70)\n",
    "plt.show()"
   ]
  },
  {
   "cell_type": "code",
   "execution_count": 62,
   "id": "thirty-ultimate",
   "metadata": {},
   "outputs": [
    {
     "data": {
      "application/vnd.jupyter.widget-view+json": {
       "model_id": "91cee480bb1b4ef3a3add5375fc93403",
       "version_major": 2,
       "version_minor": 0
      },
      "text/plain": [
       "Canvas(toolbar=Toolbar(toolitems=[('Home', 'Reset original view', 'home', 'home'), ('Back', 'Back to previous …"
      ]
     },
     "metadata": {},
     "output_type": "display_data"
    }
   ],
   "source": [
    "# this code block is intended to overlap the basepair-time and raw intensity -time plots\n",
    "basepair = pd.read_excel(trace_file)\n",
    "bp_time = basepair['time']/1000\n",
    "bp_time = bp_time.dropna()\n",
    "bp = basepair['basepairs']\n",
    "bp = bp.dropna()\n",
    "\n",
    "fig, ax1 = plt.subplots(figsize=(8,3))\n",
    "\n",
    "ax2 = ax1.twinx()\n",
    "ax1.plot(bp_time,bp,color='black',linewidth=1, label='basepairs')\n",
    "ax1.set_xlabel('Time/s')\n",
    "ax1.set_ylabel('Basepairs', color='black')\n",
    "\n",
    "ax2.plot(x1,all_intensity,color='green',linewidth=1, label='fluorescence intensity')\n",
    "\n",
    "ax2.set_ylabel('Fluorescence intensity(a.u.)', color='green')\n",
    "plt.xlim((kymo_xlim_left-x_offset_optimal)/x_cali,(kymo_xlim_right-x_offset_optimal)/x_cali)\n",
    "# plt.legend()\n",
    "# plt.xlim(35,70)\n",
    "plt.show()\n",
    "plt.tight_layout()\n",
    "plt.savefig(kymo_path + '-cycle' + kymo_cycle + '-raw Bp-intensity along DNAp Trajectory'+'.png', dpi=300)"
   ]
  },
  {
   "cell_type": "code",
   "execution_count": 63,
   "id": "diagnostic-decision",
   "metadata": {},
   "outputs": [
    {
     "ename": "NameError",
     "evalue": "name 'pasue' is not defined",
     "output_type": "error",
     "traceback": [
      "\u001b[1;31m---------------------------------------------------------------------------\u001b[0m",
      "\u001b[1;31mNameError\u001b[0m                                 Traceback (most recent call last)",
      "\u001b[1;32m<ipython-input-63-f5a8d05224ed>\u001b[0m in \u001b[0;36m<module>\u001b[1;34m\u001b[0m\n\u001b[1;32m----> 1\u001b[1;33m \u001b[0mpasue\u001b[0m\u001b[1;33m\u001b[0m\u001b[1;33m\u001b[0m\u001b[0m\n\u001b[0m",
      "\u001b[1;31mNameError\u001b[0m: name 'pasue' is not defined"
     ]
    }
   ],
   "source": [
    "pasue"
   ]
  },
  {
   "cell_type": "markdown",
   "id": "encouraging-diabetes",
   "metadata": {},
   "source": [
    "# Two Mathods to extract the DNAp-bound events\n",
    "## Method 1 based on local time-dependent S/N"
   ]
  },
  {
   "cell_type": "code",
   "execution_count": null,
   "id": "green-spectrum",
   "metadata": {},
   "outputs": [],
   "source": [
    "# sum up 9 pixels around DNAp trace and treat this part as local background\n",
    "list_bg = [y-5,y-4,y-3,y-2, y-1, y, y+1, y+2,y+3,y+4,y+5]\n",
    "intensity_bg = np.zeros((len(list_bg),len(x)), dtype=int)\n",
    "all_intensity_bg = np.zeros((len(x),), dtype=int)\n",
    "for i, value in enumerate(list_bg):\n",
    "    intensity_bg[i] = g[value,x]\n",
    "#     print(intensity)\n",
    "    all_intensity_bg += g[value,x]\n",
    "    \n",
    "# print(intensity)\n",
    "# print(all_intensity)\n",
    "plt.figure(figsize=(8,3))\n",
    "plt.plot(x1,all_intensity_bg,label = \"All Intensity\")\n",
    "plt.plot(x1,all_intensity,label = \"Signal\")\n",
    "plt.plot(x1,all_intensity_bg - all_intensity -50 ,label = \"Background with offset\")\n",
    "plt.xlabel(\"Time/s\")\n",
    "plt.ylabel(\"Intensity/photon\")\n",
    "plt.title(\"Time-dependant S/N along DNA polymerase Trajectory\")\n",
    "plt.tight_layout()\n",
    "plt.legend()\n",
    "plt.xlim((kymo_xlim_left-x_offset_optimal)/x_cali,(kymo_xlim_right-x_offset_optimal)/x_cali)\n",
    "# plt.ylim(-50,80)\n",
    "plt.show()\n",
    "plt.savefig(kymo_path + '-cycle' + kymo_cycle + '-Time-dependant SN along DNA polymerase Trajectory'+'.png', dpi=300)"
   ]
  },
  {
   "cell_type": "code",
   "execution_count": null,
   "id": "understood-professor",
   "metadata": {},
   "outputs": [],
   "source": [
    "sig = all_intensity\n",
    "noi = (all_intensity_bg-all_intensity)*5/6\n",
    "sig_filter = savgol_filter(sig[:], 5, 3)\n",
    "noi_filter = savgol_filter(noi[:], 5, 3)\n",
    "loc_sig_noi = sig_filter/noi_filter\n",
    "# loc_sig_noi = savgol_filter(loc_sig_noi[:], 5, 3)\n",
    "\n",
    "\n",
    "plt.figure(figsize=(8,3))\n",
    "# plt.plot(x1,all_intensity/((all_intensity_bg-all_intensity)*5/6))\n",
    "plt.plot(x1,loc_sig_noi)\n",
    "# loc_s_n = all_intensity/((all_intensity_bg-all_intensity)*5/6)\n",
    "plt.xlabel(\"Time/s\")\n",
    "plt.ylabel(\"Local S/N\")\n",
    "plt.title(\"Local S/N along DNAp Trajectory\")\n",
    "plt.tight_layout()\n",
    "plt.xlim((kymo_xlim_left-x_offset_optimal)/x_cali,(kymo_xlim_right-x_offset_optimal)/x_cali)\n",
    "plt.axhline(1.2, color='grey', linestyle='--')\n",
    "plt.ylim(0,3)\n",
    "plt.show()\n",
    "plt.savefig(kymo_path + '-cycle' + kymo_cycle + '-Time-dependant SN'+'.png', dpi=300)"
   ]
  },
  {
   "cell_type": "markdown",
   "id": "optimum-socket",
   "metadata": {},
   "source": [
    "# Two Mathods to extract the DNAp-bound events\n",
    "## Method 2 based on global S/N\n",
    "## In the following analysis, we exployed Method 2 to detect the DNAp"
   ]
  },
  {
   "cell_type": "code",
   "execution_count": 64,
   "id": "taken-creation",
   "metadata": {},
   "outputs": [
    {
     "data": {
      "application/vnd.jupyter.widget-view+json": {
       "model_id": "ab11a4cf22ac42ec98fbdf61025984a5",
       "version_major": 2,
       "version_minor": 0
      },
      "text/plain": [
       "Canvas(toolbar=Toolbar(toolitems=[('Home', 'Reset original view', 'home', 'home'), ('Back', 'Back to previous …"
      ]
     },
     "metadata": {},
     "output_type": "display_data"
    }
   ],
   "source": [
    "# Apply a Savitzky-Golay filter to an array.\n",
    "signal = all_intensity\n",
    "signal_filter_window = 7\n",
    "signal_filter = savgol_filter(signal[:], signal_filter_window, 3) # filter window size of 47 gives us a sampling rate of 0.1HZ\n",
    "# dt = x[1]-x[0]\n",
    "# signal_filter_grad = np.gradient(signal_filter, dt)\n",
    "# plt.figure()\n",
    "\n",
    "plt.figure(figsize=(8,3))\n",
    "plt.plot(x1,all_intensity)\n",
    "plt.plot(x1,signal_filter)\n",
    "plt.xlabel(\"Time/s\")\n",
    "plt.ylabel(\"Intensity/photon\")\n",
    "plt.title(\"Intensity along DNA polymerase Trajectory\")\n",
    "plt.tight_layout()\n",
    "plt.xlim((kymo_xlim_left-x_offset_optimal)/x_cali,(kymo_xlim_right-x_offset_optimal)/x_cali)\n",
    "# plt.ylim(0,30)\n",
    "plt.show()\n",
    "plt.savefig(kymo_path + '-cycle' + kymo_cycle + '-Intensity along DNA polymerase Trajectory'+'.png', dpi=300)"
   ]
  },
  {
   "cell_type": "code",
   "execution_count": null,
   "id": "visible-america",
   "metadata": {},
   "outputs": [],
   "source": [
    "pause"
   ]
  },
  {
   "cell_type": "code",
   "execution_count": 11,
   "id": "studied-adolescent",
   "metadata": {},
   "outputs": [
    {
     "data": {
      "application/vnd.jupyter.widget-view+json": {
       "model_id": "a1c93c0f092c46dd87519782b3b5b0c9",
       "version_major": 2,
       "version_minor": 0
      },
      "text/plain": [
       "Canvas(toolbar=Toolbar(toolitems=[('Home', 'Reset original view', 'home', 'home'), ('Back', 'Back to previous …"
      ]
     },
     "metadata": {},
     "output_type": "display_data"
    }
   ],
   "source": [
    "# the following code blocks are to find out the intensity of the background, by selecting a region in the kymopgraph and calculating the intensity\n",
    "# step 1: selecting the ROI of background\n",
    "plt.figure(figsize=(6,1.8))\n",
    "# the kymograph can be plotted in a normal way or in a reverse way\n",
    "# plt.imshow(g.astype('uint16'),cmap='gray',vmax = 10,aspect =\"auto\")\n",
    "plt.imshow(g.astype('uint16'),cmap='gray',vmax = vmax,aspect =\"auto\")\n",
    "currentAxis=plt.gca()\n",
    "# for consistentence, background window is selected with a fixed size (5px * 200px)\n",
    "rec_x,rec_y,rec_w,rec_h = [350,61,5,250]\n",
    "# rec_x,rec_y,rec_w,rec_h = [350,46,len(list),40]\n",
    "rect=patches.Rectangle((rec_x,rec_y),rec_h,rec_w,linewidth=2,edgecolor='r',facecolor='none',fill=False)\n",
    "# rect2=patches.Rectangle((rec_x,rec_y+10),rec_h,rec_w,linewidth=2,edgecolor='yellow',facecolor='none',fill=False)\n",
    "currentAxis.add_patch(rect)\n",
    "# currentAxis.add_patch(rect2)\n",
    "\n",
    "plt.xlabel(\"Time/px\")\n",
    "plt.ylabel(\"Position/px\")\n",
    "# plt.title(\"DNA Polymerase Trace\")\n",
    "# plt.ylim(72,42)\n",
    "# # plt.xlim(kymo_xlim_left,kymo_xlim_right)\n",
    "# plt.xlim(320,520)\n",
    "plt.tight_layout()\n",
    "plt.savefig(kymo_path + '-cycle' + kymo_cycle + '-background Intensity_kymo'+'.png', dpi=300)"
   ]
  },
  {
   "cell_type": "code",
   "execution_count": 245,
   "id": "lightweight-manufacturer",
   "metadata": {},
   "outputs": [
    {
     "name": "stdout",
     "output_type": "stream",
     "text": [
      "164.9984399375975\n"
     ]
    }
   ],
   "source": [
    "print(time_per_line)"
   ]
  },
  {
   "cell_type": "code",
   "execution_count": 12,
   "id": "automatic-hotel",
   "metadata": {
    "tags": []
   },
   "outputs": [
    {
     "data": {
      "application/vnd.jupyter.widget-view+json": {
       "model_id": "66b83f91fb9948c5bfe17c3e2f8b0ca4",
       "version_major": 2,
       "version_minor": 0
      },
      "text/plain": [
       "Canvas(toolbar=Toolbar(toolitems=[('Home', 'Reset original view', 'home', 'home'), ('Back', 'Back to previous …"
      ]
     },
     "metadata": {},
     "output_type": "display_data"
    }
   ],
   "source": [
    "# step 2: calculating the intensity of the background\n",
    "list = [rec_y,rec_y+1,rec_y+2,rec_y+3,rec_y+4]\n",
    "rec_x_list = np.arange(rec_x, rec_x+rec_h)\n",
    "bagrnd_intensity = np.zeros((rec_w,len(rec_x_list)), dtype=int)\n",
    "bagrnd_all_intensity = np.zeros((len(rec_x_list),), dtype=int)\n",
    "for i, value in enumerate(list):\n",
    "    bagrnd_intensity[i] = g[value,rec_x_list]\n",
    "#     print(intensity)\n",
    "    bagrnd_all_intensity += g[value,rec_x_list]\n",
    "\n",
    "plt.figure(figsize=(4,3))\n",
    "plt.plot(rec_x_list*time_per_line/1000,bagrnd_all_intensity,linestyle='solid',linewidth=0.3, markersize=0.5,label='Background Signal')\n",
    "\n",
    "# plt.xlim(rec_x,rec_x+rec_h)\n",
    "plt.xlabel(\"Time/s\")\n",
    "plt.ylabel(\"Intensity/photon\")\n",
    "plt.title(\"Background Intensity\")\n",
    "# plt.ylim(0,30)\n",
    "plt.show()"
   ]
  },
  {
   "cell_type": "code",
   "execution_count": 13,
   "id": "pressed-enemy",
   "metadata": {},
   "outputs": [],
   "source": [
    "# Apply a Savitzky-Golay filter to an array.\n",
    "bagrnd_filter_window = 11\n",
    "threshold_sigma  = 3\n",
    "\n",
    "bagrnd_signal = bagrnd_all_intensity \n",
    "bagrnd_signal_filter = savgol_filter(bagrnd_signal[:], bagrnd_filter_window, 3) # filter window size of 25 gives us a sampling rate of 0.2HZ\n",
    "# dt = x[1]-x[0]\n",
    "# signal_filter_grad = np.gradient(signal_filter, dt)\n",
    "# plt.figure()\n",
    "plt.plot(rec_x_list*time_per_line/1000,bagrnd_signal_filter,linestyle='solid',linewidth=1, markersize=1,label='Background Signal Filter')\n",
    "# plt.axline((x[0], np.average(bagrnd_signal_filter)), (x[-1], np.average(bagrnd_signal_filter)),color = 'yellow',label='Background Signal Filter Mean')\n",
    "\n",
    "# plt.axhline(np.average(bagrnd_signal_filter)+np.std(bagrnd_signal_filter), color='r', linestyle='--',label='1 sigma')\n",
    "# plt.axhline(np.average(bagrnd_signal_filter)-np.std(bagrnd_signal_filter), color='r', linestyle='--')\n",
    "# plt.axhline(np.average(bagrnd_signal_filter)+threshold_sigma*np.std(bagrnd_signal_filter), color='k', linestyle='--',label= str(threshold_sigma) + ' Sigma&filterSize ' + str(bagrnd_filter_window))\n",
    "# plt.axhline(np.average(bagrnd_signal_filter)-threshold_sigma*np.std(bagrnd_signal_filter), color='k', linestyle='--')\n",
    "\n",
    "# plt.ylim(35,75)\n",
    "# plt.xlim(rec_x,rec_x+rec_h)\n",
    "# plt.legend(loc='upper right')\n",
    "plt.show()\n",
    "plt.tight_layout()\n",
    "plt.savefig(kymo_path + '-cycle' + kymo_cycle + '-background Intensity along DNA polymerase Trajectory'+'.png', dpi=300)"
   ]
  },
  {
   "cell_type": "code",
   "execution_count": 15,
   "id": "military-accused",
   "metadata": {},
   "outputs": [],
   "source": [
    "data_1 = {'filtered intensity':bagrnd_signal_filter}\n",
    "df1 = pd.DataFrame(data_1)\n",
    "np.savetxt(kymo_path + '-cycle' + kymo_cycle + '-Intensity_background' +'.txt', df1.values, fmt='%1.3f')"
   ]
  },
  {
   "cell_type": "code",
   "execution_count": 18,
   "id": "annoying-plane",
   "metadata": {},
   "outputs": [
    {
     "data": {
      "application/vnd.jupyter.widget-view+json": {
       "model_id": "b5b2780f0ba74955b7f495572215a433",
       "version_major": 2,
       "version_minor": 0
      },
      "text/plain": [
       "Canvas(toolbar=Toolbar(toolitems=[('Home', 'Reset original view', 'home', 'home'), ('Back', 'Back to previous …"
      ]
     },
     "metadata": {},
     "output_type": "display_data"
    }
   ],
   "source": [
    "txtpath_AutoStepfinder = kymo_path[:-9]+ \"\\\\\"+ \"StepFit_Result\"+ \"\\\\\" + \"confocal\"+'-cycle' + kymo_cycle + '-Intensity_background' + \"_fits\" + '.txt'\n",
    "data_stepfinder = pd.read_csv(txtpath_AutoStepfinder, sep=\",\", skipinitialspace = True)\n",
    "\n",
    "# plot the change-points on the basepair plot\n",
    "plt.figure(figsize=(4,3))\n",
    "\n",
    "plt.xlabel('Time/s')\n",
    "plt.ylabel('Intensity')\n",
    "# plt.plot(rec_x_list*time_per_line/1000,bagrnd_all_intensity,color='lightgray', linestyle='dashed',linewidth=1, label='Raw Intensity')\n",
    "plt.plot(rec_x_list*time_per_line/1000,bagrnd_signal_filter,color='lightgreen',linewidth=0.5, label='Filtered Intensity')\n",
    "plt.plot(rec_x_list*time_per_line/1000,data_stepfinder['FinalFit'],color='green',linewidth=1, label='Step Fit')\n",
    "# plt.axhline(1.3, color='grey', linestyle='--')\n",
    "plt.legend()\n",
    "plt.ylim(18,40)\n",
    "plt.xlim(70,85)\n",
    "plt.show()\n",
    "plt.tight_layout()\n",
    "plt.savefig(kymo_path + '-cycle' + kymo_cycle + '-intensity_background'+'.png', dpi=300)"
   ]
  },
  {
   "cell_type": "code",
   "execution_count": 215,
   "id": "limited-drove",
   "metadata": {},
   "outputs": [
    {
     "name": "stdout",
     "output_type": "stream",
     "text": [
      "40\n",
      "150\n"
     ]
    }
   ],
   "source": [
    "print(len(data_stepfinder['Data']))\n",
    "print(len(bagrnd_signal_filter))"
   ]
  },
  {
   "cell_type": "code",
   "execution_count": 277,
   "id": "hispanic-static",
   "metadata": {},
   "outputs": [
    {
     "data": {
      "application/vnd.jupyter.widget-view+json": {
       "model_id": "d9224c245ccd4d0498ca2c799578cb8d",
       "version_major": 2,
       "version_minor": 0
      },
      "text/plain": [
       "Canvas(toolbar=Toolbar(toolitems=[('Home', 'Reset original view', 'home', 'home'), ('Back', 'Back to previous …"
      ]
     },
     "metadata": {},
     "output_type": "display_data"
    }
   ],
   "source": [
    "plt.figure(figsize=(10,1))\n",
    "# print(image)\n",
    "# plt.imshow(intensity.astype('uint8'),aspect =\"auto\")\n",
    "plt.imshow(bagrnd_intensity.astype('uint8'),cmap='gray',vmax = vmax,interpolation='nearest', aspect='auto')\n",
    "\n",
    "plt.axis('off')\n",
    "# plt.xlim(0, )\n",
    "plt.tight_layout()\n",
    "# plt.ylim(0,7)\n",
    "plt.savefig(kymo_path + '-cycle' + kymo_cycle + '-Background Intensity'+'.png', dpi=300)"
   ]
  },
  {
   "cell_type": "code",
   "execution_count": 155,
   "id": "expected-major",
   "metadata": {},
   "outputs": [
    {
     "data": {
      "application/vnd.jupyter.widget-view+json": {
       "model_id": "92c8118d18bf4474b6fd3691cb5ebc6e",
       "version_major": 2,
       "version_minor": 0
      },
      "text/plain": [
       "Canvas(toolbar=Toolbar(toolitems=[('Home', 'Reset original view', 'home', 'home'), ('Back', 'Back to previous …"
      ]
     },
     "metadata": {},
     "output_type": "display_data"
    }
   ],
   "source": [
    "plt.figure(figsize=(10,1))\n",
    "# print(image)\n",
    "# plt.imshow(intensity.astype('uint8'),aspect =\"auto\")\n",
    "plt.imshow(intensity.astype('uint8'),cmap='gray',vmax = vmax,interpolation='nearest', aspect='auto')\n",
    "\n",
    "plt.axis('off')\n",
    "# plt.xlim(0, )\n",
    "plt.tight_layout()\n",
    "# plt.ylim(0,7)\n",
    "plt.savefig(kymo_path + '-cycle' + kymo_cycle + '-Squeezed DNAp Trace'+'.png', dpi=300)"
   ]
  },
  {
   "cell_type": "code",
   "execution_count": 156,
   "id": "aggressive-sunset",
   "metadata": {
    "tags": []
   },
   "outputs": [
    {
     "data": {
      "application/vnd.jupyter.widget-view+json": {
       "model_id": "1528123f5b344733847dceedbfdd71d6",
       "version_major": 2,
       "version_minor": 0
      },
      "text/plain": [
       "Canvas(toolbar=Toolbar(toolitems=[('Home', 'Reset original view', 'home', 'home'), ('Back', 'Back to previous …"
      ]
     },
     "metadata": {},
     "output_type": "display_data"
    },
    {
     "name": "stdout",
     "output_type": "stream",
     "text": [
      "32.145663353347196\n"
     ]
    }
   ],
   "source": [
    "# plot the DNAP intensity in a raw data, filtered data\n",
    "\n",
    "plt.figure(figsize=(8,3))\n",
    "# plt.plot(rec_x_list,bagrnd_signal_filter,linestyle='solid',linewidth=1, markersize=1,label='Background Signal Filter')\n",
    "plt.plot(x1,all_intensity,linestyle='solid',linewidth=0.3, markersize=0.5,label='Protein Trace Signal')\n",
    "plt.plot(x1,signal_filter,linestyle='solid',linewidth=1, markersize=0.5,label='Protein Trace Signal Filter')\n",
    "# plt.plot(x1,data_stepfinder['FinalFit'],color='black',linewidth=1, label='Step Fit')\n",
    "# plt.axhline(np.average(bagrnd_signal_filter),color = 'b',label='Background Signal Filter Mean')\n",
    "# plt.axhline(np.average(bagrnd_signal_filter)+np.std(bagrnd_signal_filter), color='r', linestyle='--',label='1 sigma')\n",
    "plt.axhline(np.average(bagrnd_signal_filter)+threshold_sigma*np.std(bagrnd_signal_filter), color='grey', linestyle='--',label=str(threshold_sigma) + ' Sigma threshold')\n",
    "plt.axhline(np.average(bagrnd_signal_filter)-threshold_sigma*np.std(bagrnd_signal_filter), color='grey', linestyle='--')\n",
    "\n",
    "plt.xlabel(\"Time/s\")\n",
    "plt.ylabel(\"Intensity/photon\")\n",
    "plt.title(\"Intensity along DNA polymerase Trajectory\")\n",
    "plt.legend()\n",
    "plt.tight_layout()\n",
    "plt.xlim((kymo_xlim_left-x_offset_optimal)/x_cali,(kymo_xlim_right-x_offset_optimal)/x_cali)\n",
    "# plt.ylim((0,60))\n",
    "plt.show()\n",
    "plt.savefig(kymo_path + '-cycle' + kymo_cycle + '-Intensity along DNA polymerase Trajectory'+'.png', dpi=300)  \n",
    "print(np.average(bagrnd_signal_filter)+threshold_sigma*np.std(bagrnd_signal_filter))"
   ]
  },
  {
   "cell_type": "code",
   "execution_count": 157,
   "id": "hispanic-genealogy",
   "metadata": {},
   "outputs": [],
   "source": [
    "# this data block is used to save the intensity data for change-point detection\n",
    "data_1 = {'time serials':x1,\n",
    "          'raw intensity':all_intensity }\n",
    "data_2 = {'time serials':x1,\n",
    "          'filtered intensity':signal_filter}\n",
    "# data_3 = {'time serials':x1,\n",
    "#           'filtered s/n':loc_sig_noi}\n",
    "\n",
    "df1 = pd.DataFrame(data_1)\n",
    "df2 = pd.DataFrame(data_2)\n",
    "# df3 = pd.DataFrame(data_3)\n",
    "np.savetxt(kymo_path + '-cycle' + kymo_cycle + '-Intensity along DNAp' + '-filtered' +'.txt', df2.values, fmt='%1.3f')\n",
    "np.savetxt(kymo_path + '-cycle' + kymo_cycle + '-Intensity along DNAp' + '-raw' +'.txt', df1.values, fmt='%1.3f')"
   ]
  },
  {
   "cell_type": "code",
   "execution_count": 158,
   "id": "nearby-november",
   "metadata": {},
   "outputs": [
    {
     "ename": "NameError",
     "evalue": "name 'pause' is not defined",
     "output_type": "error",
     "traceback": [
      "\u001b[1;31m---------------------------------------------------------------------------\u001b[0m",
      "\u001b[1;31mNameError\u001b[0m                                 Traceback (most recent call last)",
      "\u001b[1;32m<ipython-input-158-34d6930c0341>\u001b[0m in \u001b[0;36m<module>\u001b[1;34m\u001b[0m\n\u001b[1;32m----> 1\u001b[1;33m \u001b[0mpause\u001b[0m\u001b[1;33m\u001b[0m\u001b[1;33m\u001b[0m\u001b[0m\n\u001b[0m",
      "\u001b[1;31mNameError\u001b[0m: name 'pause' is not defined"
     ]
    }
   ],
   "source": [
    "pause"
   ]
  },
  {
   "cell_type": "markdown",
   "id": "electronic-database",
   "metadata": {},
   "source": [
    "##### Now we are switching to Matlab. Here we are using AutoStepfinder (https://doi.org/10.1016/j.patter.2021.100256.) to detect the step behavior of fluorescence intensity of DNAp. Please refer to the user mannual of AutoStepfinder to find the optimal parameter for this algrithm\n",
    "##### After running the code block below, a matlab window will pop put if everything is set correctly; if not, double check with the readme file.\n",
    "##### It can take up to few minites depending on your computer performace"
   ]
  },
  {
   "cell_type": "code",
   "execution_count": null,
   "id": "aware-klein",
   "metadata": {},
   "outputs": [],
   "source": [
    "# when running the matlab API code, please ensure all the folder and subfolder are added to path\n",
    "# you can check it by enter path in the Matlab commond window\n",
    "import matlab.engine\n",
    "eng = matlab.engine.start_matlab()\n",
    "# you must add nargout=0 to run .m script, otherwise it will run as a function, see https://nl.mathworks.com/matlabcentral/answers/816065-execution-of-script-vgg16-as-a-function-is-not-supported\n",
    "eng.AutoStepfinder(nargout=0)"
   ]
  },
  {
   "cell_type": "markdown",
   "id": "human-candy",
   "metadata": {},
   "source": [
    "### An example of settings:\n",
    "- Data Path (IMPORTANT!): D:\\Google Drive\\private folder（work with MAtthew）\\Project2_Watching labelled DNAP replication\\20190529-012-very typical. The Data Path here shoule be the dataset direcory, rather than subfolders\n",
    "- S-curves,User plot, advanced Options, Custom Output are set as on.\n",
    "- After running the code, use mannual mode to find a better number of steps, in case you are not satisfied with the automatic results\n",
    "- write down how many steps you fit to the data and revise it in the analysis log file in the final code block"
   ]
  },
  {
   "cell_type": "code",
   "execution_count": 202,
   "id": "significant-conflict",
   "metadata": {},
   "outputs": [
    {
     "ename": "FileNotFoundError",
     "evalue": "[Errno 2] No such file or directory: 'E:\\\\OneDrive - Vrije Universiteit Amsterdam\\\\1-Raw Data of all phD projects\\\\20191018-4\\\\StepFit_Result\\\\image data-cycle#1-Intensity along DNAp-filtered_fits.txt'",
     "output_type": "error",
     "traceback": [
      "\u001b[1;31m---------------------------------------------------------------------------\u001b[0m",
      "\u001b[1;31mFileNotFoundError\u001b[0m                         Traceback (most recent call last)",
      "\u001b[1;32m<ipython-input-202-fdfe1f4733d5>\u001b[0m in \u001b[0;36m<module>\u001b[1;34m\u001b[0m\n\u001b[0;32m      1\u001b[0m \u001b[0mtxtpath_AutoStepfinder\u001b[0m \u001b[1;33m=\u001b[0m \u001b[0mkymo_path\u001b[0m\u001b[1;33m[\u001b[0m\u001b[1;33m:\u001b[0m\u001b[1;33m-\u001b[0m\u001b[1;36m9\u001b[0m\u001b[1;33m]\u001b[0m\u001b[1;33m+\u001b[0m \u001b[1;34m\"\\\\\"\u001b[0m\u001b[1;33m+\u001b[0m \u001b[1;34m\"StepFit_Result\"\u001b[0m\u001b[1;33m+\u001b[0m \u001b[1;34m\"\\\\\"\u001b[0m \u001b[1;33m+\u001b[0m \u001b[1;34m\"image data\"\u001b[0m\u001b[1;33m+\u001b[0m\u001b[1;34m'-cycle'\u001b[0m \u001b[1;33m+\u001b[0m \u001b[0mkymo_cycle\u001b[0m \u001b[1;33m+\u001b[0m \u001b[1;34m'-Intensity along DNAp'\u001b[0m \u001b[1;33m+\u001b[0m \u001b[1;34m'-filtered'\u001b[0m\u001b[1;33m+\u001b[0m \u001b[1;34m\"_fits\"\u001b[0m \u001b[1;33m+\u001b[0m \u001b[1;34m'.txt'\u001b[0m\u001b[1;33m\u001b[0m\u001b[1;33m\u001b[0m\u001b[0m\n\u001b[1;32m----> 2\u001b[1;33m \u001b[0mdata_stepfinder\u001b[0m \u001b[1;33m=\u001b[0m \u001b[0mpd\u001b[0m\u001b[1;33m.\u001b[0m\u001b[0mread_csv\u001b[0m\u001b[1;33m(\u001b[0m\u001b[0mtxtpath_AutoStepfinder\u001b[0m\u001b[1;33m,\u001b[0m \u001b[0msep\u001b[0m\u001b[1;33m=\u001b[0m\u001b[1;34m\",\"\u001b[0m\u001b[1;33m,\u001b[0m \u001b[0mskipinitialspace\u001b[0m \u001b[1;33m=\u001b[0m \u001b[1;32mTrue\u001b[0m\u001b[1;33m)\u001b[0m\u001b[1;33m\u001b[0m\u001b[1;33m\u001b[0m\u001b[0m\n\u001b[0m\u001b[0;32m      3\u001b[0m \u001b[1;31m# print(data_stepfinder)\u001b[0m\u001b[1;33m\u001b[0m\u001b[1;33m\u001b[0m\u001b[1;33m\u001b[0m\u001b[0m\n\u001b[0;32m      4\u001b[0m \u001b[1;31m# changepoint_index = np.array(data_stepfinder['Time'])\u001b[0m\u001b[1;33m\u001b[0m\u001b[1;33m\u001b[0m\u001b[1;33m\u001b[0m\u001b[0m\n\u001b[0;32m      5\u001b[0m \u001b[1;31m# print(changepoint_index)\u001b[0m\u001b[1;33m\u001b[0m\u001b[1;33m\u001b[0m\u001b[1;33m\u001b[0m\u001b[0m\n",
      "\u001b[1;32mc:\\users\\kts260\\appdata\\local\\programs\\python\\python38\\lib\\site-packages\\pandas\\io\\parsers.py\u001b[0m in \u001b[0;36mread_csv\u001b[1;34m(filepath_or_buffer, sep, delimiter, header, names, index_col, usecols, squeeze, prefix, mangle_dupe_cols, dtype, engine, converters, true_values, false_values, skipinitialspace, skiprows, skipfooter, nrows, na_values, keep_default_na, na_filter, verbose, skip_blank_lines, parse_dates, infer_datetime_format, keep_date_col, date_parser, dayfirst, cache_dates, iterator, chunksize, compression, thousands, decimal, lineterminator, quotechar, quoting, doublequote, escapechar, comment, encoding, dialect, error_bad_lines, warn_bad_lines, delim_whitespace, low_memory, memory_map, float_precision, storage_options)\u001b[0m\n\u001b[0;32m    608\u001b[0m     \u001b[0mkwds\u001b[0m\u001b[1;33m.\u001b[0m\u001b[0mupdate\u001b[0m\u001b[1;33m(\u001b[0m\u001b[0mkwds_defaults\u001b[0m\u001b[1;33m)\u001b[0m\u001b[1;33m\u001b[0m\u001b[1;33m\u001b[0m\u001b[0m\n\u001b[0;32m    609\u001b[0m \u001b[1;33m\u001b[0m\u001b[0m\n\u001b[1;32m--> 610\u001b[1;33m     \u001b[1;32mreturn\u001b[0m \u001b[0m_read\u001b[0m\u001b[1;33m(\u001b[0m\u001b[0mfilepath_or_buffer\u001b[0m\u001b[1;33m,\u001b[0m \u001b[0mkwds\u001b[0m\u001b[1;33m)\u001b[0m\u001b[1;33m\u001b[0m\u001b[1;33m\u001b[0m\u001b[0m\n\u001b[0m\u001b[0;32m    611\u001b[0m \u001b[1;33m\u001b[0m\u001b[0m\n\u001b[0;32m    612\u001b[0m \u001b[1;33m\u001b[0m\u001b[0m\n",
      "\u001b[1;32mc:\\users\\kts260\\appdata\\local\\programs\\python\\python38\\lib\\site-packages\\pandas\\io\\parsers.py\u001b[0m in \u001b[0;36m_read\u001b[1;34m(filepath_or_buffer, kwds)\u001b[0m\n\u001b[0;32m    460\u001b[0m \u001b[1;33m\u001b[0m\u001b[0m\n\u001b[0;32m    461\u001b[0m     \u001b[1;31m# Create the parser.\u001b[0m\u001b[1;33m\u001b[0m\u001b[1;33m\u001b[0m\u001b[1;33m\u001b[0m\u001b[0m\n\u001b[1;32m--> 462\u001b[1;33m     \u001b[0mparser\u001b[0m \u001b[1;33m=\u001b[0m \u001b[0mTextFileReader\u001b[0m\u001b[1;33m(\u001b[0m\u001b[0mfilepath_or_buffer\u001b[0m\u001b[1;33m,\u001b[0m \u001b[1;33m**\u001b[0m\u001b[0mkwds\u001b[0m\u001b[1;33m)\u001b[0m\u001b[1;33m\u001b[0m\u001b[1;33m\u001b[0m\u001b[0m\n\u001b[0m\u001b[0;32m    463\u001b[0m \u001b[1;33m\u001b[0m\u001b[0m\n\u001b[0;32m    464\u001b[0m     \u001b[1;32mif\u001b[0m \u001b[0mchunksize\u001b[0m \u001b[1;32mor\u001b[0m \u001b[0miterator\u001b[0m\u001b[1;33m:\u001b[0m\u001b[1;33m\u001b[0m\u001b[1;33m\u001b[0m\u001b[0m\n",
      "\u001b[1;32mc:\\users\\kts260\\appdata\\local\\programs\\python\\python38\\lib\\site-packages\\pandas\\io\\parsers.py\u001b[0m in \u001b[0;36m__init__\u001b[1;34m(self, f, engine, **kwds)\u001b[0m\n\u001b[0;32m    817\u001b[0m             \u001b[0mself\u001b[0m\u001b[1;33m.\u001b[0m\u001b[0moptions\u001b[0m\u001b[1;33m[\u001b[0m\u001b[1;34m\"has_index_names\"\u001b[0m\u001b[1;33m]\u001b[0m \u001b[1;33m=\u001b[0m \u001b[0mkwds\u001b[0m\u001b[1;33m[\u001b[0m\u001b[1;34m\"has_index_names\"\u001b[0m\u001b[1;33m]\u001b[0m\u001b[1;33m\u001b[0m\u001b[1;33m\u001b[0m\u001b[0m\n\u001b[0;32m    818\u001b[0m \u001b[1;33m\u001b[0m\u001b[0m\n\u001b[1;32m--> 819\u001b[1;33m         \u001b[0mself\u001b[0m\u001b[1;33m.\u001b[0m\u001b[0m_engine\u001b[0m \u001b[1;33m=\u001b[0m \u001b[0mself\u001b[0m\u001b[1;33m.\u001b[0m\u001b[0m_make_engine\u001b[0m\u001b[1;33m(\u001b[0m\u001b[0mself\u001b[0m\u001b[1;33m.\u001b[0m\u001b[0mengine\u001b[0m\u001b[1;33m)\u001b[0m\u001b[1;33m\u001b[0m\u001b[1;33m\u001b[0m\u001b[0m\n\u001b[0m\u001b[0;32m    820\u001b[0m \u001b[1;33m\u001b[0m\u001b[0m\n\u001b[0;32m    821\u001b[0m     \u001b[1;32mdef\u001b[0m \u001b[0mclose\u001b[0m\u001b[1;33m(\u001b[0m\u001b[0mself\u001b[0m\u001b[1;33m)\u001b[0m\u001b[1;33m:\u001b[0m\u001b[1;33m\u001b[0m\u001b[1;33m\u001b[0m\u001b[0m\n",
      "\u001b[1;32mc:\\users\\kts260\\appdata\\local\\programs\\python\\python38\\lib\\site-packages\\pandas\\io\\parsers.py\u001b[0m in \u001b[0;36m_make_engine\u001b[1;34m(self, engine)\u001b[0m\n\u001b[0;32m   1048\u001b[0m             )\n\u001b[0;32m   1049\u001b[0m         \u001b[1;31m# error: Too many arguments for \"ParserBase\"\u001b[0m\u001b[1;33m\u001b[0m\u001b[1;33m\u001b[0m\u001b[1;33m\u001b[0m\u001b[0m\n\u001b[1;32m-> 1050\u001b[1;33m         \u001b[1;32mreturn\u001b[0m \u001b[0mmapping\u001b[0m\u001b[1;33m[\u001b[0m\u001b[0mengine\u001b[0m\u001b[1;33m]\u001b[0m\u001b[1;33m(\u001b[0m\u001b[0mself\u001b[0m\u001b[1;33m.\u001b[0m\u001b[0mf\u001b[0m\u001b[1;33m,\u001b[0m \u001b[1;33m**\u001b[0m\u001b[0mself\u001b[0m\u001b[1;33m.\u001b[0m\u001b[0moptions\u001b[0m\u001b[1;33m)\u001b[0m  \u001b[1;31m# type: ignore[call-arg]\u001b[0m\u001b[1;33m\u001b[0m\u001b[1;33m\u001b[0m\u001b[0m\n\u001b[0m\u001b[0;32m   1051\u001b[0m \u001b[1;33m\u001b[0m\u001b[0m\n\u001b[0;32m   1052\u001b[0m     \u001b[1;32mdef\u001b[0m \u001b[0m_failover_to_python\u001b[0m\u001b[1;33m(\u001b[0m\u001b[0mself\u001b[0m\u001b[1;33m)\u001b[0m\u001b[1;33m:\u001b[0m\u001b[1;33m\u001b[0m\u001b[1;33m\u001b[0m\u001b[0m\n",
      "\u001b[1;32mc:\\users\\kts260\\appdata\\local\\programs\\python\\python38\\lib\\site-packages\\pandas\\io\\parsers.py\u001b[0m in \u001b[0;36m__init__\u001b[1;34m(self, src, **kwds)\u001b[0m\n\u001b[0;32m   1865\u001b[0m \u001b[1;33m\u001b[0m\u001b[0m\n\u001b[0;32m   1866\u001b[0m         \u001b[1;31m# open handles\u001b[0m\u001b[1;33m\u001b[0m\u001b[1;33m\u001b[0m\u001b[1;33m\u001b[0m\u001b[0m\n\u001b[1;32m-> 1867\u001b[1;33m         \u001b[0mself\u001b[0m\u001b[1;33m.\u001b[0m\u001b[0m_open_handles\u001b[0m\u001b[1;33m(\u001b[0m\u001b[0msrc\u001b[0m\u001b[1;33m,\u001b[0m \u001b[0mkwds\u001b[0m\u001b[1;33m)\u001b[0m\u001b[1;33m\u001b[0m\u001b[1;33m\u001b[0m\u001b[0m\n\u001b[0m\u001b[0;32m   1868\u001b[0m         \u001b[1;32massert\u001b[0m \u001b[0mself\u001b[0m\u001b[1;33m.\u001b[0m\u001b[0mhandles\u001b[0m \u001b[1;32mis\u001b[0m \u001b[1;32mnot\u001b[0m \u001b[1;32mNone\u001b[0m\u001b[1;33m\u001b[0m\u001b[1;33m\u001b[0m\u001b[0m\n\u001b[0;32m   1869\u001b[0m         \u001b[1;32mfor\u001b[0m \u001b[0mkey\u001b[0m \u001b[1;32min\u001b[0m \u001b[1;33m(\u001b[0m\u001b[1;34m\"storage_options\"\u001b[0m\u001b[1;33m,\u001b[0m \u001b[1;34m\"encoding\"\u001b[0m\u001b[1;33m,\u001b[0m \u001b[1;34m\"memory_map\"\u001b[0m\u001b[1;33m,\u001b[0m \u001b[1;34m\"compression\"\u001b[0m\u001b[1;33m)\u001b[0m\u001b[1;33m:\u001b[0m\u001b[1;33m\u001b[0m\u001b[1;33m\u001b[0m\u001b[0m\n",
      "\u001b[1;32mc:\\users\\kts260\\appdata\\local\\programs\\python\\python38\\lib\\site-packages\\pandas\\io\\parsers.py\u001b[0m in \u001b[0;36m_open_handles\u001b[1;34m(self, src, kwds)\u001b[0m\n\u001b[0;32m   1360\u001b[0m         \u001b[0mLet\u001b[0m \u001b[0mthe\u001b[0m \u001b[0mreaders\u001b[0m \u001b[0mopen\u001b[0m \u001b[0mIOHanldes\u001b[0m \u001b[0mafter\u001b[0m \u001b[0mthey\u001b[0m \u001b[0mare\u001b[0m \u001b[0mdone\u001b[0m \u001b[1;32mwith\u001b[0m \u001b[0mtheir\u001b[0m \u001b[0mpotential\u001b[0m \u001b[0mraises\u001b[0m\u001b[1;33m.\u001b[0m\u001b[1;33m\u001b[0m\u001b[1;33m\u001b[0m\u001b[0m\n\u001b[0;32m   1361\u001b[0m         \"\"\"\n\u001b[1;32m-> 1362\u001b[1;33m         self.handles = get_handle(\n\u001b[0m\u001b[0;32m   1363\u001b[0m             \u001b[0msrc\u001b[0m\u001b[1;33m,\u001b[0m\u001b[1;33m\u001b[0m\u001b[1;33m\u001b[0m\u001b[0m\n\u001b[0;32m   1364\u001b[0m             \u001b[1;34m\"r\"\u001b[0m\u001b[1;33m,\u001b[0m\u001b[1;33m\u001b[0m\u001b[1;33m\u001b[0m\u001b[0m\n",
      "\u001b[1;32mc:\\users\\kts260\\appdata\\local\\programs\\python\\python38\\lib\\site-packages\\pandas\\io\\common.py\u001b[0m in \u001b[0;36mget_handle\u001b[1;34m(path_or_buf, mode, encoding, compression, memory_map, is_text, errors, storage_options)\u001b[0m\n\u001b[0;32m    640\u001b[0m                 \u001b[0merrors\u001b[0m \u001b[1;33m=\u001b[0m \u001b[1;34m\"replace\"\u001b[0m\u001b[1;33m\u001b[0m\u001b[1;33m\u001b[0m\u001b[0m\n\u001b[0;32m    641\u001b[0m             \u001b[1;31m# Encoding\u001b[0m\u001b[1;33m\u001b[0m\u001b[1;33m\u001b[0m\u001b[1;33m\u001b[0m\u001b[0m\n\u001b[1;32m--> 642\u001b[1;33m             handle = open(\n\u001b[0m\u001b[0;32m    643\u001b[0m                 \u001b[0mhandle\u001b[0m\u001b[1;33m,\u001b[0m\u001b[1;33m\u001b[0m\u001b[1;33m\u001b[0m\u001b[0m\n\u001b[0;32m    644\u001b[0m                 \u001b[0mioargs\u001b[0m\u001b[1;33m.\u001b[0m\u001b[0mmode\u001b[0m\u001b[1;33m,\u001b[0m\u001b[1;33m\u001b[0m\u001b[1;33m\u001b[0m\u001b[0m\n",
      "\u001b[1;31mFileNotFoundError\u001b[0m: [Errno 2] No such file or directory: 'E:\\\\OneDrive - Vrije Universiteit Amsterdam\\\\1-Raw Data of all phD projects\\\\20191018-4\\\\StepFit_Result\\\\image data-cycle#1-Intensity along DNAp-filtered_fits.txt'"
     ]
    }
   ],
   "source": [
    "txtpath_AutoStepfinder = trace_path+ \"\\\\\"+ \"StepFit_Result\"+ \"\\\\\" + \"image data\"+'-cycle' + kymo_cycle + '-Intensity along DNAp' + '-filtered'+ \"_fits\" + '.txt'\n",
    "data_stepfinder = pd.read_csv(txtpath_AutoStepfinder, sep=\",\", skipinitialspace = True)\n",
    "# print(data_stepfinder)\n",
    "# changepoint_index = np.array(data_stepfinder['Time'])\n",
    "# print(changepoint_index)"
   ]
  },
  {
   "cell_type": "code",
   "execution_count": null,
   "id": "noble-illustration",
   "metadata": {},
   "outputs": [],
   "source": [
    "# plot the change-points on the basepair plot\n",
    "plt.figure(figsize=(8,3))\n",
    "font = {'family': 'serif',\n",
    "        'weight': 'normal',\n",
    "        'size': 16}\n",
    "\n",
    "plt.xlabel('Time/s',fontdict=font)\n",
    "plt.ylabel('Intensity',fontdict=font)\n",
    "plt.plot(x1,data_stepfinder['Data'],color='lightgray', linestyle='dashed',linewidth=1, label='Raw Intensity')\n",
    "plt.plot(x1,data_stepfinder['FinalFit'],color='black',linewidth=1, label='Step Fit')\n",
    "# plt.axhline(1.3, color='grey', linestyle='--')\n",
    "plt.legend()\n",
    "plt.ylim(0,30)\n",
    "\n",
    "plt.show()\n",
    "plt.tight_layout()\n",
    "plt.savefig(kymo_path + '-cycle' + kymo_cycle + '-Step Intensity along DNAp'+'.png', dpi=300)"
   ]
  },
  {
   "cell_type": "code",
   "execution_count": null,
   "id": "capable-publisher",
   "metadata": {
    "tags": []
   },
   "outputs": [],
   "source": [
    "# plot the DNAP intensity in a raw data, filtered data and step-fitted data style\n",
    "\n",
    "plt.figure(figsize=(8,3))\n",
    "# plt.plot(rec_x_list,bagrnd_signal_filter,linestyle='solid',linewidth=1, markersize=1,label='Background Signal Filter')\n",
    "plt.plot(x1,all_intensity,linestyle='solid',linewidth=0.3, markersize=0.5,label='Protein Trace Signal')\n",
    "plt.plot(x1,signal_filter,linestyle='solid',linewidth=1, markersize=0.5,label='Protein Trace Signal Filter')\n",
    "plt.plot(x1,data_stepfinder['FinalFit'],color='black',linewidth=1, label='Step Fit')\n",
    "# plt.axhline(np.average(bagrnd_signal_filter),color = 'b',label='Background Signal Filter Mean')\n",
    "# plt.axhline(np.average(bagrnd_signal_filter)+np.std(bagrnd_signal_filter), color='r', linestyle='--',label='1 sigma')\n",
    "plt.axhline(np.average(bagrnd_signal_filter)+threshold_sigma*np.std(bagrnd_signal_filter), color='grey', linestyle='--',label=str(threshold_sigma) + ' Sigma threshold')\n",
    "plt.axhline(np.average(bagrnd_signal_filter)-threshold_sigma*np.std(bagrnd_signal_filter), color='grey', linestyle='--')\n",
    "\n",
    "plt.xlabel(\"Time/s\")\n",
    "plt.ylabel(\"Intensity/photon\")\n",
    "plt.title(\"Intensity along DNA polymerase Trajectory\")\n",
    "plt.legend()\n",
    "plt.tight_layout()\n",
    "# plt.xlim((kymo_xlim_left,kymo_xlim_right))\n",
    "plt.ylim((0,35))\n",
    "plt.show()\n",
    "plt.savefig(kymo_path + '-cycle' + kymo_cycle + '-Intensity along DNA polymerase Trajectory'+'.png', dpi=300)  \n",
    "print(np.average(bagrnd_signal_filter))"
   ]
  },
  {
   "cell_type": "code",
   "execution_count": null,
   "id": "perfect-booth",
   "metadata": {},
   "outputs": [],
   "source": [
    "# this step is to define the threshold based on signal/noise level\n",
    "s_n = (data_stepfinder['FinalFit'] )/(np.average(bagrnd_signal_filter))\n",
    "plt.figure(figsize=(8,3))\n",
    "plt.plot(x1,s_n, label='threshold = 1.3')\n",
    "plt.axhline(1.3, color='grey', linestyle='--')\n",
    "plt.xlabel(\"Time/s\")\n",
    "plt.ylabel(\"Global S/N\")\n",
    "plt.title(\"Global S/N along DNAp Trajectory\")\n",
    "plt.tight_layout()\n",
    "plt.ylim((0,3))\n",
    "plt.legend()\n",
    "plt.show()\n",
    "plt.savefig(kymo_path + '-cycle' + kymo_cycle + '-global SN Threshold along DNA polymerase Trajectory'+'.png', dpi=300)  "
   ]
  },
  {
   "cell_type": "code",
   "execution_count": null,
   "id": "surprised-alpha",
   "metadata": {},
   "outputs": [],
   "source": [
    "# Binarize the intensity with a given threshold\n",
    "threshold = np.mean(bagrnd_signal_filter)+threshold_sigma*np.std(bagrnd_signal_filter)\n",
    "upper, lower = 1, 0\n",
    "# signal_filter_binarized = np.where((data_stepfinder['FinalFit']>threshold) & (loc_sig_noi>1.3), upper, lower)\n",
    "signal_filter_binarized = np.where(data_stepfinder['FinalFit']>threshold, upper, lower)\n",
    "# signal_filter_binarized = np.where(loc_sig_noi>1.2, upper, lower)\n",
    "\n",
    "plt.figure(figsize=(8,3))\n",
    "plt.xlabel(\"Time/s\")\n",
    "# plt.ylabel(\"Binarized Intensity\")\n",
    "plt.plot(x1,signal_filter_binarized,color='lightgrey',linewidth=0.5)\n",
    "# plt.legend()\n",
    "plt.ylim(-0.1,1.3)\n",
    "# plt.xlim(32,60)\n",
    "# plt.xlim((kymo_xlim_left-x_offset_optimal)/x_cali,(kymo_xlim_right-x_offset_optimal/x_cali)\n",
    "plt.title(\"Intensity along DNA polymerase Trajectory\")\n",
    "plt.tight_layout()\n",
    "plt.show()\n",
    "plt.savefig(kymo_path + '-cycle' + kymo_cycle + '-Intensity along DNA polymerase Trajectory-binarized'+'.png', dpi=300)"
   ]
  },
  {
   "cell_type": "code",
   "execution_count": null,
   "id": "polish-residence",
   "metadata": {},
   "outputs": [],
   "source": [
    "# this step intended to filter those short bound and short unbound events due to noise, with a (default) threshold of 3 adjacent fluorescent dots, which corresponds to 0.25s\n",
    "# you could increase the threhold to filter more events\n",
    "\n",
    "signal_filter_binarized = np.insert(signal_filter_binarized,0,0)\n",
    "signal_filter_binarized = np.append(signal_filter_binarized,0)\n",
    "signal_filter_binarized_diff = np.diff(signal_filter_binarized)\n",
    "# print(signal_filter_binarized)\n",
    "# print(signal_filter_binarized_diff)\n",
    "index_on = np.where(signal_filter_binarized_diff==1)[0]\n",
    "index_off = np.where(signal_filter_binarized_diff==-1)[0]\n",
    "# print(index_on)\n",
    "# print(index_off)\n",
    "# print(index_on[1:] - index_off[:-1])\n",
    "# this intended to filter those short bound events\n",
    "for i, value in enumerate((index_off - index_on)):\n",
    "    if value ==1:\n",
    "        signal_filter_binarized[index_on[i] + 1] = 0\n",
    "    if value ==2:\n",
    "        signal_filter_binarized[index_on[i] + 1] = 0\n",
    "        signal_filter_binarized[index_on[i] + 2] = 0\n",
    "    if value ==3:\n",
    "        signal_filter_binarized[index_on[i] + 1] = 0\n",
    "        signal_filter_binarized[index_on[i] + 2] = 0\n",
    "        signal_filter_binarized[index_on[i] + 3] = 0\n",
    "\n",
    "# this intended to filter those short unbound events\n",
    "for i, value in enumerate((index_on[1:] - index_off[:-1])):\n",
    "    if value ==1:\n",
    "        signal_filter_binarized[index_off[i] + 1] = 1\n",
    "    if value ==2:\n",
    "        signal_filter_binarized[index_off[i] + 1] = 1\n",
    "        signal_filter_binarized[index_off[i] + 2] = 1\n",
    "    if value ==3:\n",
    "        signal_filter_binarized[index_off[i] + 1] = 1\n",
    "        signal_filter_binarized[index_off[i] + 2] = 1\n",
    "        signal_filter_binarized[index_off[i] + 3] = 1\n",
    "    \n",
    "signal_filter_binarized = np.delete(signal_filter_binarized,0)\n",
    "signal_filter_binarized = np.delete(signal_filter_binarized,-1)\n",
    "# print(signal_filter_binarized)\n",
    "# plt.figure(figsize=(8,3))\n",
    "\n",
    "plt.plot(x1,signal_filter_binarized,label = \"remained binarized intensity\",color='black',linewidth=1)\n",
    "plt.legend(loc = \"upper right\")\n",
    "plt.show()\n",
    "plt.savefig(kymo_path + '-cycle' + kymo_cycle + '-filtered and binirized intensity'+'.png', dpi=300)"
   ]
  },
  {
   "cell_type": "code",
   "execution_count": null,
   "id": "raising-burden",
   "metadata": {},
   "outputs": [],
   "source": [
    "# this code block is intended to overlap the basepair-time and binarized intensity -time plots\n",
    "basepair = pd.read_excel(trace_file)\n",
    "bp_time = basepair['time']/1000\n",
    "bp_time = bp_time.dropna()\n",
    "bp = basepair['basepairs']\n",
    "bp = bp.dropna()\n",
    "\n",
    "fig, ax1 = plt.subplots(figsize=(8,3))\n",
    "\n",
    "ax2 = ax1.twinx()\n",
    "ax1.plot(bp_time,bp, 'g-',label = 'basepairs')\n",
    "# ax2.plot(x1-0.2,signal_filter_binarized,color='lightgray',linewidth=1, label='binarized intensity')\n",
    "# ax2.set_ylim(-0.02,1.05)\n",
    "ax1.set_xlabel('Time/s')\n",
    "# ax1.set_ylim(2000,5000)\n",
    "ax1.set_ylabel('Basepair/bp', color='g')\n",
    "\n",
    "ax2.plot(x1,data_stepfinder['FinalFit'],color='black',linewidth=1, label='step-like intensity')\n",
    "# ax2.set_ylim(5,40)\n",
    "plt.axhline(np.average(bagrnd_signal_filter)+threshold_sigma*np.std(bagrnd_signal_filter), color='grey', linestyle='--',label=str(threshold_sigma) + ' Sigma threshold')\n",
    "plt.axhline(np.average(bagrnd_signal_filter)-threshold_sigma*np.std(bagrnd_signal_filter), color='grey', linestyle='--')\n",
    "\n",
    "\n",
    "ax2.set_ylabel('Intensity', color='black')\n",
    "\n",
    "# plt.plot(bp_time,bp,'y',linewidth = 1, label = 'basepairs')\n",
    "# plt.plot(x1,signal_filter_binarized, label='Binarized Intensity')\n",
    "# plt.legend()\n",
    "# plt.ylim(25,85)\n",
    "plt.xlim((kymo_xlim_left-x_offset_optimal)/x_cali,(kymo_xlim_right-x_offset_optimal)/x_cali)\n",
    "# plt.xlim(35,70)\n",
    "plt.show()\n",
    "plt.tight_layout()\n",
    "plt.savefig(kymo_path + '-cycle' + kymo_cycle + '-raw basepairs-Binarized intensity'+'.png', dpi=300)"
   ]
  },
  {
   "cell_type": "code",
   "execution_count": null,
   "id": "genuine-senator",
   "metadata": {},
   "outputs": [],
   "source": [
    "# this code block is intended to overlap the basepair-time and binarized intensity -time plots\n",
    "basepair = pd.read_excel(trace_file)\n",
    "bp_time = basepair['time']/1000\n",
    "bp_time = bp_time.dropna()\n",
    "bp = basepair['basepairs']\n",
    "bp = bp.dropna()\n",
    "\n",
    "fig, ax1 = plt.subplots(figsize=(8,3))\n",
    "\n",
    "ax2 = ax1.twinx()\n",
    "ax1.plot(bp_time,bp, 'g-',label = 'basepairs')\n",
    "# ax2.plot(x1-0.2,signal_filter_binarized,color='lightgray',linewidth=1, label='binarized intensity')\n",
    "# ax2.set_ylim(-0.02,1.05)\n",
    "ax1.set_xlabel('Time/s')\n",
    "# ax1.set_ylim(2000,5000)\n",
    "ax1.set_ylabel('Basepair/bp', color='g')\n",
    "\n",
    "ax2.plot(x1,loc_sig_noi,color='black',linewidth=1, label='step-like intensity')\n",
    "# ax2.plot(x1,data_stepfinder['FinalFit'],color='black',linewidth=1, label='step-like intensity')\n",
    "ax2.set_ylim(0.5,4)\n",
    "plt.axhline(1.3, color='grey', linestyle='--')\n",
    "\n",
    "\n",
    "ax2.set_ylabel('Local S/N', color='black')\n",
    "\n",
    "# plt.plot(bp_time,bp,'y',linewidth = 1, label = 'basepairs')\n",
    "# plt.plot(x1,signal_filter_binarized, label='Binarized Intensity')\n",
    "# plt.legend()\n",
    "# plt.ylim(25,85)\n",
    "plt.xlim((kymo_xlim_left-x_offset_optimal)/x_cali,(kymo_xlim_right-x_offset_optimal)/x_cali)\n",
    "# plt.xlim(35,70)\n",
    "plt.show()\n",
    "plt.tight_layout()\n",
    "# plt.savefig(kymo_path + '-cycle' + kymo_cycle + '-basepairs+Binarized intensity'+'.png', dpi=300)\n",
    "plt.savefig(kymo_path + '-cycle' + kymo_cycle + '-basepairs-Local SN along DNAp Trajectory'+'.png', dpi=300)"
   ]
  },
  {
   "cell_type": "code",
   "execution_count": null,
   "id": "amino-wrist",
   "metadata": {},
   "outputs": [],
   "source": [
    "# This step is to get a double x-axis figure, which shows both time in unit of pixel and s [ref. https://matplotlib.org/2.0.2/examples/axes_grid/demo_parasite_axes2.html]\n",
    "from mpl_toolkits.axes_grid1 import host_subplot\n",
    "import mpl_toolkits.axisartist as AA\n",
    "\n",
    "plt.figure(figsize = (8, 3))\n",
    "\n",
    "#Setup a host axis\n",
    "host = host_subplot(111, axes_class=AA.Axes)\n",
    "plt.subplots_adjust(bottom=0.2)\n",
    "\n",
    "#Add twin y axis with offset from bottom and hide top axis\n",
    "par = host.twiny()\n",
    "offset = -30\n",
    "new_fixed_axis = host.get_grid_helper().new_fixed_axis\n",
    "par.axis[\"bottom\"] = new_fixed_axis(loc=\"bottom\",\n",
    "                                    axes=par,\n",
    "                                    offset=(0, offset))\n",
    "\n",
    "par.axis[\"top\"].set_visible(False)\n",
    "host.axis[\"right\"].set_visible(False)\n",
    "\n",
    "# Plot data and add main axis labels/limits; the kymograph can be plotted in a normal way or in a reverse way\n",
    "host.imshow(g.astype('uint16'),cmap='gray',vmax = vmax,aspect =\"auto\")\n",
    "# host.imshow(100-g.astype('uint16'),cmap='gray',vmin = 95,aspect =\"auto\")\n",
    "\n",
    "host.set_xlabel(\"Time(pixel)\")\n",
    "host.set_ylabel(\"Position(pixel)\")\n",
    "host.set_title(\"DNA Polymerase Trace\")\n",
    "host.set_xlim((kymo_xlim_left,kymo_xlim_right))\n",
    "# host.set_xlim((0,350))\n",
    "host.set_ylim((82,24))\n",
    "\n",
    "# plt.axis(\"tight\")\n",
    "\n",
    "#Set limits of parasite axis \n",
    "#(note this axis is not attached to \n",
    "# an actual plot so changes nothing)\n",
    "\n",
    "par.set_xlabel(\"Time(s)\")\n",
    "par.set_xlim((kymo_xlim_left-x_offset_optimal)/x_cali,(kymo_xlim_right-x_offset_optimal)/x_cali)\n",
    "\n",
    "plt.plot(trace_time,position,'yellow',linewidth = 1)\n",
    "\n",
    "plt.show()\n",
    "plt.tight_layout()\n",
    "plt.savefig(kymo_path + '-cycle' + kymo_cycle + '-DNA Polymerase Trace'+'.png', dpi=300)"
   ]
  },
  {
   "cell_type": "code",
   "execution_count": null,
   "id": "introductory-issue",
   "metadata": {},
   "outputs": [],
   "source": [
    "pause"
   ]
  },
  {
   "cell_type": "markdown",
   "id": "graduate-imperial",
   "metadata": {},
   "source": [
    "## After analyzing the intensity data, let's show the basepair data in a more clear way, by visualizing the burst of DNAp activity in  different colors.\n",
    "##### Now we are switching to Matlab again. Here we are using another change-point detection algrithm, based on a previous publication(Kerssemakers, J.,et al.Nature, 2006) with further customerized features contributed by Noemie.B.Danne (n.b.danne@vu.nl) and Longfu Xu (l2.xu@vu.nl). Please refer to the publication to understand this algrithm before using\n",
    "##### make sure you put the matlab code in the matlab path\n",
    "##### After running the code block below, a matlab window of results will pop put if everything is set correctly; if not, double check with the readme file.\n",
    "#### One common issue is that decimal point should be changed to comma, instead of a dot (This is caused by saving the tweezer data in a different version of python)\n",
    "##### Please review the fitted results and tuning the parameters to get an optimal results\n",
    "- write down the window size and sigma value you are using in this step, and revise it in the analysis log file in the final code block"
   ]
  },
  {
   "cell_type": "code",
   "execution_count": null,
   "id": "after-allergy",
   "metadata": {},
   "outputs": [],
   "source": [
    "# Here you can edit the MatLab code with the pop-out window if you are not satisfized with the results.\n",
    "# You should check the Pathname, Filename,FolderSave to ensure you are selecting the right data to analyze\n",
    "# You can tune the filter window size and sigma value to get an optimal fitting results.\n",
    "# After changing these arguments, please ensure you save the .m file and re-run the above code {eng.main_run(nargout=0)}\n",
    "# pasue\n",
    "import matlab.engine\n",
    "eng = matlab.engine.start_matlab()\n",
    "eng.edit('main_run',nargout=0)"
   ]
  },
  {
   "cell_type": "code",
   "execution_count": null,
   "id": "incorporate-fifth",
   "metadata": {},
   "outputs": [],
   "source": [
    "# you must add nargout=0 to run .m script, otherwise it will run as a function, see https://nl.mathworks.com/matlabcentral/answers/816065-execution-of-script-vgg16-as-a-function-is-not-supported\n",
    "eng.main_run(nargout=0)"
   ]
  },
  {
   "cell_type": "code",
   "execution_count": null,
   "id": "french-wisdom",
   "metadata": {},
   "outputs": [],
   "source": [
    "txtpath_ChangePoint = trace_path+ \"\\\\\"+ \"ChangePoints_Results\"+ \"\\\\\" + trace_name[:-5] + '-change_point_analyzed' + '.xlsx'\n",
    "data_ChangePoint = pd.read_excel(txtpath_ChangePoint)\n",
    "# print(data_ChangePoint.head())"
   ]
  },
  {
   "cell_type": "code",
   "execution_count": null,
   "id": "typical-cleaner",
   "metadata": {},
   "outputs": [],
   "source": [
    "cp_startTime = np.array(bp_time[data_ChangePoint['cp_startIndex']])\n",
    "cp_endTime = np.array(bp_time[data_ChangePoint['cp_endIndex']])\n",
    "cp_startBasepair = np.array(bp[data_ChangePoint['cp_startIndex']])\n",
    "cp_endBasepair = np.array(bp[data_ChangePoint['cp_endIndex']])\n",
    "cp_data = np.stack((cp_startTime, cp_startBasepair, cp_endTime, cp_endBasepair)).T\n",
    "cp_data = cp_data.reshape (len(cp_startTime),4)\n",
    "cp_data = cp_data.reshape((cp_data.shape[0], 2, 2))\n",
    "segments = tuple(map(tuple, cp_data))\n",
    "# print(segments)\n",
    "colors = [mcolors.to_rgba(c)\n",
    "          for c in plt.rcParams['axes.prop_cycle'].by_key()['color']]\n",
    "\n",
    "lc = mc.LineCollection(segments, colors=colors, linewidths=2)\n",
    "fig, ax = plt.subplots(figsize=(8,3))\n",
    "plt.plot(bp_time,bp,'lightgrey',linewidth = 1)\n",
    "ax.add_collection(lc)\n",
    "ax.autoscale()\n",
    "ax.margins(0.1)\n",
    "plt.xlabel(\"Time/s\")\n",
    "plt.ylabel(\"Basepairs\")\n",
    "plt.title(\"Step Fitting for Basepairs as a Function of Time\")\n",
    "plt.tight_layout()\n",
    "plt.show()\n",
    "plt.savefig(kymo_path + '-cycle' + kymo_cycle + '-Step Fitting for Basepairs'+'.png', dpi=300)"
   ]
  },
  {
   "cell_type": "code",
   "execution_count": null,
   "id": "amber-attitude",
   "metadata": {},
   "outputs": [],
   "source": [
    "# Here in this step, you interpolate the basepair-time curve based on changing-point detection with a scipy.interp1d method\n",
    "from scipy.interpolate import interp1d\n",
    "cp_Time = np.append(cp_startTime,cp_endTime[-1])\n",
    "cp_Basepair = np.append(cp_startBasepair, cp_endBasepair[-1])\n",
    "\n",
    "set_interp = interp1d(cp_Time, cp_Basepair,kind='slinear',fill_value=\"extrapolate\")\n",
    "cp_basepair_interp = set_interp(bp_time)\n",
    "\n",
    "plt.figure(figsize=(8,3))\n",
    "# plt.plot(cp_Time,cp_Basepair,\"*-\")\n",
    "plt.plot(bp_time,cp_basepair_interp,\"red\", label = \"step fitted data\",linewidth = 2)\n",
    "plt.plot(bp_time,bp,\"lightgrey\",label = \"raw data\",linewidth = 1)\n",
    "plt.legend()\n",
    "plt.xlabel(\"Time/s\")\n",
    "plt.ylabel(\"Basepairs_interpolate\")\n",
    "plt.title(\"Activity Burst as a Function of Time\")\n",
    "plt.tight_layout()\n",
    "plt.show()\n",
    "plt.savefig(kymo_path + '-cycle' + kymo_cycle + '-Activity Burst as a Function of Time'+'.png', dpi=300)"
   ]
  },
  {
   "cell_type": "code",
   "execution_count": null,
   "id": "varying-encounter",
   "metadata": {},
   "outputs": [],
   "source": [
    "# this code block is intended to overlap the basepair-time and binarized intensity -time plots [ref. https://matplotlib.org/2.0.2/examples/axes_grid/demo_parasite_axes2.html]\n",
    "basepair = pd.read_excel(trace_file)\n",
    "bp_time = basepair['time']/1000\n",
    "bp_time = bp_time.dropna()\n",
    "bp = basepair['basepairs']\n",
    "bp = bp.dropna()\n",
    "\n",
    "fig, ax1 = plt.subplots(figsize=(8,3))\n",
    "\n",
    "ax2 = ax1.twinx()\n",
    "ax1.plot(bp_time,bp, 'lightgrey',label = 'basepairs',linewidth=1.5)\n",
    "colors = [mcolors.to_rgba(c)\n",
    "          for c in plt.rcParams['axes.prop_cycle'].by_key()['color']]\n",
    "lc = mc.LineCollection(segments, colors=colors, linewidths=3)\n",
    "ax1.add_collection(lc)\n",
    "ax1.autoscale()\n",
    "ax1.margins(0.1)\n",
    "\n",
    "\n",
    "ax2.plot(x1,signal_filter_binarized,color='lightgray',linewidth=0.5, label='binarized intensity')\n",
    "ax2.set_ylim(0.02,1.05)\n",
    "ax2.fill_between(x1,signal_filter_binarized, 0, alpha=0.1)\n",
    "# ax2.plot(x1-0.2,data_stepfinder['FinalFit'],color='black',linewidth=0.1, label='step-like intensity')\n",
    "# ax2.set_ylim(5,110)\n",
    "plt.axhline(np.average(bagrnd_signal_filter)+3*np.std(bagrnd_signal_filter), color='grey', linestyle='--',label='3 sigma threshold')\n",
    "plt.axhline(np.average(bagrnd_signal_filter)-3*np.std(bagrnd_signal_filter), color='grey', linestyle='--')\n",
    "\n",
    "ax1.set_xlabel('Time/s')\n",
    "# ax1.set_ylim(4500,9000)\n",
    "ax1.set_ylabel('Basepair/bp', color='g')\n",
    "ax2.set_ylabel('Binarized Intensity', color='lightgray')\n",
    "\n",
    "# plt.plot(bp_time,bp,'y',linewidth = 1, label = 'basepairs')\n",
    "# plt.plot(x1,signal_filter_binarized, label='Binarized Intensity')\n",
    "# plt.legend()\n",
    "# plt.ylim(25,85)\n",
    "plt.xlim((kymo_xlim_left-x_offset_optimal)/x_cali,(kymo_xlim_right-x_offset_optimal)/x_cali)\n",
    "# plt.xlim(35,70)\n",
    "plt.show()\n",
    "plt.tight_layout()\n",
    "plt.savefig(kymo_path + '-cycle' + kymo_cycle + '-basepairs+Binarized intensity'+'.png', dpi=300)"
   ]
  },
  {
   "cell_type": "code",
   "execution_count": null,
   "id": "accessible-japan",
   "metadata": {},
   "outputs": [],
   "source": [
    "# this step is to plot the 1st derivative correlates with the fluorescence signal, to get the figure\"Activity Burst Correlates with Fluorescence Signal\"\n",
    "\n",
    "fig, ax1 = plt.subplots(figsize=(8,3))\n",
    "\n",
    "ax2 = ax1.twinx()\n",
    "ax1.plot(bp_time[:-1],np.diff(cp_basepair_interp)/np.diff(bp_time),\"red\", label = \"step fitted data\",linewidth = 2)\n",
    "# ax2.plot(x1-0.2,signal_filter_binarized,color='lightgray',linewidth=1, label='binarized intensity')\n",
    "# ax2.set_ylim(-0.02,1.05)\n",
    "ax1.set_xlabel('Time/s')\n",
    "# ax1.set_ylim(1500,8500)\n",
    "ax1.set_ylabel('DNAp Activity', color='r')\n",
    "\n",
    "ax2.plot(x1,signal_filter_binarized, label='pixel = 5',color='lightgray',linewidth=0.5)\n",
    "ax2.fill_between(x1,signal_filter_binarized, 0, alpha=0.1)\n",
    "ax2.set_ylim(0.1,1.2)\n",
    "ax2.set_ylabel('Fluorescent DNAp Observation', color='lightgrey')\n",
    "\n",
    "plt.title(\"Activity Burst Correlates with Fluorescence Signal\")\n",
    "plt.tight_layout()\n",
    "plt.show()\n",
    "plt.savefig(kymo_path + '-cycle' + kymo_cycle + '-Activity Burst Correlates with Fluorescence Signal'+'.png', dpi=300)"
   ]
  },
  {
   "cell_type": "code",
   "execution_count": null,
   "id": "floating-inflation",
   "metadata": {},
   "outputs": [],
   "source": [
    "# This step is to get a three y-axis figure, which shows basepairs, raw intensity and binarized intensity\n",
    "from mpl_toolkits.axes_grid1 import host_subplot\n",
    "import mpl_toolkits.axisartist as AA\n",
    "\n",
    "plt.figure(figsize=(8,3))\n",
    "host = host_subplot(111, axes_class=AA.Axes)\n",
    "plt.subplots_adjust(right=0.75)\n",
    "\n",
    "par1 = host.twinx()\n",
    "par2 = host.twinx()\n",
    "\n",
    "offset = 30\n",
    "new_fixed_axis = par2.get_grid_helper().new_fixed_axis\n",
    "par2.axis[\"right\"] = new_fixed_axis(loc=\"right\", axes=par2,\n",
    "                                        offset=(offset, 0))\n",
    "\n",
    "par2.axis[\"right\"].toggle(all=True)\n",
    "\n",
    "host.set_xlim((kymo_xlim_left-x_offset_optimal)/x_cali,(kymo_xlim_right-x_offset_optimal)/x_cali)\n",
    "# host.set_ylim(1500,9000)\n",
    "\n",
    "host.set_xlabel(\"Time/s\")\n",
    "host.set_ylabel(\"Basepire/bp\")\n",
    "# host.set_ylabel(\"DNAp Activity Burst\")\n",
    "par1.set_ylabel(\"Step-like Intensity\")\n",
    "par2.set_ylabel(\"Binarized Intensity\")\n",
    "\n",
    "p0, = host.plot(bp_time,bp, 'lightgrey',label = 'Basepairs',linewidth=1.5)\n",
    "# p0, = host.plot(bp_time[:-1],np.diff(cp_basepair_interp)/np.diff(bp_time),\"red\", label = \"DNAp Activity Burst\",linewidth = 1)\n",
    "p1, = par1.plot(x1,data_stepfinder['FinalFit'],color='black',linewidth=1, label='Step-like intensity')\n",
    "p2, = par2.plot(x1,signal_filter_binarized,color='lightgray',linewidth=0.5, label='Binarized Intensity')\n",
    "par2.fill_between(x1,signal_filter_binarized, 0, alpha=0.1)\n",
    "\n",
    "colors = [mcolors.to_rgba(c)\n",
    "          for c in plt.rcParams['axes.prop_cycle'].by_key()['color']]\n",
    "lc = mc.LineCollection(segments, colors=colors, linewidths=3)\n",
    "host.add_collection(lc)\n",
    "host.autoscale()\n",
    "host.margins(0.1)\n",
    "\n",
    "par1.axhline(np.average(bagrnd_signal_filter)+threshold_sigma*np.std(bagrnd_signal_filter), color='grey', linestyle='--',label=str(threshold_sigma) + ' Sigma threshold')\n",
    "par1.axhline(np.average(bagrnd_signal_filter)-threshold_sigma*np.std(bagrnd_signal_filter), color='grey', linestyle='--')\n",
    "\n",
    "par1.set_ylim(5, 30)\n",
    "par2.set_ylim(0.02, 1.05)\n",
    "\n",
    "# host.legend()\n",
    "\n",
    "host.axis[\"left\"].label.set_color('green')\n",
    "par1.axis[\"right\"].label.set_color(p1.get_color())\n",
    "par2.axis[\"right\"].label.set_color(p2.get_color())\n",
    "\n",
    "# plt.draw()\n",
    "plt.show()\n",
    "plt.tight_layout()\n",
    "plt.savefig(kymo_path + '-cycle' + kymo_cycle + '-all_correlated_data'+'.png', dpi=300)"
   ]
  },
  {
   "cell_type": "code",
   "execution_count": null,
   "id": "surprised-agreement",
   "metadata": {},
   "outputs": [],
   "source": [
    "# Save all the analyzed data in an excel file and the analysis log \n",
    "excel_filename = kymo_path[:-10] + 'cycle' + kymo_cycle + \"-correlated_data\" + '.xlsx'\n",
    "# no idea why it causes errors without this step\n",
    "writer = pd.ExcelWriter(excel_filename)\n",
    "\n",
    "data1 = {'time/s':bp_time,\n",
    "        'raw_basepair':bp}\n",
    "data2 = {'cp_startTime/s':cp_startTime,\n",
    "         'cp_endTime/s':cp_endTime,\n",
    "         'cp_startBasepair':cp_startBasepair,\n",
    "        'cp_endBasepair':cp_endBasepair}\n",
    "data3 = {'time/s':bp_time,\n",
    "        'cp_basepair':cp_basepair_interp}\n",
    "data4 = {'time/s':x1,\n",
    "        'step_intensity':data_stepfinder['FinalFit']}\n",
    "data5 = {'time/s':x1,\n",
    "        'binarized_intensity':signal_filter_binarized}\n",
    "data6 = {'time/s':x1,\n",
    "        'raw_intensity':all_intensity}\n",
    "data7 = {'time/s':x1,\n",
    "        'filtered_intensity':signal_filter}\n",
    "\n",
    "df1 = pd.DataFrame(data1)\n",
    "df2 = pd.DataFrame(data2)\n",
    "df3 = pd.DataFrame(data3)\n",
    "df4 = pd.DataFrame(data4)\n",
    "df5 = pd.DataFrame(data5)\n",
    "df6 = pd.DataFrame(data6)\n",
    "df7 = pd.DataFrame(data7)\n",
    "\n",
    "\n",
    "df1.to_excel(writer,sheet_name ='raw_basepair')\n",
    "df2.to_excel(writer,sheet_name ='changing_point')\n",
    "df3.to_excel(writer,sheet_name ='cp_basepair')\n",
    "df4.to_excel(writer,sheet_name ='step_intensity')\n",
    "df5.to_excel(writer,sheet_name ='binarized_intensity')\n",
    "df6.to_excel(writer,sheet_name ='raw_intensity')\n",
    "df7.to_excel(writer,sheet_name ='filtered_intensity')\n",
    "\n",
    "writer.save()"
   ]
  },
  {
   "cell_type": "code",
   "execution_count": null,
   "id": "handmade-swedish",
   "metadata": {},
   "outputs": [],
   "source": [
    "pasue"
   ]
  },
  {
   "cell_type": "code",
   "execution_count": null,
   "id": "computational-webcam",
   "metadata": {},
   "outputs": [],
   "source": [
    "# Save all the analysis parameters in the analysis log in .txt format\n",
    "analysis_log_data = {\"kymo_cycle\": kymo_cycle,\n",
    "                     \"kymo_xlim_left\":kymo_xlim_left,\n",
    "                     \"kymo_xlim_right\":kymo_xlim_right,\n",
    "                     \"x_offset\":x_offset_optimal,\n",
    "                     \"y_offset \":y_offset_optimal,\n",
    "                     \"rec_x\":rec_x,\n",
    "                     \"rec_y\":rec_y,\n",
    "                     \"rec_w\":rec_w,\n",
    "                     \"rec_h\":rec_h,\n",
    "                     \"bagrnd_filter_window\":bagrnd_filter_window,\n",
    "                     \"signal_filter_window\":signal_filter_window,\n",
    "                     \"threshold_sigma\":threshold_sigma,\n",
    "                    \"Intensity_changepoint#\":'183',\n",
    "                    \"windowsize_cp_basepaire\":\"4\",\n",
    "                    \"sigmavalue_basepair\":\"0.04\"}\n",
    "\n",
    "# \"Intensity_changepoint\" is the number of changing point for step fitting of intensity (from the first matlab running code)\n",
    "# \"windowsize_cp_basepaire\" and \"sigmavalue_basepair\" are from the second matlab running code\n",
    "\n",
    "with open(excel_filename[:-20]+ '-analysis_log_data' + '.txt', 'w') as text_file:\n",
    "    print(analysis_log_data, file=text_file)"
   ]
  }
 ],
 "metadata": {
  "kernelspec": {
   "display_name": "Python 3",
   "language": "python",
   "name": "python3"
  },
  "language_info": {
   "codemirror_mode": {
    "name": "ipython",
    "version": 3
   },
   "file_extension": ".py",
   "mimetype": "text/x-python",
   "name": "python",
   "nbconvert_exporter": "python",
   "pygments_lexer": "ipython3",
   "version": "3.8.8"
  }
 },
 "nbformat": 4,
 "nbformat_minor": 5
}
