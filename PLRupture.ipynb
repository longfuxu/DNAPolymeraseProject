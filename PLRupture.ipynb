{
 "cells": [
  {
   "cell_type": "code",
   "execution_count": 6,
   "id": "adopted-treasury",
   "metadata": {},
   "outputs": [],
   "source": [
    "##### -*-coding:utf-8 -*-\n",
    "# import all the libraries \n",
    "# python==3.8; jupyterlab==3.0.12; lumicks.pylake==0.8.1; matplotlib==3.3.4; more-itertools==8.7.0;\n",
    "# npTDMS==1.1.0; numpy==1.20.1; opencv-python==4.5.1.48; pandas==1.2.3; scipy==1.6.1; tifffile==2021.3.5\n",
    "import os\n",
    "import numpy as np\n",
    "import matplotlib.pyplot as plt\n",
    "import pandas as pd\n",
    "from __future__ import division\n",
    "import ruptures as rpt\n",
    "import pwlf\n",
    "from scipy import interpolate\n",
    "from __future__ import division\n",
    "from more_itertools import chunked\n",
    "%matplotlib widget"
   ]
  },
  {
   "cell_type": "code",
   "execution_count": 7,
   "id": "elect-penetration",
   "metadata": {},
   "outputs": [
    {
     "name": "stdout",
     "output_type": "stream",
     "text": [
      "   Unnamed: 0    time/s  intensity_binarized\n",
      "0           0  4.260492                    1\n",
      "1           1  4.424357                    1\n",
      "2           2  4.588222                    1\n",
      "3           3  4.752088                    1\n",
      "4           4  4.915953                    1\n"
     ]
    }
   ],
   "source": [
    "# read the excel data \n",
    "intens = pd.read_excel(r'C:\\Users\\KTS260\\Google Drive\\ExampleData_DNApTrace_20210720\\image-TimeIntensity.xlsx')\n",
    "print(intens.head())"
   ]
  },
  {
   "cell_type": "code",
   "execution_count": 8,
   "id": "union-promise",
   "metadata": {},
   "outputs": [
    {
     "data": {
      "application/vnd.jupyter.widget-view+json": {
       "model_id": "ee3cd3c22c204fd39f3b082c9aa6ce61",
       "version_major": 2,
       "version_minor": 0
      },
      "text/plain": [
       "Canvas(toolbar=Toolbar(toolitems=[('Home', 'Reset original view', 'home', 'home'), ('Back', 'Back to previous …"
      ]
     },
     "metadata": {},
     "output_type": "display_data"
    }
   ],
   "source": [
    "# plot the data and simulated noisy data\n",
    "time_intens = intens['time/s']\n",
    "time_intens = np.array(time_intens)\n",
    "intensity = intens['intensity_binarized']\n",
    "intensity = np.random.normal(0, 0.05, len(intensity)) + intensity\n",
    "intensity = np.array(intensity)\n",
    "\n",
    "# plot the results\n",
    "plt.figure()\n",
    "plt.plot(time_intens, intensity)\n",
    "plt.show()"
   ]
  },
  {
   "cell_type": "code",
   "execution_count": 9,
   "id": "consolidated-consumer",
   "metadata": {},
   "outputs": [],
   "source": [
    "# option1: combined rupture and pwlf, which determine the roughly change-point (by rupture) and refined with fit from a breakpoint guess(by pwlf)\n",
    "# define a function PLRupture to calculate the speed, duration and processivity\n",
    "# PLRupture is an improved changing point detection model based on rupture and piece-linear wise function\n",
    "def PLRupture(basepairs,time_from,time_to,sigma):\n",
    "    # define a temporary index to compute time of ROI, and subsuquent ROI of force, distance\n",
    "    indtemp = np.where((time_intens <= time_to) & (time_intens >= time_from))\n",
    "    time_ROI = time_intens[indtemp]\n",
    "    basepairs_ROI = basepairs[indtemp]\n",
    "\n",
    "# From now on we work on change point detection\n",
    "    signal = basepairs_ROI  # 1D array\n",
    "# Apply proper model & searching method to work on change point detection\n",
    "    model = \"l2\"  # \"l1\", \"rbf\", \"linear\", \"normal\", \"ar\",...\n",
    "\n",
    "# For faster predictions, one can modify the jump parameter during initialization. The higher it is, the faster the prediction is achieved (at the expense of precision).\n",
    "# There are plenty of models can be used for change point detection; but only rpt.Pelt seems to work with a algo.predict(pen=)\n",
    "    algo = rpt.Pelt(model=model, jump=1).fit(signal)\n",
    "# algo = rpt.BottomUp(model=model).fit(signal)\n",
    "# algo = rpt.Window(width=40, model=model).fit(signal)\n",
    "# algo = rpt.Binseg(model=model).fit(signal)\n",
    "# algo = rpt.Dynp(model=\"rbf\", params=params, jump=1, min_size=2).fit(signal)\n",
    "\n",
    "\n",
    "# In our case, the number of change points is unknown, we need to specify a threshold on the residual norm using epsilon or a penalty using the pen parameter.\n",
    "# n = number of samples\n",
    "# sigma = noise standard deviation; the bigger the sigma, the less break points\n",
    "# dim = dimention, in this case: dim = 1\n",
    "    n = len(signal)\n",
    "\n",
    "# my_bkps = algo.predict(epsilon=3 * n * sigma ** 2)\n",
    "# # or\n",
    "    dim = 1\n",
    "# https://centre-borelli.github.io/ruptures-docs/user-guide/detection/bottomup/#:~:text=In%20the%20situation,n%20*%20sigma%20**%202)\n",
    "# penelty constant = np.log(n) * dim * sigma ** 2\n",
    "    my_bkps = algo.predict(pen=np.log(n) * dim * sigma ** 2)\n",
    "## or you can assign a breakpoint number, e.g.:\n",
    "# my_bkps = algo.predict(n_bkps=3)\n",
    "\n",
    "# trace back to time-basepair based on index\n",
    "    time_bkp = np.zeros(len(my_bkps)-1)\n",
    "    bps_bkp = np.zeros(len(my_bkps)-1)\n",
    "\n",
    "# to exclude the last value\n",
    "    time_bkp = time_ROI[my_bkps[0:-1]]\n",
    "    bps_bkp = basepairs_ROI[my_bkps[0:-1]]\n",
    "\n",
    "# to add the first value and last value to array\n",
    "    time_bkp = np.insert(time_bkp,0,time_ROI[0])\n",
    "    time_bkp = np.append(time_bkp,time_ROI[-1])\n",
    "    bps_bkp = np.insert(bps_bkp,0,basepairs_ROI[0])\n",
    "    bps_bkp = np.append(bps_bkp,basepairs_ROI[-1])\n",
    "    \n",
    "# initialize piecewise linear fit with your x and y data\n",
    "    my_pwlf = pwlf.PiecewiseLinFit(time_ROI, basepairs_ROI)\n",
    "\n",
    "# Uses L-BFGS-B optimization to find the location of breakpoints from a guess of where breakpoint locations should be.\n",
    "    time_bkp = my_pwlf.fit_guess(time_bkp)\n",
    "\n",
    "    from scipy import interpolate\n",
    "    func_2 = interpolate.interp1d(time_ROI, basepairs_ROI,kind='slinear',fill_value=\"extrapolate\")\n",
    "    bps_bkp = func_2(time_bkp)\n",
    "    \n",
    "# bks = np.append(time_bkp,bps_bkp, axis=-1).reshape((2,len(my_bkps)+1)).T\n",
    "    duration_time = np.diff(time_bkp)\n",
    "    processivity_event = np.diff(bps_bkp)\n",
    "    speed = processivity_event / duration_time\n",
    "    bound_duration = time_bkp[-1] - time_bkp[0]\n",
    "    bound_processivity = bps_bkp[-1] - bps_bkp[0]\n",
    "    return time_from,time_to,time_bkp,bps_bkp,duration_time,processivity_event,speed\n"
   ]
  },
  {
   "cell_type": "code",
   "execution_count": 16,
   "id": "ceramic-vacation",
   "metadata": {},
   "outputs": [],
   "source": [
    "# option2: with only rupture algorithm\n",
    "# define a function PLRupture to calculate the speed, duration and processivity\n",
    "# PLRupture is an improved changing point detection model based on rupture and piece-linear wise function\n",
    "def PLRupture(basepairs,time_from,time_to,sigma):\n",
    "    # define a temporary index to compute time of ROI, and subsuquent ROI of force, distance\n",
    "    indtemp = np.where((time_intens <= time_to) & (time_intens >= time_from))\n",
    "    time_ROI = time_intens[indtemp]\n",
    "    basepairs_ROI = basepairs[indtemp]\n",
    "\n",
    "# From now on we work on change point detection\n",
    "    signal = basepairs_ROI  # 1D array\n",
    "# Apply proper model & searching method to work on change point detection\n",
    "    model = \"l2\"  # \"l1\", \"rbf\", \"linear\", \"normal\", \"ar\",...\n",
    "\n",
    "# For faster predictions, one can modify the jump parameter during initialization. The higher it is, the faster the prediction is achieved (at the expense of precision).\n",
    "# There are plenty of models can be used for change point detection; but only rpt.Pelt seems to work with a algo.predict(pen=)\n",
    "    algo = rpt.Pelt(model=model, jump=1).fit(signal)\n",
    "# algo = rpt.BottomUp(model=model).fit(signal)\n",
    "# algo = rpt.Window(width=40, model=model).fit(signal)\n",
    "# algo = rpt.Binseg(model=model).fit(signal)\n",
    "# algo = rpt.Dynp(model=\"rbf\", params=params, jump=1, min_size=2).fit(signal)\n",
    "\n",
    "\n",
    "# In our case, the number of change points is unknown, we need to specify a threshold on the residual norm using epsilon or a penalty using the pen parameter.\n",
    "# n = number of samples\n",
    "# sigma = noise standard deviation; the bigger the sigma, the less break points\n",
    "# dim = dimention, in this case: dim = 1\n",
    "    n = len(signal)\n",
    "\n",
    "# my_bkps = algo.predict(epsilon=3 * n * sigma ** 2)\n",
    "# # or\n",
    "    dim = 1\n",
    "# https://centre-borelli.github.io/ruptures-docs/user-guide/detection/bottomup/#:~:text=In%20the%20situation,n%20*%20sigma%20**%202)\n",
    "# penelty constant = np.log(n) * dim * sigma ** 2\n",
    "    my_bkps = algo.predict(pen=np.log(n) * dim * sigma ** 2)\n",
    "## or you can assign a breakpoint number, e.g.:\n",
    "# my_bkps = algo.predict(n_bkps=3)\n",
    "\n",
    "# trace back to time-basepair based on index\n",
    "    time_bkp = np.zeros(len(my_bkps)-1)\n",
    "    bps_bkp = np.zeros(len(my_bkps)-1)\n",
    "\n",
    "# to exclude the last value\n",
    "    time_bkp = time_ROI[my_bkps[0:-1]]\n",
    "    bps_bkp = basepairs_ROI[my_bkps[0:-1]]\n",
    "\n",
    "# to add the first value and last value to array\n",
    "    time_bkp = np.insert(time_bkp,0,time_ROI[0])\n",
    "    time_bkp = np.append(time_bkp,time_ROI[-1])\n",
    "    bps_bkp = np.insert(bps_bkp,0,basepairs_ROI[0])\n",
    "    bps_bkp = np.append(bps_bkp,basepairs_ROI[-1])\n",
    "    \n",
    "# bks = np.append(time_bkp,bps_bkp, axis=-1).reshape((2,len(my_bkps)+1)).T\n",
    "    duration_time = np.diff(time_bkp)\n",
    "    processivity_event = np.diff(bps_bkp)\n",
    "    speed = processivity_event / duration_time \n",
    "    bound_duration = time_bkp[-1] - time_bkp[0]\n",
    "    bound_processivity = bps_bkp[-1] - bps_bkp[0]\n",
    "    return time_from,time_to,time_bkp,bps_bkp,duration_time,processivity_event,speed\n"
   ]
  },
  {
   "cell_type": "code",
   "execution_count": 20,
   "id": "timely-facial",
   "metadata": {},
   "outputs": [],
   "source": [
    "# option3: combined rupture and pwlf, which determine the roughly change-point (by rupture) and refined with pwlf\n",
    "# define a function PLRupture to calculate the speed, duration and processivity\n",
    "# PLRupture is an improved changing point detection model based on rupture and piece-linear wise function\n",
    "def PLRupture(basepairs,time_from,time_to,sigma):\n",
    "    # define a temporary index to compute time of ROI, and subsuquent ROI of force, distance\n",
    "    indtemp = np.where((time_intens <= time_to) & (time_intens >= time_from))\n",
    "    time_ROI = time_intens[indtemp]\n",
    "    basepairs_ROI = basepairs[indtemp]\n",
    "\n",
    "# From now on we work on change point detection\n",
    "    signal = basepairs_ROI  # 1D array\n",
    "# Apply proper model & searching method to work on change point detection\n",
    "    model = \"l2\"  # \"l1\", \"rbf\", \"linear\", \"normal\", \"ar\",...\n",
    "\n",
    "# For faster predictions, one can modify the jump parameter during initialization. The higher it is, the faster the prediction is achieved (at the expense of precision).\n",
    "# There are plenty of models can be used for change point detection; but only rpt.Pelt seems to work with a algo.predict(pen=)\n",
    "    algo = rpt.Pelt(model=model, jump=1).fit(signal)\n",
    "# algo = rpt.BottomUp(model=model).fit(signal)\n",
    "# algo = rpt.Window(width=40, model=model).fit(signal)\n",
    "# algo = rpt.Binseg(model=model).fit(signal)\n",
    "# algo = rpt.Dynp(model=\"rbf\", params=params, jump=1, min_size=2).fit(signal)\n",
    "\n",
    "\n",
    "# In our case, the number of change points is unknown, we need to specify a threshold on the residual norm using epsilon or a penalty using the pen parameter.\n",
    "# n = number of samples\n",
    "# sigma = noise standard deviation; the bigger the sigma, the less break points\n",
    "# dim = dimention, in this case: dim = 1\n",
    "    n = len(signal)\n",
    "\n",
    "# my_bkps = algo.predict(epsilon=3 * n * sigma ** 2)\n",
    "# # or\n",
    "    dim = 1\n",
    "# https://centre-borelli.github.io/ruptures-docs/user-guide/detection/bottomup/#:~:text=In%20the%20situation,n%20*%20sigma%20**%202)\n",
    "# penelty constant = np.log(n) * dim * sigma ** 2\n",
    "    my_bkps = algo.predict(pen=np.log(n) * dim * sigma ** 2)\n",
    "## or you can assign a breakpoint number, e.g.:\n",
    "# my_bkps = algo.predict(n_bkps=3)\n",
    "\n",
    "# show results\n",
    "#     fig, (ax,) = rpt.display(signal, my_bkps, figsize=(8, 4))\n",
    "#     plt.show()\n",
    "    # my_bkps returns index of break points\n",
    "# trace back to time-basepair based on index\n",
    "    time_bkp = np.zeros(len(my_bkps)-1)\n",
    "    bps_bkp = np.zeros(len(my_bkps)-1)\n",
    "\n",
    "# to exclude the last value\n",
    "    time_bkp = time_ROI[my_bkps[0:-1]]\n",
    "    bps_bkp = basepairs_ROI[my_bkps[0:-1]]\n",
    "\n",
    "# to add the first value and last value to array\n",
    "    time_bkp = np.insert(time_bkp,0,time_ROI[0])\n",
    "    time_bkp = np.append(time_bkp,time_ROI[-1])\n",
    "    bps_bkp = np.insert(bps_bkp,0,basepairs_ROI[0])\n",
    "    bps_bkp = np.append(bps_bkp,basepairs_ROI[-1])\n",
    "    \n",
    "# initialize piecewise linear fit with your x and y data\n",
    "    my_pwlf = pwlf.PiecewiseLinFit(time_ROI, basepairs_ROI)\n",
    "\n",
    "# fit the data with the specified break points (ie the x locations of where\n",
    "# the line segments should end\n",
    "    my_pwlf.fit_with_breaks(time_bkp)\n",
    "# predict for the determined points\n",
    "    bps_bkp = my_pwlf.predict(time_bkp)\n",
    "\n",
    "# bks = np.append(time_bkp,bps_bkp, axis=-1).reshape((2,len(my_bkps)+1)).T\n",
    "    duration_time = np.diff(time_bkp)\n",
    "    processivity_event = np.diff(bps_bkp)\n",
    "    speed = processivity_event / duration_time\n",
    "    bound_duration = time_bkp[-1] - time_bkp[0]\n",
    "    bound_processivity = bps_bkp[-1] - bps_bkp[0]\n",
    "    return time_from,time_to,time_bkp,bps_bkp,duration_time,processivity_event,speed\n"
   ]
  },
  {
   "cell_type": "code",
   "execution_count": 21,
   "id": "saved-balloon",
   "metadata": {},
   "outputs": [
    {
     "name": "stdout",
     "output_type": "stream",
     "text": [
      "[ 7.70165907  1.47478578  5.40754786  5.40754786  0.32773017  1.14705561\n",
      " 10.48736554  1.14705561  3.60503191  0.32773017  1.96638104  0.32773017\n",
      "  0.32773017  0.49159526  0.32773017  8.02938924 32.93688241  1.14705561\n",
      " 19.17221513  1.31092069  1.80251595  0.49159526  0.32773017 10.81509572\n",
      "  2.4579763   1.63865087  3.44116682  0.32773017  0.81932543  1.80251595\n",
      "  2.78570647]\n",
      "[-4.57772028e-01  1.65180731e-04  4.32957797e-01 -2.05469188e-01\n",
      " -1.19942914e+00  1.28978775e+00 -1.41629382e-01 -1.96674280e-01\n",
      "  4.76832116e-01  3.75585594e-03 -4.86066277e-01 -6.99612798e-02\n",
      " -9.02675258e-01  1.28628863e+00 -1.38091932e+00  1.24660417e+00\n",
      "  1.95499981e-01 -7.44064579e-02 -3.43709654e-02 -4.04598928e-01\n",
      "  2.83126951e-01 -6.23806808e-01  9.44405292e-01 -3.95846337e-01\n",
      " -5.28909552e-01  9.76195913e-01 -3.09130089e-01  2.91341337e-01\n",
      " -1.16607544e+00  6.17764300e-01  5.48279232e-01]\n",
      "[-5.94381060e-02  1.12003203e-04  8.00654581e-02 -3.79967396e-02\n",
      " -3.65980687e+00  1.12443350e+00 -1.35047626e-02 -1.71460109e-01\n",
      "  1.32268487e-01  1.14602080e-02 -2.47188244e-01 -2.13472196e-01\n",
      " -2.75432454e+00  2.61656029e+00 -4.21358615e+00  1.55255167e-01\n",
      "  5.93559460e-03 -6.48673503e-02 -1.79274878e-03 -3.08637228e-01\n",
      "  1.57073201e-01 -1.26894390e+00  2.88165500e+00 -3.66012791e-02\n",
      " -2.15180900e-01  5.95731485e-01 -8.98329275e-02  8.88967085e-01\n",
      " -1.42321402e+00  3.42723347e-01  1.96818738e-01]\n",
      "10\n",
      "140\n"
     ]
    }
   ],
   "source": [
    "# for test purpose\n",
    "time_from,time_to,time_bkp,bps_bkp,duration_time,processivity_event,speed = PLRupture(intensity,10,140,0.05)\n",
    "print(duration_time)\n",
    "print(processivity_event)\n",
    "print(speed)\n",
    "print(time_from)\n",
    "print(time_to)"
   ]
  },
  {
   "cell_type": "code",
   "execution_count": 22,
   "id": "adequate-implementation",
   "metadata": {},
   "outputs": [
    {
     "data": {
      "application/vnd.jupyter.widget-view+json": {
       "model_id": "1b186c4927ff4675b9e1be94498eea67",
       "version_major": 2,
       "version_minor": 0
      },
      "text/plain": [
       "Canvas(toolbar=Toolbar(toolitems=[('Home', 'Reset original view', 'home', 'home'), ('Back', 'Back to previous …"
      ]
     },
     "metadata": {},
     "output_type": "display_data"
    }
   ],
   "source": [
    "# for test purpose\n",
    "# plot the results\n",
    "plt.figure()\n",
    "plt.xlim(-5,170)\n",
    "plt.ylim(-0.3,1.5)\n",
    "plt.plot(time_intens, intensity, label = \"noisy data\")\n",
    "plt.plot(time_intens, intens['intensity_binarized'], label = 'raw data')\n",
    "plt.scatter(time_bkp,bps_bkp,marker = \"^\",c = 'r', label = \"change point\")\n",
    "plt.title(\"simulated data and rupture detection\")\n",
    "plt.legend()\n",
    "plt.show()"
   ]
  },
  {
   "cell_type": "code",
   "execution_count": 11,
   "id": "moral-cream",
   "metadata": {},
   "outputs": [],
   "source": [
    "excel_filename = filename + '-' + sheet_name + str(time_from) + '-' +str(time_to) + '.xlsx'\n",
    "\n",
    "writer = pd.ExcelWriter(excel_filename)\n",
    "data_1 = {'breaking time/s':time_bkp,\n",
    "        'breaking position/bp':bps_bkp}\n",
    "data_2 = {'event duration/s':duration_time,\n",
    "        'event processivity/bp':processivity_event,\n",
    "        'velocity/(bp/s)':speed}\n",
    "data_3 = {'bound duration/s':bound_duration,\n",
    "        'bound processivity/bp':bound_processivity}\n",
    "df_1= pd.DataFrame(data_1)\n",
    "df_2 = pd.DataFrame(data_2)\n",
    "df_3 = pd.DataFrame(data_3)\n",
    "\n",
    "df_1.to_excel(writer,sheet_name ='change_points', index=False)\n",
    "df_2.to_excel(writer,sheet_name ='analyzed_data', index=False)\n",
    "df_3.to_excel(writer,sheet_name ='processivity_one_burst', index=False)\n",
    "\n",
    "writer.save()"
   ]
  },
  {
   "cell_type": "code",
   "execution_count": 12,
   "id": "welsh-oliver",
   "metadata": {},
   "outputs": [
    {
     "name": "stdout",
     "output_type": "stream",
     "text": [
      "0.4115294533319393\n",
      "0.5330995601224714\n"
     ]
    }
   ],
   "source": [
    "from scipy import stats\n",
    "sem = stats.sem(speed, axis=None, ddof=0)\n",
    "avg = np.mean(speed)\n",
    "\n",
    "print(avg)\n",
    "print(sem)"
   ]
  },
  {
   "cell_type": "code",
   "execution_count": 13,
   "id": "funny-bhutan",
   "metadata": {},
   "outputs": [
    {
     "data": {
      "application/vnd.jupyter.widget-view+json": {
       "model_id": "c49c77a429fe475bb19248dab9f97533",
       "version_major": 2,
       "version_minor": 0
      },
      "text/plain": [
       "Canvas(toolbar=Toolbar(toolitems=[('Home', 'Reset original view', 'home', 'home'), ('Back', 'Back to previous …"
      ]
     },
     "metadata": {},
     "output_type": "display_data"
    }
   ],
   "source": [
    "fig, ax = plt.subplots(figsize=(6, 4))\n",
    "n_bins = 30\n",
    "n, bins, patches = ax.hist(speed, n_bins)\n",
    "ax.set_title('Pol Rate')\n",
    "ax.set_xlabel('Pol Rate(bp/s)')\n",
    "ax.set_ylabel('Occurrence')\n",
    "plt.show()\n",
    "plt.tight_layout()"
   ]
  },
  {
   "cell_type": "code",
   "execution_count": 15,
   "id": "retired-calculation",
   "metadata": {},
   "outputs": [
    {
     "data": {
      "application/vnd.jupyter.widget-view+json": {
       "model_id": "963f9ea3fdf74d428d66c4ac57dfb4be",
       "version_major": 2,
       "version_minor": 0
      },
      "text/plain": [
       "Canvas(toolbar=Toolbar(toolitems=[('Home', 'Reset original view', 'home', 'home'), ('Back', 'Back to previous …"
      ]
     },
     "metadata": {},
     "output_type": "display_data"
    }
   ],
   "source": [
    "plt.figure(figsize=(10,6))\n",
    "# plt.plot(time_10pN/1000,basepairs_10pN)\n",
    "plt.plot(time_intens, intensity)\n",
    "plt.scatter(time_bkp,bps_bkp, marker = \"^\",s=50,color='red')\n",
    "plt.xlabel('Time/s')\n",
    "plt.ylabel('Basepairs')\n",
    "plt.title('Example Rupture Detection')\n",
    "plt.tight_layout()\n",
    "\n",
    "# plt.savefig(\"C:\\\\Users\\\\KTS260\\\\Desktop\\\\' + name + '-cycle#'+ cycle + '.png\",dpi=None, facecolor='w', edgecolor='w',\n",
    "#         orientation='portrait',format=None,\n",
    "#         transparent=False, bbox_inches=None, pad_inches=0.1,\n",
    "#         metadata=None)\n",
    "# plt.savefig(cycledic + '.png')\n",
    "plt.show()"
   ]
  },
  {
   "cell_type": "code",
   "execution_count": null,
   "id": "amended-rating",
   "metadata": {},
   "outputs": [],
   "source": []
  }
 ],
 "metadata": {
  "kernelspec": {
   "display_name": "Python 3 (ipykernel)",
   "language": "python",
   "name": "python3"
  },
  "language_info": {
   "codemirror_mode": {
    "name": "ipython",
    "version": 3
   },
   "file_extension": ".py",
   "mimetype": "text/x-python",
   "name": "python",
   "nbconvert_exporter": "python",
   "pygments_lexer": "ipython3",
   "version": "3.9.6"
  }
 },
 "nbformat": 4,
 "nbformat_minor": 5
}
