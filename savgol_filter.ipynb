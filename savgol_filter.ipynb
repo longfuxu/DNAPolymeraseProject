{
 "cells": [
  {
   "cell_type": "markdown",
   "id": "excess-estimate",
   "metadata": {},
   "source": [
    "# These following codes are intended for calculating 1st deriative of basepairs over time and then detecting the change-points of 1st deriative (seperate matlab code), thus finding the rate changing points "
   ]
  },
  {
   "cell_type": "code",
   "execution_count": 1,
   "id": "upper-smile",
   "metadata": {},
   "outputs": [],
   "source": [
    "# -*-coding:utf-8 -*-\n",
    "# import all the libraries \n",
    "# python==3.8; jupyterlab==3.0.12; lumicks.pylake==0.8.1; matplotlib==3.3.4; more-itertools==8.7.0;\n",
    "# npTDMS==1.1.0; numpy==1.20.1; opencv-python==4.5.1.48; pandas==1.2.3; scipy==1.6.1; tifffile==2021.3.5\n",
    "import os\n",
    "import numpy as np\n",
    "import cv2\n",
    "import matplotlib.pyplot as plt\n",
    "import matplotlib.patches as patches\n",
    "import pandas as pd\n",
    "from nptdms import TdmsFile\n",
    "from scipy.signal import savgol_filter\n",
    "import tifffile as tif\n",
    "from scipy import interpolate\n",
    "%matplotlib widget"
   ]
  },
  {
   "cell_type": "code",
   "execution_count": 71,
   "id": "functional-spectrum",
   "metadata": {},
   "outputs": [
    {
     "name": "stdin",
     "output_type": "stream",
     "text": [
      "please type in the file name: 20200821-017-002-processedData\n",
      "please type in the file path: C:\\Users\\KTS260\\Google Drive\\T7 Helicase data_work_with_Pim\\gp4+gp2.5\n"
     ]
    },
    {
     "name": "stdout",
     "output_type": "stream",
     "text": [
      "   Unnamed: 0  time  ssDNA_all_percentage  junction_position_all    basepairs\n",
      "0           0  3450              0.006872               0.032010  8335.321026\n",
      "1           1  3500              0.008405               0.039148  8322.460641\n",
      "2           2  3551              0.009495               0.044226  8313.309863\n",
      "3           3  3600              0.012396               0.057738  8288.963067\n",
      "4           4  3650              0.008926               0.041578  8318.081443\n"
     ]
    }
   ],
   "source": [
    "# read basepair-time data and plot it\n",
    "name = input('please type in the file name:' ) + '.xlsx'\n",
    "path = input('please type in the file path:')\n",
    "file = os.path.join(path, name) \n",
    "data = pd.read_excel(file)\n",
    "print(data.head())"
   ]
  },
  {
   "cell_type": "code",
   "execution_count": 72,
   "id": "geological-grove",
   "metadata": {},
   "outputs": [
    {
     "data": {
      "application/vnd.jupyter.widget-view+json": {
       "model_id": "1e819d414c0c440987c216d40ba7a877",
       "version_major": 2,
       "version_minor": 0
      },
      "text/plain": [
       "Canvas(toolbar=Toolbar(toolitems=[('Home', 'Reset original view', 'home', 'home'), ('Back', 'Back to previous …"
      ]
     },
     "metadata": {},
     "output_type": "display_data"
    }
   ],
   "source": [
    "# plot basepair changes as a function of time\n",
    "plt.figure(figsize=(8,6))\n",
    "font = {'family': 'serif',\n",
    "        'weight': 'normal',\n",
    "        'size': 16}\n",
    "\n",
    "plt.xlabel('Time (s)',fontdict=font)\n",
    "plt.ylabel('Basepairs',fontdict=font)\n",
    "plt.plot(data['time']/1000,data['basepairs'],color='red', linestyle='dashed',linewidth=1, label='Basepairs')\n",
    "\n",
    "plt.show()\n",
    "plt.tight_layout()"
   ]
  },
  {
   "cell_type": "code",
   "execution_count": 73,
   "id": "identical-satin",
   "metadata": {},
   "outputs": [
    {
     "name": "stdout",
     "output_type": "stream",
     "text": [
      "[591281.0933243658, 871072.5021164485, 1052640.3270835974, 1195435.6387222153, 1307950.219760824, 1394024.3333459492, 1468958.3607706076, 1535221.5921047537, 1591542.7398892206, 1643661.520255188, 1685030.1126916932, 1732932.0060389726, 1777349.7030811869, 1824288.021248111, 1866876.4861890892, 1903038.1876969263, 1937235.862758499, 1966732.9147818778, 1990350.5574183261, 2011495.5529226884, 2033910.5511330618, 2058711.54029197, 2089023.028585027, 2118757.0195805896, 2145062.991236046, 2173530.2647069218, 2202044.4312472297, 2231598.8903195774, 2263220.564233667, 2294922.8610657547, 2328187.440136683, 2361197.7334868116, 2392223.9118985906, 2421771.153603432, 2451043.9584291815, 2480242.4862208124, 2512264.5329718655, 2541054.0341626615, 2572003.0117540313, 2601143.131653771, 2628634.2305872655, 2656622.4211212653, 2687351.283720374, 2718044.3525266447, 2748868.8827737262, 2779501.775991495, 2809031.42453254, 2837230.291553267, 2863467.2438268936]\n"
     ]
    },
    {
     "data": {
      "application/vnd.jupyter.widget-view+json": {
       "model_id": "b7dbb2585f0f420ebbcb4a9d46b087f3",
       "version_major": 2,
       "version_minor": 0
      },
      "text/plain": [
       "Canvas(toolbar=Toolbar(toolitems=[('Home', 'Reset original view', 'home', 'home'), ('Back', 'Back to previous …"
      ]
     },
     "metadata": {},
     "output_type": "display_data"
    }
   ],
   "source": [
    "# this step is to find out the optimal window size that savgol_filter will use below, thus to reduce the noise without losing too much information\n",
    "residuals = []\n",
    "kernal_size = np.linspace(5,101,49)\n",
    "for i in kernal_size:\n",
    "    basepairs_sgfilt = savgol_filter(data['basepairs'],int(i),3)\n",
    "    residual = np.sum((basepairs_sgfilt-data['basepairs'])**2)\n",
    "    residuals.append(residual)\n",
    "print(residuals)\n",
    "residual_norm = residuals/(np.max(residuals))\n",
    "plt.figure(figsize = (5,3))\n",
    "plt.scatter(kernal_size,residual_norm)\n",
    "# plt.title('Finding the optimal window size')\n",
    "plt.axhline(0.99)\n",
    "# plt.xscale('log')\n",
    "plt.yscale('log')\n",
    "# plt.xlabel(\"window size\")\n",
    "# plt.ylabel(\"normalized residuals\")\n",
    "# plt.ylim(0.8,1.1)\n",
    "# plt.xlim(0,85)\n",
    "plt.show()\n",
    "plt.tight_layout()"
   ]
  },
  {
   "cell_type": "code",
   "execution_count": 83,
   "id": "institutional-banks",
   "metadata": {},
   "outputs": [
    {
     "data": {
      "application/vnd.jupyter.widget-view+json": {
       "model_id": "b2985041ae944b7dbdf94df9716506d5",
       "version_major": 2,
       "version_minor": 0
      },
      "text/plain": [
       "Canvas(toolbar=Toolbar(toolitems=[('Home', 'Reset original view', 'home', 'home'), ('Back', 'Back to previous …"
      ]
     },
     "metadata": {},
     "output_type": "display_data"
    }
   ],
   "source": [
    "# to plot the filtered data as well as raw data\n",
    "basepairs_filter = savgol_filter(data['basepairs'], 305, 3)\n",
    "plt.figure(figsize=(8,6))\n",
    "font = {'family': 'serif',\n",
    "        'weight': 'normal',\n",
    "        'size': 16}\n",
    "\n",
    "plt.xlabel('Time (s)',fontdict=font)\n",
    "plt.ylabel('Basepairs',fontdict=font)\n",
    "plt.plot(data['time']/1000,data['basepairs'],color='red', linestyle='dashed',linewidth=1, label='Basepairs')\n",
    "plt.plot(data['time']/1000,basepairs_filter,color='black',linewidth=1, label='SG_filter-windsize=65')\n",
    "# plt.plot(data['time']/1000,basepairs_medfilt,color='yellow',linewidth=1, label='med_filter-kernalsize=27')\n",
    "\n",
    "# plt.title('Simulated Data',fontdict=font)\n",
    "\n",
    "plt.legend()\n",
    "plt.show()\n",
    "plt.tight_layout()"
   ]
  },
  {
   "cell_type": "code",
   "execution_count": 12,
   "id": "russian-allah",
   "metadata": {},
   "outputs": [],
   "source": [
    "# this step is used to plot a zoom-in figure\n",
    "plt.xlim(240,260)\n",
    "plt.ylim(3850,4250)\n",
    "plt.show()\n",
    "plt.tight_layout()"
   ]
  },
  {
   "cell_type": "code",
   "execution_count": 163,
   "id": "great-michael",
   "metadata": {},
   "outputs": [
    {
     "data": {
      "application/vnd.jupyter.widget-view+json": {
       "model_id": "b0b2c62af1e14a328863180aaa0b1c55",
       "version_major": 2,
       "version_minor": 0
      },
      "text/plain": [
       "Canvas(toolbar=Toolbar(toolitems=[('Home', 'Reset original view', 'home', 'home'), ('Back', 'Back to previous …"
      ]
     },
     "metadata": {},
     "output_type": "display_data"
    }
   ],
   "source": [
    "# from scipy.signal import medfilt\n",
    "# basepairs_medfilt = medfilt(data['basepairs'],27)\n",
    "\n",
    "# residuals = []\n",
    "# kernal_size = np.linspace(1,101,46)\n",
    "# for i in kernal_size:\n",
    "#     basepairs_medfilt = medfilt(data['basepairs'],int(i))\n",
    "#     residual = np.sum((basepairs_medfilt-data['basepairs'])**2)\n",
    "#     residuals.append(residual)\n",
    "# print(residuals)\n",
    "\n",
    "# residual_norm = residuals/(np.max(residuals))\n",
    "# plt.figure()\n",
    "# plt.scatter(kernal_size,residual_norm)\n",
    "# plt.xlabel(\"kernal size\")\n",
    "# plt.ylabel(\"normalized residuals\")\n",
    "# plt.title('Finding the optimal kernal size')\n",
    "# # plt.xscale('log')\n",
    "# plt.yscale('log')\n",
    "# plt.ylim(0.1,1)\n",
    "# plt.show()\n",
    "# plt.tight_layout()"
   ]
  },
  {
   "cell_type": "code",
   "execution_count": 84,
   "id": "psychological-cancellation",
   "metadata": {},
   "outputs": [
    {
     "data": {
      "application/vnd.jupyter.widget-view+json": {
       "model_id": "6b9cfa78156c4e149fc59ff9dff412ab",
       "version_major": 2,
       "version_minor": 0
      },
      "text/plain": [
       "Canvas(toolbar=Toolbar(toolitems=[('Home', 'Reset original view', 'home', 'home'), ('Back', 'Back to previous …"
      ]
     },
     "metadata": {},
     "output_type": "display_data"
    }
   ],
   "source": [
    "# this is to calculate and plot the 1st deriative\n",
    "from sympy import *\n",
    "x = Symbol('x')\n",
    "x = data['time']\n",
    "y = np.array(basepairs_filter)\n",
    "yprime = np.diff(y)/np.diff(x)\n",
    "# print(yprime)\n",
    "# print(y)\n",
    "# print(np.diff(x))\n",
    "\n",
    "plt.figure(figsize=(10,3))\n",
    "plt.plot(x[:-1],yprime,color='green',linewidth=2, label='1st derivative')\n",
    "\n",
    "plt.title('1st derivative of basepairs over time',fontdict=font)\n",
    "# plt.xlim(10,50)\n",
    "# plt.ylim(6400,7000)\n",
    "plt.legend()\n",
    "plt.show()"
   ]
  },
  {
   "cell_type": "code",
   "execution_count": 85,
   "id": "sapphire-domain",
   "metadata": {},
   "outputs": [
    {
     "name": "stdout",
     "output_type": "stream",
     "text": [
      "16008\n"
     ]
    }
   ],
   "source": [
    "# this is to save the 1st derivative data for further change-point detection\n",
    "txt_filename = path + \"\\\\\"+\"1st_derivative_data-\" + name + '.txt'\n",
    "txt_data = open(txt_filename, \"w\")\n",
    "column = np.column_stack((data['time'][:-1], yprime)) \n",
    "np.savetxt(txt_data, column,delimiter=\"  \")\n",
    "txt_data.close()\n",
    "\n",
    "# print(yprime)\n",
    "# print(txt_filename)\n",
    "print(len(y))"
   ]
  },
  {
   "cell_type": "markdown",
   "id": "wanted-pathology",
   "metadata": {},
   "source": [
    "# Now we switch to Matlab to detect the change-points\n",
    "# _______________________________________________________\n",
    "# After finding the steps, we analyze the change-point data"
   ]
  },
  {
   "cell_type": "code",
   "execution_count": 86,
   "id": "imperial-headquarters",
   "metadata": {},
   "outputs": [
    {
     "name": "stdout",
     "output_type": "stream",
     "text": [
      "    IndexStep  TimeStep  LevelBefore  LevelAfter  StepSize  \\\n",
      "0          32        32    -0.041284   -0.024830  0.016454   \n",
      "1          66        66    -0.024830   -0.011829  0.013001   \n",
      "2          99        99    -0.011829   -0.004210  0.007620   \n",
      "3         118       118    -0.004210    0.000370  0.004580   \n",
      "4         553       553     0.000370   -0.004152 -0.004522   \n",
      "..        ...       ...          ...         ...       ...   \n",
      "66      15929     15929    -0.083995   -0.098007 -0.014012   \n",
      "67      15946     15946    -0.098007   -0.113502 -0.015495   \n",
      "68      15964     15964    -0.113502   -0.129427 -0.015924   \n",
      "69      15980     15980    -0.129427   -0.145526 -0.016100   \n",
      "70      15996     15996    -0.145526   -0.161630 -0.016104   \n",
      "\n",
      "    DwellTimeStepBefore  DwellTimeStepAfter  StepError  \n",
      "0                    31                  34   0.001686  \n",
      "1                    34                  33   0.001331  \n",
      "2                    33                  19   0.000907  \n",
      "3                    19                 435   0.000466  \n",
      "4                   435                 185   0.000222  \n",
      "..                  ...                 ...        ...  \n",
      "66                   19                  17   0.002022  \n",
      "67                   17                  18   0.002215  \n",
      "68                   18                  16   0.002300  \n",
      "69                   16                  16   0.002459  \n",
      "70                   16                  11   0.003646  \n",
      "\n",
      "[71 rows x 8 columns]\n"
     ]
    }
   ],
   "source": [
    "txtpath_changepoint = r\"C:\\Users\\KTS260\\Desktop\\StepFit_Result\" + \"\\\\\" + \"1st_derivative_data-20200821-017-002-processedData.xlsx_properties\" + '.txt'\n",
    "# print(txtpath_changepoint)\n",
    "data_stepfinder = pd.read_csv(txtpath_changepoint, sep=\",\", skipinitialspace = True)\n",
    "print(data_stepfinder)\n",
    "changepoint_index = np.array(data_stepfinder['IndexStep'])\n",
    "# print(changepoint_index)"
   ]
  },
  {
   "cell_type": "code",
   "execution_count": 102,
   "id": "standing-assignment",
   "metadata": {},
   "outputs": [
    {
     "data": {
      "application/vnd.jupyter.widget-view+json": {
       "model_id": "3656bd24f455447b830c386ffc6a6e9b",
       "version_major": 2,
       "version_minor": 0
      },
      "text/plain": [
       "Canvas(toolbar=Toolbar(toolitems=[('Home', 'Reset original view', 'home', 'home'), ('Back', 'Back to previous …"
      ]
     },
     "metadata": {},
     "output_type": "display_data"
    }
   ],
   "source": [
    "# plot the change-points on the basepair plot\n",
    "plt.figure(figsize=(6,4))\n",
    "font = {'family': 'serif',\n",
    "        'weight': 'normal',\n",
    "        'size': 16}\n",
    "\n",
    "plt.xlabel('Time/s',fontdict=font)\n",
    "plt.ylabel('Basepairs',fontdict=font)\n",
    "plt.plot(data['time']/1000,data['basepairs'],color='lightgray', linestyle='dashed',linewidth=1, label='Basepairs')\n",
    "plt.plot(data['time']/1000,basepairs_filter,color='black',linewidth=1, label='SG_filter-windsize=65')\n",
    "plt.title('Basepairs Changes as a Function of Time',fontdict=font)\n",
    "plt.show()\n",
    "plt.tight_layout()\n"
   ]
  },
  {
   "cell_type": "code",
   "execution_count": 103,
   "id": "hindu-quest",
   "metadata": {},
   "outputs": [],
   "source": [
    "# plot the change-points on the basepair plot\n",
    "changepoint_time = data['time'][changepoint_index]\n",
    "changepoint_basepairs = basepairs_filter[changepoint_index]\n",
    "plt.scatter(changepoint_time/1000,changepoint_basepairs,marker='*',c=\"blue\", s = 100, label = \"breaking points\")\n",
    "# plt.xlim(300,400)\n",
    "# plt.ylim(7200,7800)\n",
    "plt.legend()\n",
    "plt.show()"
   ]
  },
  {
   "cell_type": "code",
   "execution_count": 104,
   "id": "forced-major",
   "metadata": {},
   "outputs": [
    {
     "name": "stdout",
     "output_type": "stream",
     "text": [
      "[  1.7     1.649   0.95   21.743   9.248 171.      4.099   2.05    7.147\n",
      "   1.799  31.443   4.996   1.8     7.248   5.548   1.4     9.596  24.444\n",
      "   5.447   4.75    5.398   3.098  16.195  10.798   2.5     2.098   3.55\n",
      "   5.047   1.3    19.095  15.495   2.35    6.947   4.749   4.5     1.249\n",
      "   7.098   6.148   2.399  12.397   7.896   6.399   2.249  18.245 216.886\n",
      "   2.049   1.301   1.898   8.248   0.849   1.199   3.95    4.95    6.546\n",
      "   5.549   1.45    2.898   5.65    8.396  18.796   6.247   6.149   1.199\n",
      "   2.301   1.9     0.948   0.851   0.899   0.8     0.801]\n"
     ]
    }
   ],
   "source": [
    "# define the variable of dwell_time, processivity, rate\n",
    "dwell_time = np.diff(changepoint_time)\n",
    "processvity = np.diff(changepoint_basepairs)\n",
    "rate = np.diff(changepoint_basepairs)/np.diff(changepoint_time) *1000\n",
    "rate_before_changepoint = rate[:-1]\n",
    "rate_after_changepoint = rate[1:]\n",
    "print(dwell_time/1000)"
   ]
  },
  {
   "cell_type": "code",
   "execution_count": 105,
   "id": "leading-hammer",
   "metadata": {},
   "outputs": [
    {
     "data": {
      "application/vnd.jupyter.widget-view+json": {
       "model_id": "a3fbc6a04a004e14a89d37cbf2687075",
       "version_major": 2,
       "version_minor": 0
      },
      "text/plain": [
       "Canvas(toolbar=Toolbar(toolitems=[('Home', 'Reset original view', 'home', 'home'), ('Back', 'Back to previous …"
      ]
     },
     "metadata": {},
     "output_type": "display_data"
    },
    {
     "name": "stderr",
     "output_type": "stream",
     "text": [
      "c:\\users\\kts260\\appdata\\local\\programs\\python\\python38\\lib\\site-packages\\seaborn\\_decorators.py:36: FutureWarning: Pass the following variable as a keyword arg: y. From version 0.12, the only valid positional argument will be `data`, and passing other arguments without an explicit keyword will result in an error or misinterpretation.\n",
      "  warnings.warn(\n"
     ]
    }
   ],
   "source": [
    "# plot all the data\n",
    "from scipy import stats\n",
    "import seaborn as sns\n",
    "\n",
    "plt.figure(figsize = (10,3))\n",
    "n_bins = 10\n",
    "\n",
    "plt.subplot(1, 4, 1)\n",
    "n, bins, patches = plt.hist(dwell_time/1000, n_bins,alpha=0.5)\n",
    "plt.title('Dwell Time Analysis')\n",
    "plt.xlabel('Dwell time(s)')\n",
    "plt.ylabel('Count')\n",
    "\n",
    "plt.subplot(1, 4, 2)\n",
    "n, bins, patches = plt.hist(processvity, n_bins,alpha=0.5)\n",
    "plt.title('Processivity Analysis')\n",
    "plt.xlabel('Processivity')\n",
    "plt.ylabel('Count')\n",
    "\n",
    "plt.subplot(1, 4, 3)\n",
    "n, bins, patches = plt.hist(rate, n_bins,alpha=0.5)\n",
    "plt.title('Rate')\n",
    "plt.xlabel('Rate')\n",
    "plt.ylabel('Count')\n",
    "\n",
    "plt.subplot(1, 4, 4)\n",
    "# set seaborn style\n",
    "sns.set_style(\"white\")\n",
    "# Basic 2D density plot # Add thresh parameter\n",
    "sns.kdeplot(rate_before_changepoint, rate_after_changepoint, cmap=\"Blues\", shade=True, thresh=0)\n",
    "\n",
    "plt.title('Rate Transition Analysis')\n",
    "plt.xlabel('Rate Before change-point')\n",
    "plt.ylabel('Rate After Change-point')\n",
    "\n",
    "plt.show()\n",
    "plt.tight_layout()"
   ]
  },
  {
   "cell_type": "code",
   "execution_count": 106,
   "id": "pleased-profile",
   "metadata": {},
   "outputs": [],
   "source": [
    "# Save all the analyzed data in an excel file\n",
    "excel_filename = path + \"-filteredData\" + '.xlsx'\n",
    "# no idea why it causes errors without this step\n",
    "writer = pd.ExcelWriter(excel_filename)\n",
    "data = {'time':data['time']/1000,\n",
    "        'basepairs_fileter':basepairs_filter }\n",
    "df = pd.DataFrame(data)\n",
    "df.to_excel(writer)\n",
    "writer.save()"
   ]
  },
  {
   "cell_type": "code",
   "execution_count": 107,
   "id": "loved-avatar",
   "metadata": {},
   "outputs": [],
   "source": [
    "# Save all the analyzed data in an excel file\n",
    "excel_filename = path + \"-yprimeData\" + '.xlsx'\n",
    "# no idea why it causes errors without this step\n",
    "writer = pd.ExcelWriter(excel_filename)\n",
    "data = {'time':x[:-1],\n",
    "        'yprime':yprime}\n",
    "df = pd.DataFrame(data)\n",
    "df.to_excel(writer)\n",
    "writer.save()"
   ]
  }
 ],
 "metadata": {
  "kernelspec": {
   "display_name": "Python 3",
   "language": "python",
   "name": "python3"
  },
  "language_info": {
   "codemirror_mode": {
    "name": "ipython",
    "version": 3
   },
   "file_extension": ".py",
   "mimetype": "text/x-python",
   "name": "python",
   "nbconvert_exporter": "python",
   "pygments_lexer": "ipython3",
   "version": "3.8.8"
  }
 },
 "nbformat": 4,
 "nbformat_minor": 5
}
